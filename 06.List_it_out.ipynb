{
 "cells": [
  {
   "cell_type": "markdown",
   "metadata": {
    "toc": "true"
   },
   "source": [
    "# Table of Contents\n",
    " <p><div class=\"lev1 toc-item\"><a href=\"#Lists\" data-toc-modified-id=\"Lists-1\"><span class=\"toc-item-num\">1&nbsp;&nbsp;</span>Lists</a></div><div class=\"lev2 toc-item\"><a href=\"#Final-Problem\" data-toc-modified-id=\"Final-Problem-11\"><span class=\"toc-item-num\">1.1&nbsp;&nbsp;</span>Final Problem</a></div><div class=\"lev2 toc-item\"><a href=\"#Indexing-and-Slicing-:-How-to-access-parts-of-a-list\" data-toc-modified-id=\"Indexing-and-Slicing-:-How-to-access-parts-of-a-list-12\"><span class=\"toc-item-num\">1.2&nbsp;&nbsp;</span>Indexing and Slicing : How to access parts of a list</a></div><div class=\"lev3 toc-item\"><a href=\"#Exercise\" data-toc-modified-id=\"Exercise-121\"><span class=\"toc-item-num\">1.2.1&nbsp;&nbsp;</span>Exercise</a></div><div class=\"lev2 toc-item\"><a href=\"#List-Functions\" data-toc-modified-id=\"List-Functions-13\"><span class=\"toc-item-num\">1.3&nbsp;&nbsp;</span>List Functions</a></div><div class=\"lev2 toc-item\"><a href=\"#Finding-Items\" data-toc-modified-id=\"Finding-Items-14\"><span class=\"toc-item-num\">1.4&nbsp;&nbsp;</span>Finding Items</a></div><div class=\"lev3 toc-item\"><a href=\"#Exercise\" data-toc-modified-id=\"Exercise-141\"><span class=\"toc-item-num\">1.4.1&nbsp;&nbsp;</span>Exercise</a></div><div class=\"lev2 toc-item\"><a href=\"#Numerical-Functions-with-Lists\" data-toc-modified-id=\"Numerical-Functions-with-Lists-15\"><span class=\"toc-item-num\">1.5&nbsp;&nbsp;</span>Numerical Functions with Lists</a></div><div class=\"lev3 toc-item\"><a href=\"#Exercise\" data-toc-modified-id=\"Exercise-151\"><span class=\"toc-item-num\">1.5.1&nbsp;&nbsp;</span>Exercise</a></div><div class=\"lev2 toc-item\"><a href=\"#Exercise\" data-toc-modified-id=\"Exercise-16\"><span class=\"toc-item-num\">1.6&nbsp;&nbsp;</span>Exercise</a></div><div class=\"lev1 toc-item\"><a href=\"#Sets\" data-toc-modified-id=\"Sets-2\"><span class=\"toc-item-num\">2&nbsp;&nbsp;</span>Sets</a></div><div class=\"lev3 toc-item\"><a href=\"#Exercise\" data-toc-modified-id=\"Exercise-201\"><span class=\"toc-item-num\">2.0.1&nbsp;&nbsp;</span>Exercise</a></div><div class=\"lev1 toc-item\"><a href=\"#Tuples\" data-toc-modified-id=\"Tuples-3\"><span class=\"toc-item-num\">3&nbsp;&nbsp;</span>Tuples</a></div><div class=\"lev2 toc-item\"><a href=\"#Tuples-and-Numbers\" data-toc-modified-id=\"Tuples-and-Numbers-31\"><span class=\"toc-item-num\">3.1&nbsp;&nbsp;</span>Tuples and Numbers</a></div><div class=\"lev1 toc-item\"><a href=\"#Dictionaries\" data-toc-modified-id=\"Dictionaries-4\"><span class=\"toc-item-num\">4&nbsp;&nbsp;</span>Dictionaries</a></div><div class=\"lev2 toc-item\"><a href=\"#Common-Dictionary-Operations\" data-toc-modified-id=\"Common-Dictionary-Operations-41\"><span class=\"toc-item-num\">4.1&nbsp;&nbsp;</span>Common Dictionary Operations</a></div><div class=\"lev2 toc-item\"><a href=\"#Exercise\" data-toc-modified-id=\"Exercise-42\"><span class=\"toc-item-num\">4.2&nbsp;&nbsp;</span>Exercise</a></div>"
   ]
  },
  {
   "cell_type": "markdown",
   "metadata": {},
   "source": [
    "Collections of Items: Lists, Sets, Tuples, Dictionaries"
   ]
  },
  {
   "cell_type": "markdown",
   "metadata": {},
   "source": [
    "# Lists"
   ]
  },
  {
   "cell_type": "markdown",
   "metadata": {},
   "source": [
    "Python has many ways to store a collection of similar or dissimilar items.\n",
    "\n",
    "You have already encountered lists, even though you haven't been formally introduced."
   ]
  },
  {
   "cell_type": "markdown",
   "metadata": {},
   "source": [
    "## Final Problem"
   ]
  },
  {
   "cell_type": "code",
   "execution_count": 2,
   "metadata": {},
   "outputs": [],
   "source": [
    "final = \"It is with a heavy heart that I take up my pen to write these the last words in which I shall ever record the singular gifts by which my friend Mr. Sherlock Holmes was distinguished.\""
   ]
  },
  {
   "cell_type": "code",
   "execution_count": 3,
   "metadata": {},
   "outputs": [
    {
     "data": {
      "text/plain": [
       "['It',\n",
       " 'is',\n",
       " 'with',\n",
       " 'a',\n",
       " 'heavy',\n",
       " 'heart',\n",
       " 'that',\n",
       " 'I',\n",
       " 'take',\n",
       " 'up',\n",
       " 'my',\n",
       " 'pen',\n",
       " 'to',\n",
       " 'write',\n",
       " 'these',\n",
       " 'the',\n",
       " 'last',\n",
       " 'words',\n",
       " 'in',\n",
       " 'which',\n",
       " 'I',\n",
       " 'shall',\n",
       " 'ever',\n",
       " 'record',\n",
       " 'the',\n",
       " 'singular',\n",
       " 'gifts',\n",
       " 'by',\n",
       " 'which',\n",
       " 'my',\n",
       " 'friend',\n",
       " 'Mr',\n",
       " 'Sherlock',\n",
       " 'Holmes',\n",
       " 'was',\n",
       " 'distinguished']"
      ]
     },
     "execution_count": 3,
     "metadata": {},
     "output_type": "execute_result"
    }
   ],
   "source": [
    "final = final.replace(\".\", \"\")\n",
    "final = final.split(\" \")\n",
    "final"
   ]
  },
  {
   "cell_type": "code",
   "execution_count": 4,
   "metadata": {},
   "outputs": [
    {
     "data": {
      "text/plain": [
       "list"
      ]
     },
     "execution_count": 4,
     "metadata": {},
     "output_type": "execute_result"
    }
   ],
   "source": [
    "type(final)"
   ]
  },
  {
   "cell_type": "markdown",
   "metadata": {},
   "source": [
    "<img src=\"images/pylists.jpg\">"
   ]
  },
  {
   "cell_type": "markdown",
   "metadata": {},
   "source": [
    "Lists are a great way to store items of multiple types."
   ]
  },
  {
   "cell_type": "code",
   "execution_count": 5,
   "metadata": {},
   "outputs": [
    {
     "name": "stdout",
     "output_type": "stream",
     "text": [
      "['Sherlock', True, 42]\n",
      "<class 'list'>\n"
     ]
    }
   ],
   "source": [
    "all_info = [\"Sherlock\", True, 42]\n",
    "print(all_info)\n",
    "print(type(all_info))"
   ]
  },
  {
   "cell_type": "code",
   "execution_count": 6,
   "metadata": {},
   "outputs": [
    {
     "name": "stdout",
     "output_type": "stream",
     "text": [
      "['Watson', 'Hooley', ['Sherlock', True, 42]]\n",
      "<class 'list'>\n"
     ]
    }
   ],
   "source": [
    "more_info = [\"Watson\", \"Hooley\", all_info]\n",
    "print(more_info)\n",
    "print(type(more_info))"
   ]
  },
  {
   "cell_type": "markdown",
   "metadata": {},
   "source": [
    "## Indexing and Slicing : How to access parts of a list"
   ]
  },
  {
   "cell_type": "code",
   "execution_count": 7,
   "metadata": {},
   "outputs": [
    {
     "data": {
      "text/plain": [
       "'Sherlock'"
      ]
     },
     "execution_count": 7,
     "metadata": {},
     "output_type": "execute_result"
    }
   ],
   "source": [
    "all_info = [\"Sherlock\", True, 42]\n",
    "all_info[0]"
   ]
  },
  {
   "cell_type": "code",
   "execution_count": 8,
   "metadata": {},
   "outputs": [
    {
     "data": {
      "text/plain": [
       "True"
      ]
     },
     "execution_count": 8,
     "metadata": {},
     "output_type": "execute_result"
    }
   ],
   "source": [
    "all_info[1]"
   ]
  },
  {
   "cell_type": "code",
   "execution_count": 9,
   "metadata": {},
   "outputs": [
    {
     "data": {
      "text/plain": [
       "['Sherlock', True, 42]"
      ]
     },
     "execution_count": 9,
     "metadata": {},
     "output_type": "execute_result"
    }
   ],
   "source": [
    "more_info = [\"Watson\", \"Hooley\", all_info]\n",
    "more_info[-1]"
   ]
  },
  {
   "cell_type": "code",
   "execution_count": 10,
   "metadata": {},
   "outputs": [
    {
     "data": {
      "text/plain": [
       "'Sherlock'"
      ]
     },
     "execution_count": 10,
     "metadata": {},
     "output_type": "execute_result"
    }
   ],
   "source": [
    "more_info[-1][0]"
   ]
  },
  {
   "cell_type": "code",
   "execution_count": 11,
   "metadata": {},
   "outputs": [
    {
     "data": {
      "text/plain": [
       "1"
      ]
     },
     "execution_count": 11,
     "metadata": {},
     "output_type": "execute_result"
    }
   ],
   "source": [
    "a_list = [1,2,3,4,5,6,7,8,9,10]\n",
    "a_list[0]"
   ]
  },
  {
   "cell_type": "code",
   "execution_count": 12,
   "metadata": {},
   "outputs": [
    {
     "data": {
      "text/plain": [
       "[3, 4]"
      ]
     },
     "execution_count": 12,
     "metadata": {},
     "output_type": "execute_result"
    }
   ],
   "source": [
    "a_list[2:4]"
   ]
  },
  {
   "cell_type": "code",
   "execution_count": 13,
   "metadata": {},
   "outputs": [
    {
     "data": {
      "text/plain": [
       "[2, 3, 4, 5, 6, 7, 8, 9, 10]"
      ]
     },
     "execution_count": 13,
     "metadata": {},
     "output_type": "execute_result"
    }
   ],
   "source": [
    "a_list[1:]"
   ]
  },
  {
   "cell_type": "code",
   "execution_count": 14,
   "metadata": {},
   "outputs": [
    {
     "data": {
      "text/plain": [
       "[8, 9, 10]"
      ]
     },
     "execution_count": 14,
     "metadata": {},
     "output_type": "execute_result"
    }
   ],
   "source": [
    "a_list[-3:]"
   ]
  },
  {
   "cell_type": "code",
   "execution_count": 15,
   "metadata": {},
   "outputs": [
    {
     "data": {
      "text/plain": [
       "[4, 5, 6]"
      ]
     },
     "execution_count": 15,
     "metadata": {},
     "output_type": "execute_result"
    }
   ],
   "source": [
    "a_list[3:6]"
   ]
  },
  {
   "cell_type": "code",
   "execution_count": 16,
   "metadata": {},
   "outputs": [
    {
     "data": {
      "text/plain": [
       "[1, 2, 3]"
      ]
     },
     "execution_count": 16,
     "metadata": {},
     "output_type": "execute_result"
    }
   ],
   "source": [
    "a_list[0:3]"
   ]
  },
  {
   "cell_type": "markdown",
   "metadata": {},
   "source": [
    "### Exercise\n",
    "Print out the second and last items of the list within the list more_info\n",
    "\n",
    "* all_info = [\"Sherlock\", True, 42]\n",
    "* more_info = [\"Watson\", \"Hooley\", all_info]"
   ]
  },
  {
   "cell_type": "code",
   "execution_count": 17,
   "metadata": {},
   "outputs": [
    {
     "name": "stdout",
     "output_type": "stream",
     "text": [
      "[True, 42]\n"
     ]
    }
   ],
   "source": [
    "print(more_info[2][1:])"
   ]
  },
  {
   "cell_type": "markdown",
   "metadata": {},
   "source": [
    "## List Functions\n",
    "These come in handy when working with larger data sets where you need to add to your existing information base."
   ]
  },
  {
   "cell_type": "code",
   "execution_count": 18,
   "metadata": {},
   "outputs": [],
   "source": [
    "incubees = [\"Richard\", \"Gilfoyle\", \"Dinesh\", \"Nelson\"]"
   ]
  },
  {
   "cell_type": "code",
   "execution_count": 19,
   "metadata": {},
   "outputs": [
    {
     "data": {
      "text/plain": [
       "list"
      ]
     },
     "execution_count": 19,
     "metadata": {},
     "output_type": "execute_result"
    }
   ],
   "source": [
    "type(incubees)"
   ]
  },
  {
   "cell_type": "code",
   "execution_count": 20,
   "metadata": {},
   "outputs": [
    {
     "data": {
      "text/plain": [
       "['Richard', 'Gilfoyle', 'Dinesh', 'Nelson', 'Jian Yang']"
      ]
     },
     "execution_count": 20,
     "metadata": {},
     "output_type": "execute_result"
    }
   ],
   "source": [
    "incubees.append(\"Jian Yang\")\n",
    "incubees"
   ]
  },
  {
   "cell_type": "code",
   "execution_count": 21,
   "metadata": {},
   "outputs": [
    {
     "data": {
      "text/plain": [
       "['Richard', 'Gilfoyle', 'Dinesh', 'Nelson', 'Jian Yang', ['Aly', 'Jason']]"
      ]
     },
     "execution_count": 21,
     "metadata": {},
     "output_type": "execute_result"
    }
   ],
   "source": [
    "brogrammers = [\"Aly\", \"Jason\"]\n",
    "incubees.append(brogrammers)\n",
    "incubees"
   ]
  },
  {
   "cell_type": "code",
   "execution_count": 22,
   "metadata": {},
   "outputs": [],
   "source": [
    "incubees = [\"Richard\", \"Gilfoyle\", \"Dinesh\", \"Nelson\"]"
   ]
  },
  {
   "cell_type": "code",
   "execution_count": 23,
   "metadata": {},
   "outputs": [],
   "source": [
    "incubees.extend(brogrammers)"
   ]
  },
  {
   "cell_type": "code",
   "execution_count": 24,
   "metadata": {},
   "outputs": [
    {
     "data": {
      "text/plain": [
       "['Richard', 'Gilfoyle', 'Dinesh', 'Nelson', 'Aly', 'Jason']"
      ]
     },
     "execution_count": 24,
     "metadata": {},
     "output_type": "execute_result"
    }
   ],
   "source": [
    "incubees"
   ]
  },
  {
   "cell_type": "markdown",
   "metadata": {},
   "source": [
    "Let's look at this again, comparing the two approaches."
   ]
  },
  {
   "cell_type": "code",
   "execution_count": 25,
   "metadata": {},
   "outputs": [
    {
     "name": "stdout",
     "output_type": "stream",
     "text": [
      "['Richard', 'Gilfoyle', 'Dinesh', 'Nelson', ['Aly', 'Jason']]\n",
      "5\n"
     ]
    }
   ],
   "source": [
    "incubees1 = [\"Richard\", \"Gilfoyle\", \"Dinesh\", \"Nelson\"]\n",
    "brogrammers1 = [\"Aly\", \"Jason\"]\n",
    "incubees1.append(brogrammers1)\n",
    "print(incubees1)\n",
    "print(len(incubees1))"
   ]
  },
  {
   "cell_type": "code",
   "execution_count": 26,
   "metadata": {
    "scrolled": true
   },
   "outputs": [
    {
     "name": "stdout",
     "output_type": "stream",
     "text": [
      "['Richard', 'Gilfoyle', 'Dinesh', 'Nelson', 'Aly', 'Jason']\n",
      "6\n"
     ]
    }
   ],
   "source": [
    "incubees2 = [\"Richard\", \"Gilfoyle\", \"Dinesh\", \"Nelson\"]\n",
    "brogrammers2 = [\"Aly\", \"Jason\"]\n",
    "incubees2.extend(brogrammers2)\n",
    "print(incubees2)\n",
    "print(len(incubees2))"
   ]
  },
  {
   "cell_type": "code",
   "execution_count": 27,
   "metadata": {},
   "outputs": [
    {
     "name": "stdout",
     "output_type": "stream",
     "text": [
      "['Dinesh', 'Gilfoyle', 'Nelson', 'Richard']\n"
     ]
    }
   ],
   "source": [
    "incubees = [\"Richard\", \"Gilfoyle\", \"Dinesh\", \"Nelson\"]\n",
    "incubees.sort()\n",
    "print(incubees)"
   ]
  },
  {
   "cell_type": "code",
   "execution_count": 28,
   "metadata": {},
   "outputs": [
    {
     "name": "stdout",
     "output_type": "stream",
     "text": [
      "['Richard', 'Nelson', 'Gilfoyle', 'Dinesh']\n"
     ]
    }
   ],
   "source": [
    "incubees.reverse()\n",
    "print(incubees)"
   ]
  },
  {
   "cell_type": "code",
   "execution_count": 29,
   "metadata": {},
   "outputs": [
    {
     "name": "stdout",
     "output_type": "stream",
     "text": [
      "['Richard', 'Gilfoyle', 'Dinesh', 'Nelson', 'Aly', 'Jason']\n"
     ]
    }
   ],
   "source": [
    "incubees = [\"Richard\", \"Gilfoyle\", \"Dinesh\", \"Nelson\"]\n",
    "brogrammers = [\"Aly\", \"Jason\"]\n",
    "\n",
    "print(incubees + brogrammers)"
   ]
  },
  {
   "cell_type": "code",
   "execution_count": 30,
   "metadata": {},
   "outputs": [
    {
     "name": "stdout",
     "output_type": "stream",
     "text": [
      "['Richard', 'Gilfoyle', 'Dinesh', 'Nelson', 'Aly', 'Jason', 'Richard', 'Gilfoyle', 'Dinesh', 'Nelson', 'Aly', 'Jason']\n"
     ]
    }
   ],
   "source": [
    "new_list = incubees + brogrammers\n",
    "print (new_list*2)"
   ]
  },
  {
   "cell_type": "markdown",
   "metadata": {},
   "source": [
    "As a general rule though, if you're adding a single item, use append. Try what happens if you use the .extend method to add a single item, like \"Jian Yang\" to our list of original Incubees."
   ]
  },
  {
   "cell_type": "markdown",
   "metadata": {},
   "source": [
    "## Finding Items"
   ]
  },
  {
   "cell_type": "code",
   "execution_count": 31,
   "metadata": {},
   "outputs": [
    {
     "data": {
      "text/plain": [
       "0"
      ]
     },
     "execution_count": 31,
     "metadata": {},
     "output_type": "execute_result"
    }
   ],
   "source": [
    "incubees = [\"Richard\", \"Gilfoyle\", \"Dinesh\", \"Nelson\"]\n",
    "incubees.index(\"Richard\")"
   ]
  },
  {
   "cell_type": "code",
   "execution_count": 32,
   "metadata": {},
   "outputs": [
    {
     "data": {
      "text/plain": [
       "2"
      ]
     },
     "execution_count": 32,
     "metadata": {},
     "output_type": "execute_result"
    }
   ],
   "source": [
    "incubees.index(\"Dinesh\")"
   ]
  },
  {
   "cell_type": "code",
   "execution_count": 33,
   "metadata": {},
   "outputs": [
    {
     "ename": "ValueError",
     "evalue": "'Jian Yang' is not in list",
     "output_type": "error",
     "traceback": [
      "\u001b[1;31m---------------------------------------------------------------------------\u001b[0m",
      "\u001b[1;31mValueError\u001b[0m                                Traceback (most recent call last)",
      "\u001b[1;32m<ipython-input-33-c7cb8ba40671>\u001b[0m in \u001b[0;36m<module>\u001b[1;34m()\u001b[0m\n\u001b[1;32m----> 1\u001b[1;33m \u001b[0mincubees\u001b[0m\u001b[1;33m.\u001b[0m\u001b[0mindex\u001b[0m\u001b[1;33m(\u001b[0m\u001b[1;34m\"Jian Yang\"\u001b[0m\u001b[1;33m)\u001b[0m\u001b[1;33m\u001b[0m\u001b[0m\n\u001b[0m",
      "\u001b[1;31mValueError\u001b[0m: 'Jian Yang' is not in list"
     ]
    }
   ],
   "source": [
    "incubees.index(\"Jian Yang\")"
   ]
  },
  {
   "cell_type": "code",
   "execution_count": 34,
   "metadata": {},
   "outputs": [],
   "source": [
    "incubees2 = incubees*2"
   ]
  },
  {
   "cell_type": "code",
   "execution_count": 35,
   "metadata": {},
   "outputs": [
    {
     "data": {
      "text/plain": [
       "2"
      ]
     },
     "execution_count": 35,
     "metadata": {},
     "output_type": "execute_result"
    }
   ],
   "source": [
    "incubees2.count(\"Richard\")"
   ]
  },
  {
   "cell_type": "code",
   "execution_count": 36,
   "metadata": {},
   "outputs": [
    {
     "data": {
      "text/plain": [
       "['Richard', 'Gilfoyle', 'Dinesh', 'Nelson']"
      ]
     },
     "execution_count": 36,
     "metadata": {},
     "output_type": "execute_result"
    }
   ],
   "source": [
    "incubees = [\"Richard\", \"Gilfoyle\", \"Dinesh\", \"Nelson\"]\n",
    "incubees"
   ]
  },
  {
   "cell_type": "code",
   "execution_count": 37,
   "metadata": {},
   "outputs": [],
   "source": [
    "incubees.insert(0, \"Jian Yang\")"
   ]
  },
  {
   "cell_type": "code",
   "execution_count": 38,
   "metadata": {},
   "outputs": [
    {
     "data": {
      "text/plain": [
       "['Jian Yang', 'Richard', 'Gilfoyle', 'Dinesh', 'Nelson']"
      ]
     },
     "execution_count": 38,
     "metadata": {},
     "output_type": "execute_result"
    }
   ],
   "source": [
    "incubees"
   ]
  },
  {
   "cell_type": "code",
   "execution_count": 39,
   "metadata": {},
   "outputs": [
    {
     "data": {
      "text/plain": [
       "['Richard', 'Gilfoyle', 'Dinesh', 'Nelson']"
      ]
     },
     "execution_count": 39,
     "metadata": {},
     "output_type": "execute_result"
    }
   ],
   "source": [
    "incubees.pop(0)\n",
    "incubees"
   ]
  },
  {
   "cell_type": "markdown",
   "metadata": {},
   "source": [
    "### Exercise\n",
    "* Convert the passage below into a list after replacing all punctuation \n",
    "* Who is mentioned more times - Sherlock or Moriarty?\n",
    "* How many times does the author refer to himself? (Hint: Count the use of the word 'my')"
   ]
  },
  {
   "cell_type": "code",
   "execution_count": 50,
   "metadata": {},
   "outputs": [],
   "source": [
    "passage = \"\"\"It is with a heavy heart that I take up my pen to write these the last words in which I shall ever record the\n",
    "singular gifts by which my friend Mr. Sherlock Holmes was distinguished. In an incoherent and, as I deeply feel, an entirely\n",
    "inadequate fashion, I have endeavored to give some account of my strange experiences in his company from the chance which first\n",
    "brought us together at the period of the “Study in Scarlet,” up to the time of his interference in the matter of the\n",
    "“Naval Treaty”—an interference which had the unquestionable effect of preventing a serious international complication. It was my\n",
    "intention to have stopped there, and to have said nothing of that event which has created a void in my life which the lapse of\n",
    "two years has done little to fill. My hand has been forced, however, by the recent letters in which Colonel James Moriarty\n",
    "defends the memory of his brother, and I have no choice but to lay the facts before the public exactly as they occurred. I alone\n",
    "know the absolute truth of the matter, and I am satisfied that the time has come when no good purpose is to be served by its\n",
    "suppression. As far as I know, there have been only three accounts in the public press: that in the Journal de Geneve on May 6th,\n",
    "1891, the Reuter’s despatch in the English papers on May 7th, and finally the recent letter to which I have alluded. Of these the\n",
    "first and second were extremely condensed, while the last is, as I shall now show, an absolute perversion of the facts. It lies\n",
    "with me to tell for the first time what really took place between Professor Moriarty and Mr. Sherlock Holmes.\n",
    "It may be remembered that after my marriage, and my subsequent start in private practice, the very intimate relations which had\n",
    "existed between Holmes and myself became to some extent modified. He still came to me from time to time when he desired a \n",
    "companion in his investigation, but these occasions grew more and more seldom, until I find that in the year 1890 there were only\n",
    "three cases of which I retain any record. During the winter of that year and the early spring of 1891, I saw in the papers that\n",
    "he had been engaged by the French government upon a matter of supreme importance, and I received two notes from Holmes, dated\n",
    "from Narbonne and from Nimes, from which I gathered that his stay in France was likely to be a long one. It was with some\n",
    "surprise, therefore, that I saw him walk into my consulting-room upon the evening of April 24th. It struck me that he was looking\n",
    "even paler and thinner than usual.\"\"\""
   ]
  },
  {
   "cell_type": "code",
   "execution_count": 51,
   "metadata": {},
   "outputs": [
    {
     "name": "stdout",
     "output_type": "stream",
     "text": [
      "They are counted the same amount of times.\n"
     ]
    }
   ],
   "source": [
    "passage = passage.replace('.','')\n",
    "passage = passage.replace(',','')\n",
    "passage = passage.split()\n",
    "passage\n",
    "if passage.count('Sherlock') > passage.count('Moriarty'):\n",
    "    print('Sherlock is counted more. It is counted ',passage.count('Sherlock'))\n",
    "elif passage.count('Sherlock') < passage.count('Moriarty'):\n",
    "    print('Moriarty is counted more. It is counted ',passage.count('Moriarty'))\n",
    "else:\n",
    "    print('They are counted the same amount of times.')\n",
    "# passage.count('my')\n"
   ]
  },
  {
   "cell_type": "markdown",
   "metadata": {},
   "source": [
    "## Numerical Functions with Lists\n",
    "Lists are useful for more than just processing text."
   ]
  },
  {
   "cell_type": "code",
   "execution_count": 52,
   "metadata": {},
   "outputs": [],
   "source": [
    "list_a = [21,14,7,19,15,47,42,55,97,92]"
   ]
  },
  {
   "cell_type": "code",
   "execution_count": 53,
   "metadata": {},
   "outputs": [
    {
     "data": {
      "text/plain": [
       "10"
      ]
     },
     "execution_count": 53,
     "metadata": {},
     "output_type": "execute_result"
    }
   ],
   "source": [
    "len(list_a)"
   ]
  },
  {
   "cell_type": "code",
   "execution_count": 54,
   "metadata": {},
   "outputs": [
    {
     "data": {
      "text/plain": [
       "409"
      ]
     },
     "execution_count": 54,
     "metadata": {},
     "output_type": "execute_result"
    }
   ],
   "source": [
    "sum(list_a)"
   ]
  },
  {
   "cell_type": "code",
   "execution_count": 55,
   "metadata": {},
   "outputs": [
    {
     "data": {
      "text/plain": [
       "97"
      ]
     },
     "execution_count": 55,
     "metadata": {},
     "output_type": "execute_result"
    }
   ],
   "source": [
    "max(list_a)"
   ]
  },
  {
   "cell_type": "code",
   "execution_count": 56,
   "metadata": {},
   "outputs": [
    {
     "data": {
      "text/plain": [
       "7"
      ]
     },
     "execution_count": 56,
     "metadata": {},
     "output_type": "execute_result"
    }
   ],
   "source": [
    "min(list_a)"
   ]
  },
  {
   "cell_type": "code",
   "execution_count": 57,
   "metadata": {},
   "outputs": [
    {
     "name": "stdout",
     "output_type": "stream",
     "text": [
      "90\n"
     ]
    }
   ],
   "source": [
    "range = max(list_a) - min(list_a)\n",
    "print(range)"
   ]
  },
  {
   "cell_type": "markdown",
   "metadata": {},
   "source": [
    "### Exercise\n",
    "list_a = [21,14,7,19,15,47,42,55,97,92]\n",
    "* Find the average of list_a\n",
    "* Find the median of list_a\n",
    "\n",
    "If you need a refresher on how to find the average (or mean) and median, we will cover that later."
   ]
  },
  {
   "cell_type": "code",
   "execution_count": 63,
   "metadata": {},
   "outputs": [
    {
     "name": "stdout",
     "output_type": "stream",
     "text": [
      "40.9\n",
      "[7, 14, 15, 19, 21, 42, 47, 55, 92, 97]\n",
      "42\n"
     ]
    }
   ],
   "source": [
    "list_a = [21,14,7,19,15,47,42,55,97,92]\n",
    "avg = sum(list_a)/len(list_a)\n",
    "print(avg)\n",
    "list_a.sort()\n",
    "print(list_a)\n",
    "median = list_a[int(len(list_a)/2)]\n",
    "print(median)"
   ]
  },
  {
   "cell_type": "markdown",
   "metadata": {},
   "source": [
    "## Exercise\n",
    "Let's combine lists, string methods and a bit of logic."
   ]
  },
  {
   "cell_type": "markdown",
   "metadata": {},
   "source": [
    "* Strip the passage of all punctuation\n",
    "* How many times does the word 'Titanic' appear?\n",
    "* How many times does 'Carpathia' appear?\n",
    "* Slightly trickier question - how many words does each paragraph have? (Hint: Split the passage at \"\\n\", then count the words for each paragraph)"
   ]
  },
  {
   "cell_type": "code",
   "execution_count": 22,
   "metadata": {},
   "outputs": [],
   "source": [
    "titanic = \"\"\"CAPE RACE, N.F., April 15. -- The White Star liner Olympic reports by wireless this evening that the Cunarder Carpathia reached, at daybreak this morning, the position from which wireless calls for help were sent out last night by the Titanic after her collision with an iceberg. The Carpathia found only the lifeboats and the wreckage of what had been the biggest steamship afloat.\n",
    "\n",
    "The Titanic had foundered at about 2:20 A.M., in latitude 41:46 north and longitude 50:14 west. This is about 30 minutes of latitude, or about 34 miles, due south of the position at which she struck the iceberg. All her boats are accounted for and about 655 souls have been saved of the crew and passengers, most of the latter presumably women and children. There were about 1,200 persons aboard the Titanic.\n",
    "\n",
    "The Leyland liner California is remaining and searching the position of the disaster, while the Carpathia is returning to New York with the survivors.\n",
    "\n",
    "It can be positively stated that up to 11 o'clock to-night nothing whatever had been received at or heard by the Marconi station here to the effect that the Parisian, Virginian or any other ships had picked up any survivors, other than those picked up by the Carpathia.\n",
    "\n",
    "First News of the Disaster.\n",
    "\n",
    "The first news of the disaster to the Titanic was received by the Marconi wireless station here at 10:25 o'clock last night (as told in yesterday's New York Times.) The Titanic was first heard giving the distress signal \"C. Q. D.,\" which was answered by a number of ships, including the Carpathia, the Baltic and the Olympic. The Titanic said she had struck an iceberg and was in immediate need of assistance, giving her position as latitude 41:46 north and longitude 50:14 west.\n",
    "\n",
    "At 10:55 o'clock the Titanic reported she was sinking by the head, and at 11:25 o'clock the station here established communication with the Allan liner Virginian, from Halifax to Liverpool, and notified her of the Titanic's urgent need of assistance and gave her the Titanic's position.\n",
    "\n",
    "The Virginian advised the Marconi station almost immediately that she was proceeding toward the scene of the disaster.\n",
    "\n",
    "At 11:36 o'clock the Titanic informed the Olympic that they were putting the women off in boats and instructed the Olympic to have her boats read to transfer the passangers.\n",
    "\n",
    "The Titanic, during all this time, continued to give distress signals and to announce her position.\n",
    "\n",
    "The wireless operator seemed absolutely cool and clear-headed, his sending throughout being steady and perfectly formed, and the judgment used by him was of the best.\n",
    "\n",
    "The last signals heard from the Titanic were received at 12:27 A.M., when the Virginian reported having heard a few blurred signals which ended abruptly.\"\"\""
   ]
  },
  {
   "cell_type": "code",
   "execution_count": 23,
   "metadata": {},
   "outputs": [
    {
     "name": "stdout",
     "output_type": "stream",
     "text": [
      "['CAPE RACE, N.F., April 15. -- The White Star liner Olympic reports by wireless this evening that the Cunarder Carpathia reached, at daybreak this morning, the position from which wireless calls for help were sent out last night by the Titanic after her collision with an iceberg. The Carpathia found only the lifeboats and the wreckage of what had been the biggest steamship afloat.', 'The Titanic had foundered at about 2:20 A.M., in latitude 41:46 north and longitude 50:14 west. This is about 30 minutes of latitude, or about 34 miles, due south of the position at which she struck the iceberg. All her boats are accounted for and about 655 souls have been saved of the crew and passengers, most of the latter presumably women and children. There were about 1,200 persons aboard the Titanic.', 'The Leyland liner California is remaining and searching the position of the disaster, while the Carpathia is returning to New York with the survivors.', \"It can be positively stated that up to 11 o'clock to-night nothing whatever had been received at or heard by the Marconi station here to the effect that the Parisian, Virginian or any other ships had picked up any survivors, other than those picked up by the Carpathia.\", 'First News of the Disaster.', 'The first news of the disaster to the Titanic was received by the Marconi wireless station here at 10:25 o\\'clock last night (as told in yesterday\\'s New York Times.) The Titanic was first heard giving the distress signal \"C. Q. D.,\" which was answered by a number of ships, including the Carpathia, the Baltic and the Olympic. The Titanic said she had struck an iceberg and was in immediate need of assistance, giving her position as latitude 41:46 north and longitude 50:14 west.', \"At 10:55 o'clock the Titanic reported she was sinking by the head, and at 11:25 o'clock the station here established communication with the Allan liner Virginian, from Halifax to Liverpool, and notified her of the Titanic's urgent need of assistance and gave her the Titanic's position.\", 'The Virginian advised the Marconi station almost immediately that she was proceeding toward the scene of the disaster.', \"At 11:36 o'clock the Titanic informed the Olympic that they were putting the women off in boats and instructed the Olympic to have her boats read to transfer the passangers.\", 'The Titanic, during all this time, continued to give distress signals and to announce her position.', 'The wireless operator seemed absolutely cool and clear-headed, his sending throughout being steady and perfectly formed, and the judgment used by him was of the best.', 'The last signals heard from the Titanic were received at 12:27 A.M., when the Virginian reported having heard a few blurred signals which ended abruptly.']\n",
      "The number of paragraphs is 12\n",
      "\n",
      "The number of words in paragraph 1 is 382\n",
      "The number of words in paragraph 2 is 408\n",
      "The number of words in paragraph 3 is 150\n",
      "The number of words in paragraph 4 is 269\n",
      "The number of words in paragraph 5 is 27\n",
      "The number of words in paragraph 6 is 479\n",
      "The number of words in paragraph 7 is 286\n",
      "The number of words in paragraph 8 is 118\n",
      "The number of words in paragraph 9 is 173\n",
      "The number of words in paragraph 10 is 99\n",
      "The number of words in paragraph 11 is 166\n",
      "The number of words in paragraph 12 is 153\n"
     ]
    }
   ],
   "source": [
    "import string\n",
    "# translator = str.maketrans('', '', string.punctuation)\n",
    "# titanic.translate(translator).replace('\\n', '')\n",
    "# titanic.translate(translator)\n",
    "\n",
    "# print('Titanic appears {} times'.format(titanic.count('Titanic')))\n",
    "# print('Carpathia appears {} times'.format(titanic.count('Carpathia')))\n",
    "\n",
    "x = titanic.split('\\n\\n')\n",
    "print(x)\n",
    "print('The number of paragraphs is {}'.format(len(x)))\n",
    "print()\n",
    "for i in range(len(x)):\n",
    "    cnt = 0\n",
    "    j = x[i]\n",
    "    for word in j:\n",
    "        cnt += 1\n",
    "    print('The number of words in paragraph {} is {}'.format(i + 1, cnt))\n"
   ]
  },
  {
   "cell_type": "markdown",
   "metadata": {},
   "source": [
    "# Sets"
   ]
  },
  {
   "cell_type": "markdown",
   "metadata": {},
   "source": [
    "Here's how you make a set. "
   ]
  },
  {
   "cell_type": "code",
   "execution_count": 24,
   "metadata": {},
   "outputs": [
    {
     "name": "stdout",
     "output_type": "stream",
     "text": [
      "{1, 2, 3, 4, 5}\n"
     ]
    }
   ],
   "source": [
    "set_a = {1,2,3,4,5}\n",
    "print(set_a)"
   ]
  },
  {
   "cell_type": "markdown",
   "metadata": {},
   "source": [
    "That's it. As simple as that.\n",
    "\n",
    "So why do we have sets, as opposed to just using lists?\n",
    "Sets are really fast when it comes to checking for membership. Here's how:"
   ]
  },
  {
   "cell_type": "code",
   "execution_count": 25,
   "metadata": {},
   "outputs": [
    {
     "data": {
      "text/plain": [
       "True"
      ]
     },
     "execution_count": 25,
     "metadata": {},
     "output_type": "execute_result"
    }
   ],
   "source": [
    "set_a = {1,2,3,4,5}\n",
    "5 in set_a"
   ]
  },
  {
   "cell_type": "code",
   "execution_count": 26,
   "metadata": {},
   "outputs": [
    {
     "data": {
      "text/plain": [
       "False"
      ]
     },
     "execution_count": 26,
     "metadata": {},
     "output_type": "execute_result"
    }
   ],
   "source": [
    "6 in set_a"
   ]
  },
  {
   "cell_type": "markdown",
   "metadata": {},
   "source": [
    "But wait, there's more!"
   ]
  },
  {
   "cell_type": "markdown",
   "metadata": {},
   "source": [
    "+ `set_a.add(x)`: add a value to a set\n",
    "+ `set_a.remove(x)`: remove a value from a set\n",
    "+ `set_a - set_b`: return values in a but not in b. \n",
    "+ `set_a.difference(set_b)`: same as set_a - set_b\n",
    "+ `set_a | set_b`: elements in a or b. Equivalent to `set_a.union(set_b)`\n",
    "+ `set_a & set_b`: elements in both a and b. Equivalent to `set_a.intersection(set_b)`\n",
    "+ `set_a ^ set_b`: elements in a or b but not both. Equivalent to `set_a.symmetric_difference(set_b)` \n",
    "+ `set_a <= set_b`:\ttests whether every element in set_a is in set_b. Equivalent to `set_a.issubset(set_b)`"
   ]
  },
  {
   "cell_type": "code",
   "execution_count": 27,
   "metadata": {},
   "outputs": [
    {
     "name": "stdout",
     "output_type": "stream",
     "text": [
      "{4, 5}\n",
      "{4, 5}\n"
     ]
    }
   ],
   "source": [
    "set_b = {1,2,3}\n",
    "print(set_a - set_b)\n",
    "print(set_a.difference(set_b))"
   ]
  },
  {
   "cell_type": "markdown",
   "metadata": {},
   "source": [
    "### Exercise\n",
    "An analyst is looking at two portfolios, and wants to identify the unique ones.\n",
    "\n",
    "* pf1 = {\"AA\", \"AAC\", \"AAP\", \"ABB\", \"AC\", \"ACCO\", \"AAPL\", \"AZO\", \"ZEN\", \"PX\", \"GS\"}\n",
    "* pf2 = {\"AA\", \"GRUB\", \"AAC\", \"GWR\", \"AAP\", \"C\", \"AC\", \"CVS\"}\n",
    "\n",
    "Write code for the following:\n",
    "* Find the stocks in either pf1 or pf2, but not in both. (Hint: Symmetric Difference)\n",
    "* Find the stocks in both portfolios (Hint: Intersection)\n",
    "* Create a third portfolio named pf3, which has pf1 and pf2 combined (Hint: Union)\n",
    "* Market conditions have changed, let's drop GRUB and CVS from pf3 and add IBM (Hint: set_a.remove(x) and set_a.add(x) )"
   ]
  },
  {
   "cell_type": "code",
   "execution_count": 28,
   "metadata": {},
   "outputs": [],
   "source": [
    "pf1 = {\"AA\", \"AAC\", \"AAP\", \"ABB\", \"AC\", \"ACCO\", \"AAPL\", \"AZO\", \"ZEN\", \"PX\", \"GS\"}\n",
    "pf2 = {\"AA\", \"GRUB\", \"AAC\", \"GWR\", \"AAP\", \"C\", \"AC\", \"CVS\"}"
   ]
  },
  {
   "cell_type": "code",
   "execution_count": 30,
   "metadata": {},
   "outputs": [
    {
     "data": {
      "text/plain": [
       "{'AAPL', 'ABB', 'ACCO', 'AZO', 'C', 'CVS', 'GRUB', 'GS', 'GWR', 'PX', 'ZEN'}"
      ]
     },
     "execution_count": 30,
     "metadata": {},
     "output_type": "execute_result"
    }
   ],
   "source": [
    "pf1.symmetric_difference(pf2)"
   ]
  },
  {
   "cell_type": "code",
   "execution_count": 31,
   "metadata": {},
   "outputs": [
    {
     "data": {
      "text/plain": [
       "{'AA', 'AAC', 'AAP', 'AC'}"
      ]
     },
     "execution_count": 31,
     "metadata": {},
     "output_type": "execute_result"
    }
   ],
   "source": [
    "pf1 & pf2"
   ]
  },
  {
   "cell_type": "code",
   "execution_count": 55,
   "metadata": {},
   "outputs": [
    {
     "name": "stdout",
     "output_type": "stream",
     "text": [
      "{'CVS', 'AA', 'AC', 'ZEN', 'GWR', 'AAP', 'GRUB', 'AAC', 'ABB', 'ACCO', 'C', 'GS', 'AZO', 'AAPL', 'PX'}\n"
     ]
    }
   ],
   "source": [
    "pf3 = pf1 | pf2\n",
    "print(pf3)"
   ]
  },
  {
   "cell_type": "code",
   "execution_count": 56,
   "metadata": {},
   "outputs": [
    {
     "name": "stdout",
     "output_type": "stream",
     "text": [
      "{'AA', 'AC', 'ZEN', 'GWR', 'AAP', 'IBM', 'AAC', 'ABB', 'ACCO', 'C', 'GS', 'AZO', 'AAPL', 'PX'}\n"
     ]
    }
   ],
   "source": [
    "pf3.remove('GRUB')\n",
    "pf3.remove('CVS')\n",
    "pf3.add('IBM')\n",
    "\n",
    "print(pf3)\n"
   ]
  },
  {
   "cell_type": "markdown",
   "metadata": {},
   "source": [
    "<img src=\"images/sets_easy.jpg\">"
   ]
  },
  {
   "cell_type": "markdown",
   "metadata": {},
   "source": [
    "# Tuples "
   ]
  },
  {
   "cell_type": "markdown",
   "metadata": {},
   "source": [
    "Pronounced too-puhl\n",
    "\n",
    "We will keep this section very short in this section, but will revisit this later once we have introduced some more advanced concepts.\n",
    "\n",
    "For now, remember that a tuple is used when the values are fixed. In Python terms, it is what is referred to as 'immutable'. "
   ]
  },
  {
   "cell_type": "markdown",
   "metadata": {},
   "source": [
    "<img src=\"images/tuples.jpg\">\n",
    "\n",
    "Examples:"
   ]
  },
  {
   "cell_type": "code",
   "execution_count": 57,
   "metadata": {},
   "outputs": [],
   "source": [
    "children = (\"Meadow\", \"Anthony\")\n",
    "capos = (\"Paulie\", \"Silvio\", \"Christopher\", \"Furio\",\"Richie\")"
   ]
  },
  {
   "cell_type": "code",
   "execution_count": 58,
   "metadata": {},
   "outputs": [
    {
     "data": {
      "text/plain": [
       "2"
      ]
     },
     "execution_count": 58,
     "metadata": {},
     "output_type": "execute_result"
    }
   ],
   "source": [
    "len(children)"
   ]
  },
  {
   "cell_type": "code",
   "execution_count": 59,
   "metadata": {},
   "outputs": [
    {
     "data": {
      "text/plain": [
       "5"
      ]
     },
     "execution_count": 59,
     "metadata": {},
     "output_type": "execute_result"
    }
   ],
   "source": [
    "len(capos)"
   ]
  },
  {
   "cell_type": "code",
   "execution_count": 60,
   "metadata": {},
   "outputs": [
    {
     "data": {
      "text/plain": [
       "('Paulie', 'Silvio', 'Christopher', 'Furio', 'Richie')"
      ]
     },
     "execution_count": 60,
     "metadata": {},
     "output_type": "execute_result"
    }
   ],
   "source": [
    "capos"
   ]
  },
  {
   "cell_type": "code",
   "execution_count": 62,
   "metadata": {},
   "outputs": [],
   "source": [
    "capos = list(capos)"
   ]
  },
  {
   "cell_type": "code",
   "execution_count": 63,
   "metadata": {},
   "outputs": [
    {
     "data": {
      "text/plain": [
       "['Paulie', 'Silvio', 'Christopher', 'Furio', 'Richie']"
      ]
     },
     "execution_count": 63,
     "metadata": {},
     "output_type": "execute_result"
    }
   ],
   "source": [
    "capos"
   ]
  },
  {
   "cell_type": "code",
   "execution_count": 64,
   "metadata": {},
   "outputs": [],
   "source": [
    "capos.append(\"Bobby\")"
   ]
  },
  {
   "cell_type": "code",
   "execution_count": 65,
   "metadata": {},
   "outputs": [
    {
     "data": {
      "text/plain": [
       "['Paulie', 'Silvio', 'Christopher', 'Furio', 'Richie', 'Bobby']"
      ]
     },
     "execution_count": 65,
     "metadata": {},
     "output_type": "execute_result"
    }
   ],
   "source": [
    "capos"
   ]
  },
  {
   "cell_type": "code",
   "execution_count": 66,
   "metadata": {},
   "outputs": [],
   "source": [
    "capos = tuple(capos)"
   ]
  },
  {
   "cell_type": "code",
   "execution_count": 67,
   "metadata": {},
   "outputs": [
    {
     "data": {
      "text/plain": [
       "('Paulie', 'Silvio', 'Christopher', 'Furio', 'Richie', 'Bobby')"
      ]
     },
     "execution_count": 67,
     "metadata": {},
     "output_type": "execute_result"
    }
   ],
   "source": [
    "capos"
   ]
  },
  {
   "cell_type": "markdown",
   "metadata": {},
   "source": [
    "## Tuples and Numbers"
   ]
  },
  {
   "cell_type": "code",
   "execution_count": 68,
   "metadata": {},
   "outputs": [],
   "source": [
    "monthly_high = (115.20, 113.60, 117.15, 120.90, 118.25)"
   ]
  },
  {
   "cell_type": "code",
   "execution_count": 69,
   "metadata": {},
   "outputs": [
    {
     "name": "stdout",
     "output_type": "stream",
     "text": [
      "Monthly high is 120.9\n",
      "Monthly low is 113.6\n",
      "Range: 7.300000000000011\n"
     ]
    }
   ],
   "source": [
    "print(\"Monthly high is\", max(monthly_high))\n",
    "print(\"Monthly low is\", min(monthly_high))\n",
    "print(\"Range:\", max(monthly_high)-min(monthly_high))"
   ]
  },
  {
   "cell_type": "markdown",
   "metadata": {},
   "source": [
    "<img src=\"images/commando.gif\"> <img src=\"images/czech.gif\">"
   ]
  },
  {
   "cell_type": "markdown",
   "metadata": {},
   "source": [
    "# Dictionaries"
   ]
  },
  {
   "cell_type": "markdown",
   "metadata": {},
   "source": [
    "Dictionaries contain a key and a value. They are also referred to as dicts, maps, or hashes."
   ]
  },
  {
   "cell_type": "code",
   "execution_count": 70,
   "metadata": {},
   "outputs": [
    {
     "name": "stdout",
     "output_type": "stream",
     "text": [
      "{'a': 1, 'b': 2, 'c': 3, 'd': 4}\n"
     ]
    }
   ],
   "source": [
    "dict_1 = {\"a\":1, \"b\":2, \"c\":3, \"d\":4}\n",
    "print(dict_1)"
   ]
  },
  {
   "cell_type": "code",
   "execution_count": 71,
   "metadata": {},
   "outputs": [],
   "source": [
    "fav_book = {\n",
    "    \"title\": \"Crime and Punishment\",\n",
    "    \"author\": \"Fyodor Dostoyevsky\",\n",
    "    \"price\": 10.95,\n",
    "    \"pages\": 400,\n",
    "    \"source\": \"Amazon\",\n",
    "    \"awesome\": True\n",
    "}"
   ]
  },
  {
   "cell_type": "code",
   "execution_count": 72,
   "metadata": {},
   "outputs": [
    {
     "data": {
      "text/plain": [
       "'Crime and Punishment'"
      ]
     },
     "execution_count": 72,
     "metadata": {},
     "output_type": "execute_result"
    }
   ],
   "source": [
    "fav_book[\"title\"]"
   ]
  },
  {
   "cell_type": "code",
   "execution_count": 73,
   "metadata": {},
   "outputs": [
    {
     "data": {
      "text/plain": [
       "True"
      ]
     },
     "execution_count": 73,
     "metadata": {},
     "output_type": "execute_result"
    }
   ],
   "source": [
    "fav_book[\"awesome\"]"
   ]
  },
  {
   "cell_type": "code",
   "execution_count": 74,
   "metadata": {},
   "outputs": [
    {
     "data": {
      "text/plain": [
       "10.95"
      ]
     },
     "execution_count": 74,
     "metadata": {},
     "output_type": "execute_result"
    }
   ],
   "source": [
    "# Rarely used in this manner\n",
    "fav_book.get(\"price\")"
   ]
  },
  {
   "cell_type": "code",
   "execution_count": 75,
   "metadata": {},
   "outputs": [
    {
     "name": "stdout",
     "output_type": "stream",
     "text": [
      "{'title': 'Crime and Punishment', 'author': 'Fyodor Dostoyevsky', 'price': 10.95, 'pages': 400, 'source': 'Amazon', 'awesome': True, 'weight': 42}\n"
     ]
    }
   ],
   "source": [
    "fav_book[\"weight\"] = 42\n",
    "print(fav_book)"
   ]
  },
  {
   "cell_type": "code",
   "execution_count": 76,
   "metadata": {},
   "outputs": [
    {
     "data": {
      "text/plain": [
       "True"
      ]
     },
     "execution_count": 76,
     "metadata": {},
     "output_type": "execute_result"
    }
   ],
   "source": [
    "\"awesome\" in fav_book"
   ]
  },
  {
   "cell_type": "code",
   "execution_count": 77,
   "metadata": {},
   "outputs": [
    {
     "data": {
      "text/plain": [
       "False"
      ]
     },
     "execution_count": 77,
     "metadata": {},
     "output_type": "execute_result"
    }
   ],
   "source": [
    "# Doesn't work!\n",
    "True in fav_book"
   ]
  },
  {
   "cell_type": "markdown",
   "metadata": {},
   "source": [
    "## Common Dictionary Operations"
   ]
  },
  {
   "cell_type": "code",
   "execution_count": 78,
   "metadata": {},
   "outputs": [
    {
     "name": "stdout",
     "output_type": "stream",
     "text": [
      "{'a': 1, 'b': 2, 'c': 3, 'd': 4}\n"
     ]
    }
   ],
   "source": [
    "dict_1 = {\"a\":1, \"b\":2, \"c\":3, \"d\":4}\n",
    "print(dict_1)"
   ]
  },
  {
   "cell_type": "code",
   "execution_count": 79,
   "metadata": {},
   "outputs": [
    {
     "data": {
      "text/plain": [
       "dict_keys(['a', 'b', 'c', 'd'])"
      ]
     },
     "execution_count": 79,
     "metadata": {},
     "output_type": "execute_result"
    }
   ],
   "source": [
    "dict_1.keys()"
   ]
  },
  {
   "cell_type": "code",
   "execution_count": 80,
   "metadata": {},
   "outputs": [
    {
     "data": {
      "text/plain": [
       "dict_values([1, 2, 3, 4])"
      ]
     },
     "execution_count": 80,
     "metadata": {},
     "output_type": "execute_result"
    }
   ],
   "source": [
    "dict_1.values()"
   ]
  },
  {
   "cell_type": "code",
   "execution_count": 81,
   "metadata": {},
   "outputs": [
    {
     "name": "stdout",
     "output_type": "stream",
     "text": [
      "{'a': 1, 'b': 2, 'c': 3}\n"
     ]
    }
   ],
   "source": [
    "dict_1.pop(\"d\")\n",
    "print(dict_1)"
   ]
  },
  {
   "cell_type": "code",
   "execution_count": 82,
   "metadata": {},
   "outputs": [
    {
     "data": {
      "text/plain": [
       "{'author': 'Fyodor Dostoyevsky',\n",
       " 'pages': 400,\n",
       " 'price': 10.95,\n",
       " 'source': 'Amazon',\n",
       " 'title': 'Crime and Punishment',\n",
       " 'weight': 42}"
      ]
     },
     "execution_count": 82,
     "metadata": {},
     "output_type": "execute_result"
    }
   ],
   "source": [
    "fav_book.pop(\"awesome\")\n",
    "fav_book"
   ]
  },
  {
   "cell_type": "markdown",
   "metadata": {},
   "source": [
    "## Exercise\n",
    "Find matching key between the two dictionaries."
   ]
  },
  {
   "cell_type": "code",
   "execution_count": 83,
   "metadata": {},
   "outputs": [],
   "source": [
    "a_dict = {\"a\":\"e\", \"b\":5, \"c\":3, \"c\": 4}\n",
    "b_dict = {\"c\":5, \"d\":6}"
   ]
  },
  {
   "cell_type": "code",
   "execution_count": 84,
   "metadata": {},
   "outputs": [],
   "source": [
    "a_set = set(a_dict)\n",
    "b_set = set(b_dict)"
   ]
  },
  {
   "cell_type": "code",
   "execution_count": 85,
   "metadata": {},
   "outputs": [
    {
     "data": {
      "text/plain": [
       "{'c'}"
      ]
     },
     "execution_count": 85,
     "metadata": {},
     "output_type": "execute_result"
    }
   ],
   "source": [
    "a_set.intersection(b_set)"
   ]
  },
  {
   "cell_type": "markdown",
   "metadata": {},
   "source": [
    "Over the next two videos, we will cover loops and functions - two really powerful concepts to supercharge your programming."
   ]
  }
 ],
 "metadata": {
  "anaconda-cloud": {},
  "kernelspec": {
   "display_name": "Python 3",
   "language": "python",
   "name": "python3"
  },
  "language_info": {
   "codemirror_mode": {
    "name": "ipython",
    "version": 3
   },
   "file_extension": ".py",
   "mimetype": "text/x-python",
   "name": "python",
   "nbconvert_exporter": "python",
   "pygments_lexer": "ipython3",
   "version": "3.6.4"
  },
  "toc": {
   "colors": {
    "hover_highlight": "#DAA520",
    "running_highlight": "#FF0000",
    "selected_highlight": "#FFD700"
   },
   "moveMenuLeft": true,
   "nav_menu": {
    "height": "300px",
    "width": "252px"
   },
   "navigate_menu": true,
   "number_sections": true,
   "sideBar": true,
   "threshold": 4,
   "toc_cell": true,
   "toc_position": {
    "height": "693px",
    "left": "0px",
    "right": "1201px",
    "top": "106px",
    "width": "239px"
   },
   "toc_section_display": "block",
   "toc_window_display": true
  }
 },
 "nbformat": 4,
 "nbformat_minor": 2
}
