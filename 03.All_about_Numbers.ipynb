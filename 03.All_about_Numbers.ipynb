{
 "cells": [
  {
   "cell_type": "markdown",
   "metadata": {
    "toc": "true"
   },
   "source": [
    "# Table of Contents\n",
    " <p><div class=\"lev1 toc-item\"><a href=\"#Ints-and-Floats\" data-toc-modified-id=\"Ints-and-Floats-1\"><span class=\"toc-item-num\">1&nbsp;&nbsp;</span>Ints and Floats</a></div><div class=\"lev2 toc-item\"><a href=\"#Case-Study-1:-Baghead's-Bag-of-Riches\" data-toc-modified-id=\"Case-Study-1:-Baghead's-Bag-of-Riches-11\"><span class=\"toc-item-num\">1.1&nbsp;&nbsp;</span>Case Study 1: Baghead's Bag of Riches</a></div><div class=\"lev2 toc-item\"><a href=\"#Case-Study-2:-Peter-Gregory's-Profit\" data-toc-modified-id=\"Case-Study-2:-Peter-Gregory's-Profit-12\"><span class=\"toc-item-num\">1.2&nbsp;&nbsp;</span>Case Study 2: Peter Gregory's Profit</a></div><div class=\"lev2 toc-item\"><a href=\"#Recap-of-what-you-already-know\" data-toc-modified-id=\"Recap-of-what-you-already-know-13\"><span class=\"toc-item-num\">1.3&nbsp;&nbsp;</span>Recap of what you already know</a></div><div class=\"lev1 toc-item\"><a href=\"#Converting-between-types\" data-toc-modified-id=\"Converting-between-types-2\"><span class=\"toc-item-num\">2&nbsp;&nbsp;</span>Converting between types</a></div><div class=\"lev2 toc-item\"><a href=\"#Exercise\" data-toc-modified-id=\"Exercise-21\"><span class=\"toc-item-num\">2.1&nbsp;&nbsp;</span>Exercise</a></div><div class=\"lev1 toc-item\"><a href=\"#Revisiting-Mathematical-Operations\" data-toc-modified-id=\"Revisiting-Mathematical-Operations-3\"><span class=\"toc-item-num\">3&nbsp;&nbsp;</span>Revisiting Mathematical Operations</a></div><div class=\"lev1 toc-item\"><a href=\"#Equality-and-Comparison-Operators\" data-toc-modified-id=\"Equality-and-Comparison-Operators-4\"><span class=\"toc-item-num\">4&nbsp;&nbsp;</span>Equality and Comparison Operators</a></div><div class=\"lev2 toc-item\"><a href=\"#Exercise\" data-toc-modified-id=\"Exercise-41\"><span class=\"toc-item-num\">4.1&nbsp;&nbsp;</span>Exercise</a></div>"
   ]
  },
  {
   "cell_type": "markdown",
   "metadata": {},
   "source": [
    "# Ints and Floats"
   ]
  },
  {
   "cell_type": "markdown",
   "metadata": {},
   "source": [
    "While there are multiple formats to represent numerical values, this is an introductory course. We will primarily focus on two representations - Integers and Floats (Decimals point numbers)."
   ]
  },
  {
   "cell_type": "code",
   "execution_count": 1,
   "metadata": {},
   "outputs": [
    {
     "name": "stdout",
     "output_type": "stream",
     "text": [
      "1\n",
      "<class 'int'>\n"
     ]
    }
   ],
   "source": [
    "a = 1\n",
    "print(a)\n",
    "print(type(a))"
   ]
  },
  {
   "cell_type": "code",
   "execution_count": 2,
   "metadata": {},
   "outputs": [
    {
     "name": "stdout",
     "output_type": "stream",
     "text": [
      "2.0\n",
      "<class 'float'>\n"
     ]
    }
   ],
   "source": [
    "b = 2.0\n",
    "print(b)\n",
    "print(type(b))"
   ]
  },
  {
   "cell_type": "markdown",
   "metadata": {},
   "source": [
    "Can we add an 'int' and a 'float'?"
   ]
  },
  {
   "cell_type": "code",
   "execution_count": 3,
   "metadata": {},
   "outputs": [
    {
     "name": "stdout",
     "output_type": "stream",
     "text": [
      "3.0\n",
      "<class 'float'>\n"
     ]
    }
   ],
   "source": [
    "c = a + b\n",
    "print(c)\n",
    "print(type(c))"
   ]
  },
  {
   "cell_type": "code",
   "execution_count": 4,
   "metadata": {},
   "outputs": [
    {
     "name": "stdout",
     "output_type": "stream",
     "text": [
      "<class 'int'>\n"
     ]
    }
   ],
   "source": [
    "# How many kittens did the cat give birth to?\n",
    "kittens = 3\n",
    "print(type(kittens) )"
   ]
  },
  {
   "cell_type": "code",
   "execution_count": null,
   "metadata": {},
   "outputs": [],
   "source": [
    "# What is the value of Pi?\n",
    "val_pi = 3.142\n",
    "print(type(val_pi))"
   ]
  },
  {
   "cell_type": "code",
   "execution_count": 5,
   "metadata": {},
   "outputs": [
    {
     "name": "stdout",
     "output_type": "stream",
     "text": [
      "(30, 0, 0, 0, 60, 0, 0, 0)\n"
     ]
    }
   ],
   "source": [
    "# Not an integer\n",
    "hooli_founder = 30,000,000,000\n",
    "bachmanity = 60,000,000,000\n",
    "moolah = hooli_founder + bachmanity \n",
    "print(moolah)"
   ]
  },
  {
   "cell_type": "code",
   "execution_count": 6,
   "metadata": {},
   "outputs": [
    {
     "data": {
      "text/plain": [
       "tuple"
      ]
     },
     "execution_count": 6,
     "metadata": {},
     "output_type": "execute_result"
    }
   ],
   "source": [
    "type(moolah)"
   ]
  },
  {
   "cell_type": "markdown",
   "metadata": {},
   "source": [
    "## Case Study 1: Baghead's Bag of Riches"
   ]
  },
  {
   "cell_type": "markdown",
   "metadata": {},
   "source": [
    "Hooli has just offered Baghead a fantastic offer. He gets a salary, a bonus, vested equity, and free soda. Should he take it?"
   ]
  },
  {
   "cell_type": "code",
   "execution_count": 7,
   "metadata": {},
   "outputs": [
    {
     "name": "stdout",
     "output_type": "stream",
     "text": [
      "1125000.0\n"
     ]
    }
   ],
   "source": [
    "salary = 500000\n",
    "bonus = 0.75\n",
    "equity = 1000000\n",
    "vesting_period = 4\n",
    "\n",
    "total_annual_value = salary*(1+bonus) + (equity/vesting_period)\n",
    "print(total_annual_value)"
   ]
  },
  {
   "cell_type": "code",
   "execution_count": 8,
   "metadata": {},
   "outputs": [
    {
     "data": {
      "text/plain": [
       "875000.0"
      ]
     },
     "execution_count": 8,
     "metadata": {},
     "output_type": "execute_result"
    }
   ],
   "source": [
    "salary*(1+bonus)"
   ]
  },
  {
   "cell_type": "code",
   "execution_count": null,
   "metadata": {},
   "outputs": [],
   "source": [
    "salary + (salary*bonus)"
   ]
  },
  {
   "cell_type": "code",
   "execution_count": 9,
   "metadata": {},
   "outputs": [
    {
     "data": {
      "text/plain": [
       "250000.0"
      ]
     },
     "execution_count": 9,
     "metadata": {},
     "output_type": "execute_result"
    }
   ],
   "source": [
    "equity/vesting_period"
   ]
  },
  {
   "cell_type": "code",
   "execution_count": 10,
   "metadata": {},
   "outputs": [
    {
     "name": "stdout",
     "output_type": "stream",
     "text": [
      "Baghead's Yearly Offer is: $ 1125000.0\n"
     ]
    }
   ],
   "source": [
    "print(\"Baghead's Yearly Offer is: $\", total_annual_value)"
   ]
  },
  {
   "cell_type": "markdown",
   "metadata": {},
   "source": [
    "## Case Study 2: Peter Gregory's Profit"
   ]
  },
  {
   "cell_type": "markdown",
   "metadata": {},
   "source": [
    "Peter analyzed cockroach samples at a restaurant in January, and bought 1,000,000 shares of a cooking oil company at \\$200 per share. He sold his position in September at $450. Calculate his profit."
   ]
  },
  {
   "cell_type": "code",
   "execution_count": null,
   "metadata": {},
   "outputs": [],
   "source": [
    "close_jan = 200\n",
    "close_sep = 450\n",
    "return_rate = (close_sep - close_jan)/close_jan\n",
    "print(return_rate)"
   ]
  },
  {
   "cell_type": "markdown",
   "metadata": {},
   "source": [
    "Note: The above doesn't take into account slippage, cost of transaction, brokerage etc. It's just to illustrate mathematical operations in Python."
   ]
  },
  {
   "cell_type": "markdown",
   "metadata": {},
   "source": [
    "## Recap of what you already know"
   ]
  },
  {
   "cell_type": "code",
   "execution_count": 15,
   "metadata": {},
   "outputs": [],
   "source": [
    "# ints are whole numbers\n",
    "int1 = 1\n",
    "int2 = 42\n",
    "int3 = -27"
   ]
  },
  {
   "cell_type": "code",
   "execution_count": 11,
   "metadata": {},
   "outputs": [],
   "source": [
    "# floats are anything with a decimal point\n",
    "float1 = 1.25\n",
    "float2 = .496\n",
    "float3 = 3.0"
   ]
  },
  {
   "cell_type": "markdown",
   "metadata": {},
   "source": [
    "# Converting between types"
   ]
  },
  {
   "cell_type": "code",
   "execution_count": 12,
   "metadata": {},
   "outputs": [
    {
     "data": {
      "text/plain": [
       "float"
      ]
     },
     "execution_count": 12,
     "metadata": {},
     "output_type": "execute_result"
    }
   ],
   "source": [
    "type(float3)"
   ]
  },
  {
   "cell_type": "code",
   "execution_count": 13,
   "metadata": {},
   "outputs": [
    {
     "name": "stdout",
     "output_type": "stream",
     "text": [
      "3\n",
      "The type is:  <class 'int'>\n"
     ]
    }
   ],
   "source": [
    "new_int = int(float3)\n",
    "print(new_int)\n",
    "print(\"The type is: \", type(new_int))"
   ]
  },
  {
   "cell_type": "code",
   "execution_count": 16,
   "metadata": {},
   "outputs": [
    {
     "name": "stdout",
     "output_type": "stream",
     "text": [
      "1.0\n"
     ]
    }
   ],
   "source": [
    "# Time for revenge!\n",
    "new_float1= float(int1)\n",
    "print(new_float1)"
   ]
  },
  {
   "cell_type": "markdown",
   "metadata": {},
   "source": [
    "## Exercise"
   ]
  },
  {
   "cell_type": "markdown",
   "metadata": {},
   "source": [
    "Convert the following:\n",
    "    \n",
    "* 42 into float\n",
    "* 27.3 into an integer\n",
    "* The result of 99/36 into an integer"
   ]
  },
  {
   "cell_type": "code",
   "execution_count": null,
   "metadata": {
    "collapsed": true
   },
   "outputs": [],
   "source": [
    "# Enter your code below\n"
   ]
  },
  {
   "cell_type": "markdown",
   "metadata": {},
   "source": [
    "# Revisiting Mathematical Operations"
   ]
  },
  {
   "cell_type": "markdown",
   "metadata": {},
   "source": [
    "+ `+`: plus to add numbers\n",
    "+ `-`: minus, to subtract numbers, or assign a negative value (eg. -5, -25, -100 etc)\n",
    "+ `*`: multiply numbers\n",
    "+ `/`: divide number\n",
    "+ `%`: modulo operator"
   ]
  },
  {
   "cell_type": "code",
   "execution_count": null,
   "metadata": {},
   "outputs": [],
   "source": [
    "print(\"Addition\")\n",
    "print(1 + 1)\n",
    "print(1.0 + 2.0)"
   ]
  },
  {
   "cell_type": "code",
   "execution_count": null,
   "metadata": {},
   "outputs": [],
   "source": [
    "print(\"Subtraction\")\n",
    "print(100-50)\n",
    "print(75.3-22.7)"
   ]
  },
  {
   "cell_type": "code",
   "execution_count": null,
   "metadata": {},
   "outputs": [],
   "source": [
    "print(\"Multiplication\")\n",
    "print(2*5)\n",
    "print(5.0 * 7.5)"
   ]
  },
  {
   "cell_type": "code",
   "execution_count": null,
   "metadata": {},
   "outputs": [],
   "source": [
    "print(\"Division\")\n",
    "print(21 / 7)\n",
    "print(22.0 / 7)"
   ]
  },
  {
   "cell_type": "code",
   "execution_count": null,
   "metadata": {},
   "outputs": [],
   "source": [
    "# Another type of division\n",
    "22.0//7"
   ]
  },
  {
   "cell_type": "markdown",
   "metadata": {},
   "source": [
    "Also known as 'Floor Division'. Read about it here - https://docs.python.org/3.1/tutorial/introduction.html"
   ]
  },
  {
   "cell_type": "code",
   "execution_count": null,
   "metadata": {},
   "outputs": [],
   "source": [
    "print(\"Modulo Operator\")\n",
    "print(5%2) # Prints 1, as 1 is the remainder when 5 is divided by 2\n",
    "print(4%2) # Prints 0"
   ]
  },
  {
   "cell_type": "markdown",
   "metadata": {},
   "source": [
    "# Equality and Comparison Operators"
   ]
  },
  {
   "cell_type": "markdown",
   "metadata": {},
   "source": [
    "+ `==`: equality\n",
    "+ `<`: less than\n",
    "+ `<=`: less than or equal to\n",
    "+ `>`: greater than\n",
    "+ `>=`: greater than or equal to\n",
    "+ `!=`: not equal to"
   ]
  },
  {
   "cell_type": "code",
   "execution_count": 17,
   "metadata": {},
   "outputs": [
    {
     "name": "stdout",
     "output_type": "stream",
     "text": [
      "Equality\n",
      "True\n",
      "False\n"
     ]
    }
   ],
   "source": [
    "print(\"Equality\")\n",
    "print(2 == 2) # Will print True\n",
    "print(2 == 1) # Will print False"
   ]
  },
  {
   "cell_type": "code",
   "execution_count": 18,
   "metadata": {},
   "outputs": [
    {
     "name": "stdout",
     "output_type": "stream",
     "text": [
      "Comparison\n",
      "False\n",
      "True\n",
      "False\n",
      "True\n",
      "True\n",
      "True\n"
     ]
    }
   ],
   "source": [
    "print(\"Comparison\")\n",
    "print(0 > 0) # False, since they are equal\n",
    "print(1 > 0) # True, since 1 is greater than 0\n",
    "print(1.0 < 1) # False, since numerically they are the same\n",
    "print(2 >= 2) # True, since it checks for two conditions, greater than as well as equal to\n",
    "print(2 <= 2) # True, since it checks for two conditions, less than as well as equal to\n",
    "print(1 != 2) # True, since 1 is not equal to 2"
   ]
  },
  {
   "cell_type": "markdown",
   "metadata": {},
   "source": [
    "## Exercise"
   ]
  },
  {
   "cell_type": "markdown",
   "metadata": {},
   "source": [
    "Create a tip calculator that takes into account the cost of food, sales tax, and tip."
   ]
  },
  {
   "cell_type": "code",
   "execution_count": null,
   "metadata": {
    "collapsed": true
   },
   "outputs": [],
   "source": [
    "# Enter your code below:\n",
    "food = xx\n",
    "sales_tax = xx #Remember to enter in decimals. So 7.5% will be 0.075\n",
    "tip = xx # Same as above, if you're calculating tip as percentage of food cost\n",
    "\n",
    "tax_cost = food*(1 + sales_tax)\n",
    "after_tip = tax_cost*(1 + tip)\n",
    "print(after_tip)"
   ]
  }
 ],
 "metadata": {
  "anaconda-cloud": {},
  "kernelspec": {
   "display_name": "Python 3",
   "language": "python",
   "name": "python3"
  },
  "language_info": {
   "codemirror_mode": {
    "name": "ipython",
    "version": 3
   },
   "file_extension": ".py",
   "mimetype": "text/x-python",
   "name": "python",
   "nbconvert_exporter": "python",
   "pygments_lexer": "ipython3",
   "version": "3.6.4"
  },
  "toc": {
   "colors": {
    "hover_highlight": "#DAA520",
    "running_highlight": "#FF0000",
    "selected_highlight": "#FFD700"
   },
   "moveMenuLeft": true,
   "nav_menu": {
    "height": "174px",
    "width": "252px"
   },
   "navigate_menu": true,
   "number_sections": true,
   "sideBar": true,
   "threshold": 4,
   "toc_cell": true,
   "toc_section_display": "block",
   "toc_window_display": true
  }
 },
 "nbformat": 4,
 "nbformat_minor": 2
}
