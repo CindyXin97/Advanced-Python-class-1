{
 "cells": [
  {
   "cell_type": "markdown",
   "metadata": {
    "toc": "true"
   },
   "source": [
    "# Table of Contents\n",
    " <p><div class=\"lev1 toc-item\"><a href=\"#Control-Flow\" data-toc-modified-id=\"Control-Flow-1\"><span class=\"toc-item-num\">1&nbsp;&nbsp;</span>Control Flow</a></div><div class=\"lev2 toc-item\"><a href=\"#Multiple-Conditions\" data-toc-modified-id=\"Multiple-Conditions-11\"><span class=\"toc-item-num\">1.1&nbsp;&nbsp;</span>Multiple Conditions</a></div><div class=\"lev2 toc-item\"><a href=\"#Exercise\" data-toc-modified-id=\"Exercise-12\"><span class=\"toc-item-num\">1.2&nbsp;&nbsp;</span>Exercise</a></div><div class=\"lev2 toc-item\"><a href=\"#Adding-your-own-input\" data-toc-modified-id=\"Adding-your-own-input-13\"><span class=\"toc-item-num\">1.3&nbsp;&nbsp;</span>Adding your own input</a></div><div class=\"lev1 toc-item\"><a href=\"#Loops\" data-toc-modified-id=\"Loops-2\"><span class=\"toc-item-num\">2&nbsp;&nbsp;</span>Loops</a></div><div class=\"lev2 toc-item\"><a href=\"#Exercise\" data-toc-modified-id=\"Exercise-21\"><span class=\"toc-item-num\">2.1&nbsp;&nbsp;</span>Exercise</a></div><div class=\"lev1 toc-item\"><a href=\"#Range-of-Values\" data-toc-modified-id=\"Range-of-Values-3\"><span class=\"toc-item-num\">3&nbsp;&nbsp;</span>Range of Values</a></div><div class=\"lev2 toc-item\"><a href=\"#Exercise\" data-toc-modified-id=\"Exercise-31\"><span class=\"toc-item-num\">3.1&nbsp;&nbsp;</span>Exercise</a></div><div class=\"lev2 toc-item\"><a href=\"#Exercise\" data-toc-modified-id=\"Exercise-32\"><span class=\"toc-item-num\">3.2&nbsp;&nbsp;</span>Exercise</a></div><div class=\"lev1 toc-item\"><a href=\"#Become-a-Control-Freak\" data-toc-modified-id=\"Become-a-Control-Freak-4\"><span class=\"toc-item-num\">4&nbsp;&nbsp;</span>Become a Control Freak</a></div><div class=\"lev2 toc-item\"><a href=\"#Break\" data-toc-modified-id=\"Break-41\"><span class=\"toc-item-num\">4.1&nbsp;&nbsp;</span>Break</a></div><div class=\"lev2 toc-item\"><a href=\"#Continue\" data-toc-modified-id=\"Continue-42\"><span class=\"toc-item-num\">4.2&nbsp;&nbsp;</span>Continue</a></div><div class=\"lev1 toc-item\"><a href=\"#List-Comprehension\" data-toc-modified-id=\"List-Comprehension-5\"><span class=\"toc-item-num\">5&nbsp;&nbsp;</span>List Comprehension</a></div><div class=\"lev2 toc-item\"><a href=\"#Dictionary-Comprehension\" data-toc-modified-id=\"Dictionary-Comprehension-51\"><span class=\"toc-item-num\">5.1&nbsp;&nbsp;</span>Dictionary Comprehension</a></div>"
   ]
  },
  {
   "cell_type": "markdown",
   "metadata": {},
   "source": [
    "# Control Flow"
   ]
  },
  {
   "cell_type": "markdown",
   "metadata": {},
   "source": [
    "Now that we have some basic skills, it's important for us to define the conditions in which they can be executed. This is where control comes into play. \n",
    "\n",
    "And as before, very easy topic!\n",
    "\n",
    "In plain English:\n",
    "* If condition x is True:\n",
    "    * Execute statement A\n",
    "* Else:\n",
    "    * Execute statement B\n",
    "    \n",
    "And that's all there is to it. Now we just need to learn the Python-way of expressing the above phrases."
   ]
  },
  {
   "cell_type": "code",
   "execution_count": 1,
   "metadata": {},
   "outputs": [
    {
     "data": {
      "text/plain": [
       "5"
      ]
     },
     "execution_count": 1,
     "metadata": {},
     "output_type": "execute_result"
    }
   ],
   "source": [
    "collection = [1,2,3,4,5]\n",
    "\n",
    "len(collection)"
   ]
  },
  {
   "cell_type": "code",
   "execution_count": 2,
   "metadata": {},
   "outputs": [
    {
     "name": "stdout",
     "output_type": "stream",
     "text": [
      "Woohoo!\n"
     ]
    }
   ],
   "source": [
    "if len(collection) == 5:\n",
    "    print(\"Woohoo!\")"
   ]
  },
  {
   "cell_type": "code",
   "execution_count": 3,
   "metadata": {},
   "outputs": [
    {
     "data": {
      "text/plain": [
       "2"
      ]
     },
     "execution_count": 3,
     "metadata": {},
     "output_type": "execute_result"
    }
   ],
   "source": [
    "collection[1]"
   ]
  },
  {
   "cell_type": "code",
   "execution_count": 4,
   "metadata": {},
   "outputs": [
    {
     "name": "stdout",
     "output_type": "stream",
     "text": [
      "Not Divisible\n"
     ]
    }
   ],
   "source": [
    "if collection[0] % 2 == 0:\n",
    "    print(\"Divisible\")\n",
    "else:\n",
    "    print(\"Not Divisible\")"
   ]
  },
  {
   "cell_type": "markdown",
   "metadata": {},
   "source": [
    "## Multiple Conditions"
   ]
  },
  {
   "cell_type": "markdown",
   "metadata": {
    "collapsed": true
   },
   "source": [
    "So now we can deal with a scenario where there are two possible decisions to be made. What about more than two decision?\n",
    "\n",
    "Say hello to \"elif\"!"
   ]
  },
  {
   "cell_type": "code",
   "execution_count": 5,
   "metadata": {},
   "outputs": [
    {
     "name": "stdout",
     "output_type": "stream",
     "text": [
      "Not Zero or Hundred\n"
     ]
    }
   ],
   "source": [
    "collection = [1,2,3,4,5]\n",
    "\n",
    "if collection[0] == 0:\n",
    "    print (\"Zero!\")\n",
    "elif collection[0] == 100:\n",
    "    print (\"Hundred!\")\n",
    "else:\n",
    "    print(\"Not Zero or Hundred\")"
   ]
  },
  {
   "cell_type": "code",
   "execution_count": 6,
   "metadata": {},
   "outputs": [
    {
     "name": "stdout",
     "output_type": "stream",
     "text": [
      "Richard was not found. Let me add him to the list.\n",
      "['George', 'Barack', 'Donald', 'Richard']\n"
     ]
    }
   ],
   "source": [
    "x = [\"George\", \"Barack\", \"Donald\"]\n",
    "test = \"Richard\"\n",
    "\n",
    "if test in x:\n",
    "    print(test, \"has been found.\")\n",
    "else:\n",
    "    print(test, \"was not found. Let me add him to the list.\" )\n",
    "    x.append(test)\n",
    "print(x)"
   ]
  },
  {
   "cell_type": "markdown",
   "metadata": {},
   "source": [
    "## Exercise\n",
    "Write some code to check if you are old enough to buy a bottle of wine. You need to be 18 or over, but if your State is Texas, you need to be 25 or over."
   ]
  },
  {
   "cell_type": "code",
   "execution_count": 2,
   "metadata": {},
   "outputs": [
    {
     "name": "stdout",
     "output_type": "stream",
     "text": [
      "You can purchase wine\n"
     ]
    }
   ],
   "source": [
    "age = 30\n",
    "state = 'New York'\n",
    "if (age >= 18 and state != 'Texas') or (age >= 25 and state == 'Texas'):\n",
    "    print('You can purchase wine')\n",
    "else:\n",
    "    print('Sorry, please come back when you are old enough')\n"
   ]
  },
  {
   "cell_type": "markdown",
   "metadata": {},
   "source": [
    "## Adding your own input"
   ]
  },
  {
   "cell_type": "markdown",
   "metadata": {},
   "source": [
    "How about adding your own input and checking against that? This doesn't come in too handy in a data science environment since you typically have a well defined dataset already. Nevertheless, this is important to know."
   ]
  },
  {
   "cell_type": "code",
   "execution_count": 3,
   "metadata": {},
   "outputs": [
    {
     "name": "stdout",
     "output_type": "stream",
     "text": [
      "Please enter your age:12\n",
      "You cannot vote or buy alcohol.\n"
     ]
    }
   ],
   "source": [
    "age = int(input(\"Please enter your age:\"))\n",
    "\n",
    "if age < 18:\n",
    "    print(\"You cannot vote or buy alcohol.\")\n",
    "elif age < 21:\n",
    "    print(\"You can vote, but can't buy alcohol.\")\n",
    "else:\n",
    "    print(\"You can vote to buy alcohol. ;) \")"
   ]
  },
  {
   "cell_type": "code",
   "execution_count": 4,
   "metadata": {},
   "outputs": [
    {
     "name": "stdout",
     "output_type": "stream",
     "text": [
      "Enter your name:Peter\n"
     ]
    }
   ],
   "source": [
    "mr_prez = [\"Bill\", \"George\", \"Barack\", \"Donald\"]\n",
    "name = input(\"Enter your name:\") # Don't need to specify str"
   ]
  },
  {
   "cell_type": "code",
   "execution_count": 5,
   "metadata": {},
   "outputs": [
    {
     "data": {
      "text/plain": [
       "str"
      ]
     },
     "execution_count": 5,
     "metadata": {},
     "output_type": "execute_result"
    }
   ],
   "source": [
    "type(name)"
   ]
  },
  {
   "cell_type": "code",
   "execution_count": 6,
   "metadata": {},
   "outputs": [
    {
     "name": "stdout",
     "output_type": "stream",
     "text": [
      "You too can be president some day.\n"
     ]
    }
   ],
   "source": [
    "if name in mr_prez:\n",
    "    print(\"You share your name with a President.\")\n",
    "else:\n",
    "    print(\"You too can be president some day.\")"
   ]
  },
  {
   "cell_type": "markdown",
   "metadata": {},
   "source": [
    "# Loops"
   ]
  },
  {
   "cell_type": "markdown",
   "metadata": {},
   "source": [
    "Time to supercharge our Python usage. Loops are in some ways, the basis for automation. Check if a condition is true, then execute a step, and keep executing it till the condition is no longer true."
   ]
  },
  {
   "cell_type": "code",
   "execution_count": 12,
   "metadata": {},
   "outputs": [
    {
     "name": "stdout",
     "output_type": "stream",
     "text": [
      "Not divisible by 2.\n",
      "Divisible by 2.\n",
      "Not divisible by 2.\n",
      "Divisible by 2.\n",
      "Not divisible by 2.\n",
      "Divisible by 2.\n",
      "Not divisible by 2.\n",
      "Divisible by 2.\n",
      "Not divisible by 2.\n",
      "Divisible by 2.\n"
     ]
    }
   ],
   "source": [
    "numbers = [1,2,3,4,5,6,7,8,9,10]\n",
    "\n",
    "for number in numbers:\n",
    "    if number % 2 == 0:\n",
    "        print(\"Divisible by 2.\")\n",
    "    else:\n",
    "        print(\"Not divisible by 2.\")"
   ]
  },
  {
   "cell_type": "code",
   "execution_count": 13,
   "metadata": {},
   "outputs": [
    {
     "name": "stdout",
     "output_type": "stream",
     "text": [
      "Not divisible by 3.\n",
      "Not divisible by 3.\n",
      "Divisible by 3.\n",
      "Not divisible by 3.\n",
      "Not divisible by 3.\n",
      "Divisible by 3.\n",
      "Not divisible by 3.\n",
      "Not divisible by 3.\n",
      "Divisible by 3.\n",
      "Not divisible by 3.\n"
     ]
    }
   ],
   "source": [
    "numbers = {1,2,3,4,5,6,7,8,9,10}\n",
    "for num in numbers:\n",
    "    if num%3 == 0:\n",
    "        print(\"Divisible by 3.\")\n",
    "    else:\n",
    "        print(\"Not divisible by 3.\")"
   ]
  },
  {
   "cell_type": "markdown",
   "metadata": {},
   "source": [
    "When using dictionaries, you can iterate through keys, values or both."
   ]
  },
  {
   "cell_type": "code",
   "execution_count": 14,
   "metadata": {},
   "outputs": [
    {
     "name": "stdout",
     "output_type": "stream",
     "text": [
      "dict_keys(['Biscuits', 'Tea', 'Milk', 'Sugar'])\n",
      "dict_values([3.5, 4, 2.5, 1])\n"
     ]
    }
   ],
   "source": [
    "groceries = {\"Milk\":2.5, \"Tea\": 4, \"Biscuits\": 3.5, \"Sugar\":1}\n",
    "print(groceries.keys())\n",
    "print(groceries.values())"
   ]
  },
  {
   "cell_type": "code",
   "execution_count": 15,
   "metadata": {},
   "outputs": [
    {
     "name": "stdout",
     "output_type": "stream",
     "text": [
      "Biscuits\n",
      "Tea\n",
      "Milk\n",
      "Sugar\n"
     ]
    }
   ],
   "source": [
    "# item here refers to the the key in set name groceries\n",
    "for a in groceries.keys():\n",
    "    print(a)"
   ]
  },
  {
   "cell_type": "code",
   "execution_count": 16,
   "metadata": {},
   "outputs": [
    {
     "name": "stdout",
     "output_type": "stream",
     "text": [
      "3.5\n",
      "4\n",
      "2.5\n",
      "1\n"
     ]
    }
   ],
   "source": [
    "for price in groceries.values():\n",
    "    print(price)"
   ]
  },
  {
   "cell_type": "code",
   "execution_count": 17,
   "metadata": {},
   "outputs": [
    {
     "name": "stdout",
     "output_type": "stream",
     "text": [
      "Biscuits 3.5\n",
      "Tea 4\n",
      "Milk 2.5\n",
      "Sugar 1\n"
     ]
    }
   ],
   "source": [
    "for (key, val) in groceries.items():\n",
    "    print(key,val)"
   ]
  },
  {
   "cell_type": "code",
   "execution_count": 18,
   "metadata": {},
   "outputs": [
    {
     "data": {
      "text/plain": [
       "dict_items([('Biscuits', 3.5), ('Tea', 4), ('Milk', 2.5), ('Sugar', 1)])"
      ]
     },
     "execution_count": 18,
     "metadata": {},
     "output_type": "execute_result"
    }
   ],
   "source": [
    "groceries.items()"
   ]
  },
  {
   "cell_type": "code",
   "execution_count": 19,
   "metadata": {},
   "outputs": [
    {
     "data": {
      "text/plain": [
       "dict_keys(['Biscuits', 'Tea', 'Milk', 'Sugar'])"
      ]
     },
     "execution_count": 19,
     "metadata": {},
     "output_type": "execute_result"
    }
   ],
   "source": [
    "groceries.keys()"
   ]
  },
  {
   "cell_type": "code",
   "execution_count": 20,
   "metadata": {},
   "outputs": [
    {
     "data": {
      "text/plain": [
       "dict_values([3.5, 4, 2.5, 1])"
      ]
     },
     "execution_count": 20,
     "metadata": {},
     "output_type": "execute_result"
    }
   ],
   "source": [
    "groceries.values()"
   ]
  },
  {
   "cell_type": "markdown",
   "metadata": {},
   "source": [
    "## Exercise\n",
    "* Print the names of the people in the dictionary 'data'\n",
    "* Print the name of the people who have 'incubees'\n",
    "* Print the name, and net worth of people with a net worth higher than 500,000\n",
    "* Print the names of people without a board seat\n",
    "\n",
    "Enter your responses in the fields below. This is solved for you if you scroll down, but you can't cheat yourself! "
   ]
  },
  {
   "cell_type": "code",
   "execution_count": 6,
   "metadata": {},
   "outputs": [],
   "source": [
    "data = {\n",
    "        \"Richard\": {\n",
    "            \"Title\": \"CEO\", \n",
    "            \"Employees\": [\"Dinesh\", \"Gilfoyle\", \"Jared\"],\n",
    "            \"Awards\": [\"Techcrunch Disrupt\"],\n",
    "            \"Previous Firm\": \"Hooli\",\n",
    "            \"Board Seat\":1,\n",
    "            \"Net Worth\": 100000\n",
    "        }, \n",
    "        \"Jared\": {\n",
    "            \"Real_Name\": \"Donald\", \n",
    "            \"Title\": \"CFO\",\n",
    "            \"Previous Firm\": \"Hooli\",\n",
    "            \"Board Seat\":1,\n",
    "            \"Net Worth\": 500\n",
    "        },\n",
    "        \"Erlich\": { \n",
    "            \"Title\": \"Visionary\", \n",
    "            \"Previous Firm\": \"Aviato\", \n",
    "            \"Current Firm\": \"Bachmannity\",\n",
    "            \"Incubees\": [\"Richard\", \"Dinesh\", \"Gilfoyle\", \"Nelson\", \"Jian Yang\"],\n",
    "            \"Board Seat\": 1,\n",
    "            \"Net Worth\": 5000000\n",
    "        }, \n",
    "        \"Nelson\": { \n",
    "            \"Title\": \"Co-Founder\", \n",
    "            \"Current Firm\": \"Bachmannity\", \n",
    "            \"Previous Firm\": \"Hooli\",\n",
    "            \"Board Seat\": 0,\n",
    "            \"Net Worth\": 10000000\n",
    "        },\n",
    "    }"
   ]
  },
  {
   "cell_type": "code",
   "execution_count": 10,
   "metadata": {},
   "outputs": [
    {
     "name": "stdout",
     "output_type": "stream",
     "text": [
      "dict_keys(['Richard', 'Jared', 'Erlich', 'Nelson'])\n"
     ]
    }
   ],
   "source": [
    "print(data.keys())"
   ]
  },
  {
   "cell_type": "code",
   "execution_count": 7,
   "metadata": {},
   "outputs": [
    {
     "name": "stdout",
     "output_type": "stream",
     "text": [
      "Erlich\n"
     ]
    }
   ],
   "source": [
    "for i in data.items():\n",
    "    if 'Incubees' in i[1]:\n",
    "            print(i[0])"
   ]
  },
  {
   "cell_type": "code",
   "execution_count": 10,
   "metadata": {},
   "outputs": [
    {
     "name": "stdout",
     "output_type": "stream",
     "text": [
      "Erlich 5000000\n",
      "Nelson 10000000\n"
     ]
    }
   ],
   "source": [
    "for name in data.items():\n",
    "    if 'Net Worth' in name[1] and name[1]['Net Worth'] > 500000:\n",
    "            print(name[0], name[1]['Net Worth'])"
   ]
  },
  {
   "cell_type": "code",
   "execution_count": 11,
   "metadata": {},
   "outputs": [
    {
     "name": "stdout",
     "output_type": "stream",
     "text": [
      "Nelson\n"
     ]
    }
   ],
   "source": [
    "for name in data.items():\n",
    "    if 'Board Seat' in name[1] and name[1]['Board Seat'] == 0:\n",
    "            print(name[0])"
   ]
  },
  {
   "cell_type": "code",
   "execution_count": null,
   "metadata": {
    "collapsed": true
   },
   "outputs": [],
   "source": []
  },
  {
   "cell_type": "code",
   "execution_count": null,
   "metadata": {
    "collapsed": true
   },
   "outputs": [],
   "source": []
  },
  {
   "cell_type": "code",
   "execution_count": 22,
   "metadata": {},
   "outputs": [
    {
     "data": {
      "text/plain": [
       "dict_keys(['Richard', 'Nelson', 'Erlich', 'Jared'])"
      ]
     },
     "execution_count": 22,
     "metadata": {},
     "output_type": "execute_result"
    }
   ],
   "source": [
    "# Name of people in the dictionary\n",
    "data.keys()"
   ]
  },
  {
   "cell_type": "code",
   "execution_count": 23,
   "metadata": {},
   "outputs": [
    {
     "name": "stdout",
     "output_type": "stream",
     "text": [
      "Richard\n",
      "Nelson\n",
      "Erlich\n",
      "Jared\n"
     ]
    }
   ],
   "source": [
    "# Alternate way to get the name of the people in the dictionary\n",
    "for name in data.keys():\n",
    "    print(name)"
   ]
  },
  {
   "cell_type": "code",
   "execution_count": 24,
   "metadata": {},
   "outputs": [
    {
     "name": "stdout",
     "output_type": "stream",
     "text": [
      "Erlich\n"
     ]
    }
   ],
   "source": [
    "# Name of people who have incubees\n",
    "for name in data.items():\n",
    "    if \"Incubees\" in name[1]:\n",
    "        print (name[0])"
   ]
  },
  {
   "cell_type": "code",
   "execution_count": 25,
   "metadata": {},
   "outputs": [
    {
     "name": "stdout",
     "output_type": "stream",
     "text": [
      "Nelson 10000000\n",
      "Erlich 5000000\n"
     ]
    }
   ],
   "source": [
    "# Name and networth of people with a networth greater 500000\n",
    "for name in data.items():\n",
    "    if \"Net Worth\" in name[1] and name[1][\"Net Worth\"]>500000:\n",
    "        print (name[0], name[1][\"Net Worth\"])"
   ]
  },
  {
   "cell_type": "code",
   "execution_count": 26,
   "metadata": {},
   "outputs": [
    {
     "name": "stdout",
     "output_type": "stream",
     "text": [
      "Nelson\n"
     ]
    }
   ],
   "source": [
    "# Name of people who don't have a board seat\n",
    "for name in data.items():\n",
    "    if \"Board Seat\" in name[1] and name[1][\"Board Seat\"]  == 0:\n",
    "        print (name[0])"
   ]
  },
  {
   "cell_type": "markdown",
   "metadata": {},
   "source": [
    "# Range of Values\n",
    "We often need to define a range of values for our program to iterate over. "
   ]
  },
  {
   "cell_type": "code",
   "execution_count": 27,
   "metadata": {},
   "outputs": [
    {
     "name": "stdout",
     "output_type": "stream",
     "text": [
      "[0, 1, 2, 3, 4, 5, 6, 7, 8, 9]\n"
     ]
    }
   ],
   "source": [
    "# Generate a list on the fly\n",
    "nums = list(range(10))\n",
    "print(nums)"
   ]
  },
  {
   "cell_type": "markdown",
   "metadata": {},
   "source": [
    "In a defined range, the lower number is inclusive, and upper number is exclusive. So 0 to 10 would include 0 but exclude 10. So if we need a specific range, we can use this knowledge to our advantage."
   ]
  },
  {
   "cell_type": "code",
   "execution_count": 28,
   "metadata": {},
   "outputs": [
    {
     "name": "stdout",
     "output_type": "stream",
     "text": [
      "[1, 2, 3, 4, 5, 6, 7, 8, 9, 10]\n"
     ]
    }
   ],
   "source": [
    "nums = list(range(1,11))\n",
    "print(nums)"
   ]
  },
  {
   "cell_type": "markdown",
   "metadata": {},
   "source": [
    "We can also specify a range without explicitly defining an upper or lower range, in which case, Python does it's magic: range will be 0 to one less than the number specified."
   ]
  },
  {
   "cell_type": "code",
   "execution_count": 29,
   "metadata": {},
   "outputs": [
    {
     "name": "stdout",
     "output_type": "stream",
     "text": [
      "[0, 1, 2, 3, 4, 5, 6, 7, 8, 9]\n"
     ]
    }
   ],
   "source": [
    "nums = list(range(10))\n",
    "print(nums)"
   ]
  },
  {
   "cell_type": "markdown",
   "metadata": {},
   "source": [
    "We can also use the range function to perform mathematical tricks."
   ]
  },
  {
   "cell_type": "code",
   "execution_count": 30,
   "metadata": {},
   "outputs": [
    {
     "name": "stdout",
     "output_type": "stream",
     "text": [
      "The square of 1 is: 1\n",
      "The square of 2 is: 4\n",
      "The square of 3 is: 9\n",
      "The square of 4 is: 16\n",
      "The square of 5 is: 25\n"
     ]
    }
   ],
   "source": [
    "for i in range(1,6):\n",
    "    print(\"The square of\",i,\"is:\",i**2)"
   ]
  },
  {
   "cell_type": "markdown",
   "metadata": {},
   "source": [
    "Or to check for certain other conditions or properties, or to define how many times an activity will be performed."
   ]
  },
  {
   "cell_type": "code",
   "execution_count": 31,
   "metadata": {},
   "outputs": [
    {
     "name": "stdout",
     "output_type": "stream",
     "text": [
      "*\n",
      "**\n",
      "***\n",
      "****\n",
      "*****\n",
      "******\n",
      "*******\n",
      "********\n",
      "*********\n"
     ]
    }
   ],
   "source": [
    "for i in range(1,10):\n",
    "    print(\"*\"*i)"
   ]
  },
  {
   "cell_type": "markdown",
   "metadata": {},
   "source": [
    "## Exercise\n",
    "Print all numbers from 1 to 20"
   ]
  },
  {
   "cell_type": "code",
   "execution_count": 12,
   "metadata": {},
   "outputs": [
    {
     "name": "stdout",
     "output_type": "stream",
     "text": [
      "[1, 2, 3, 4, 5, 6, 7, 8, 9, 10, 11, 12, 13, 14, 15, 16, 17, 18, 19, 20]\n"
     ]
    }
   ],
   "source": [
    "nums = list(range(1, 21))\n",
    "print(nums)"
   ]
  },
  {
   "cell_type": "markdown",
   "metadata": {},
   "source": [
    "## Exercise\n",
    "Print the square of the first 10 [natural numbers](https://en.wikipedia.org/wiki/Natural_number)."
   ]
  },
  {
   "cell_type": "code",
   "execution_count": 16,
   "metadata": {},
   "outputs": [
    {
     "name": "stdout",
     "output_type": "stream",
     "text": [
      "0 0\n",
      "1 1\n",
      "2 4\n",
      "3 9\n",
      "4 16\n",
      "5 25\n",
      "6 36\n",
      "7 49\n",
      "8 64\n",
      "9 81\n"
     ]
    }
   ],
   "source": [
    "for i in range(10):\n",
    "    print(i, i**2)\n"
   ]
  },
  {
   "cell_type": "markdown",
   "metadata": {},
   "source": [
    "# Become a Control Freak\n",
    "And now, it's time to become a master of control! A data scientist needs absolute control over loops, stopping when defined conditions are met, or carrying on till a solution if found.\n",
    "<img src=\"images/break.jpg\">"
   ]
  },
  {
   "cell_type": "markdown",
   "metadata": {},
   "source": [
    "## Break"
   ]
  },
  {
   "cell_type": "code",
   "execution_count": 34,
   "metadata": {},
   "outputs": [
    {
     "name": "stdout",
     "output_type": "stream",
     "text": [
      "The square of 1 is: 1\n",
      "The square of 2 is: 4\n",
      "The square of 3 is: 9\n",
      "The square of 4 is: 16\n",
      "The square of 5 is: 25\n",
      "Broken\n"
     ]
    }
   ],
   "source": [
    "for i in range(1,100):\n",
    "    print(\"The square of\",i,\"is:\",i**2)\n",
    "    if i >= 5:\n",
    "        break\n",
    "print(\"Broken\")"
   ]
  },
  {
   "cell_type": "markdown",
   "metadata": {},
   "source": [
    "## Continue\n",
    "Break's cousin is called Continue.\n",
    "\n",
    "If a certain condition is met, carry on."
   ]
  },
  {
   "cell_type": "code",
   "execution_count": 35,
   "metadata": {},
   "outputs": [
    {
     "name": "stdout",
     "output_type": "stream",
     "text": [
      "Currently testing letter a\n",
      "a\n",
      "Currently testing letter b\n",
      "b\n",
      "Currently testing letter c\n",
      "c\n",
      "Currently testing letter d\n",
      "d\n",
      "Currently testing letter e\n",
      "I plead the 5th!\n",
      "Currently testing letter f\n",
      "f\n",
      "Currently testing letter g\n",
      "g\n",
      "Currently testing letter h\n",
      "h\n",
      "Currently testing letter i\n",
      "i\n",
      "Currently testing letter j\n",
      "j\n"
     ]
    }
   ],
   "source": [
    "letters = [\"a\", \"b\", \"c\", \"d\", \"e\", \"f\", \"g\", \"h\", \"i\", \"j\"]\n",
    "for letter in letters:\n",
    "    print(\"Currently testing letter\", letter)\n",
    "    if letter == \"e\":\n",
    "        print(\"I plead the 5th!\")\n",
    "        continue\n",
    "    print( letter)"
   ]
  },
  {
   "cell_type": "markdown",
   "metadata": {},
   "source": [
    "# List Comprehension\n",
    "Remember lists? Now here's a way to power through a large list in one line!\n",
    "\n",
    "As a Data Scientist, you will need to write a lot of code very efficiently, especially in the data exploration stage. The more experiments you can run to understand your data, the better it is. This is also a very useful tool in transforming one list (or dictionary) into another list.\n",
    "\n",
    "Let's begin by some simple examples\n",
    "\n",
    "First, we will write a program to generate the squares of the first 10 natural numbers, using a standard for loop. \n",
    "Next, we will contrast that with the List Comprehension approach."
   ]
  },
  {
   "cell_type": "code",
   "execution_count": 36,
   "metadata": {},
   "outputs": [
    {
     "name": "stdout",
     "output_type": "stream",
     "text": [
      "[1, 4, 9, 16, 25, 36, 49, 64, 81, 100]\n"
     ]
    }
   ],
   "source": [
    "# Here is a standard for loop\n",
    "numList = []\n",
    "for num in range(1,11):\n",
    "    numList.append(num**2)\n",
    "print (numList)"
   ]
  },
  {
   "cell_type": "markdown",
   "metadata": {},
   "source": [
    "So far, so good!"
   ]
  },
  {
   "cell_type": "code",
   "execution_count": 37,
   "metadata": {},
   "outputs": [
    {
     "name": "stdout",
     "output_type": "stream",
     "text": [
      "[1, 4, 9, 16, 25, 36, 49, 64, 81, 100]\n"
     ]
    }
   ],
   "source": [
    "# Now for List Comprehension\n",
    "sqList = [num**2 for num in range(1,11)]\n",
    "print(sqList)"
   ]
  },
  {
   "cell_type": "code",
   "execution_count": 38,
   "metadata": {},
   "outputs": [
    {
     "data": {
      "text/plain": [
       "[1, 4, 9, 16, 25, 36, 49, 64, 81, 100]"
      ]
     },
     "execution_count": 38,
     "metadata": {},
     "output_type": "execute_result"
    }
   ],
   "source": [
    "[num**2 for num in range(1,11)]"
   ]
  },
  {
   "cell_type": "markdown",
   "metadata": {},
   "source": [
    "How's that for speed?!\n",
    "\n",
    "Here's the format for List Comprehensions, in English.\n",
    "\n",
    "ListName = [Expected_Result_or_Operation for Item in a given range]<br>\n",
    "print the ListName"
   ]
  },
  {
   "cell_type": "code",
   "execution_count": 39,
   "metadata": {},
   "outputs": [
    {
     "name": "stdout",
     "output_type": "stream",
     "text": [
      "[0, 1, 8, 27, 64, 125]\n"
     ]
    }
   ],
   "source": [
    "cubeList = [num**3 for num in range(6)]\n",
    "print(cubeList)"
   ]
  },
  {
   "cell_type": "markdown",
   "metadata": {},
   "source": [
    "List comprehensions are very useful when dealing with an existing list. Let's see some examples."
   ]
  },
  {
   "cell_type": "code",
   "execution_count": 40,
   "metadata": {
    "collapsed": true
   },
   "outputs": [],
   "source": [
    "nums = [1,2,3,4,5,6,7,8,9,10]"
   ]
  },
  {
   "cell_type": "code",
   "execution_count": 41,
   "metadata": {},
   "outputs": [
    {
     "name": "stdout",
     "output_type": "stream",
     "text": [
      "[1, 2, 3, 4, 5, 6, 7, 8, 9, 10]\n"
     ]
    }
   ],
   "source": [
    "# For every n in the list named nums, I want an n\n",
    "my_list1 = [n for n in nums]\n",
    "print(my_list1)"
   ]
  },
  {
   "cell_type": "code",
   "execution_count": 42,
   "metadata": {},
   "outputs": [
    {
     "name": "stdout",
     "output_type": "stream",
     "text": [
      "[1, 4, 9, 16, 25, 36, 49, 64, 81, 100]\n"
     ]
    }
   ],
   "source": [
    "# For every n in the list named nums, I want n to be squared\n",
    "my_list2 = [n**2 for n in nums]\n",
    "print(my_list2)"
   ]
  },
  {
   "cell_type": "code",
   "execution_count": 43,
   "metadata": {},
   "outputs": [
    {
     "name": "stdout",
     "output_type": "stream",
     "text": [
      "[2, 4, 6, 8, 10]\n"
     ]
    }
   ],
   "source": [
    "# For every n in the list named nums, I want n, only if it is even\n",
    "my_list3 = [n for n in nums if n%2 == 0]\n",
    "print(my_list3)"
   ]
  },
  {
   "cell_type": "markdown",
   "metadata": {},
   "source": [
    "How about calculating the areas of circles, given a list of radii? That too in just one line."
   ]
  },
  {
   "cell_type": "code",
   "execution_count": 44,
   "metadata": {},
   "outputs": [
    {
     "name": "stdout",
     "output_type": "stream",
     "text": [
      "[3.14, 12.57, 28.27, 50.27, 78.54]\n"
     ]
    }
   ],
   "source": [
    "radius = [1.0, 2.0, 3.0, 4.0, 5.0]\n",
    "import math\n",
    "\n",
    "# Area of Circle = Pi * (radius**2)\n",
    "\n",
    "area = [round((r**2)*math.pi,2) for r in radius]\n",
    "print(area)"
   ]
  },
  {
   "cell_type": "markdown",
   "metadata": {},
   "source": [
    "## Dictionary Comprehension\n",
    "Let's get back to our dictionary named Data. Dictionary Comprehension can be a very efficient way to extract information out of them. Especially when you have thousands or millions of records."
   ]
  },
  {
   "cell_type": "code",
   "execution_count": 45,
   "metadata": {
    "collapsed": true
   },
   "outputs": [],
   "source": [
    "data = {\n",
    "        \"Richard\": {\n",
    "            \"Title\": \"CEO\", \n",
    "            \"Employees\": [\"Dinesh\", \"Gilfoyle\", \"Jared\"],\n",
    "            \"Awards\": [\"Techcrunch Disrupt\"],\n",
    "            \"Previous Firm\": \"Hooli\",\n",
    "            \"Board Seat\":1,\n",
    "            \"Net Worth\": 100000\n",
    "        }, \n",
    "        \"Jared\": {\n",
    "            \"Real_Name\": \"Donald\", \n",
    "            \"Title\": \"CFO\",\n",
    "            \"Previous Firm\": \"Hooli\",\n",
    "            \"Board Seat\":1,\n",
    "            \"Net Worth\": 500\n",
    "        },\n",
    "        \"Erlich\": { \n",
    "            \"Title\": \"Visionary\", \n",
    "            \"Previous Firm\": \"Aviato\", \n",
    "            \"Current Firm\": \"Bachmannity\",\n",
    "            \"Incubees\": [\"Richard\", \"Dinesh\", \"Gilfoyle\", \"Nelson\", \"Jian Yang\"],\n",
    "            \"Board Seat\": 1,\n",
    "            \"Net Worth\": 5000000\n",
    "        }, \n",
    "        \"Nelson\": { \n",
    "            \"Title\": \"Co-Founder\", \n",
    "            \"Current Firm\": \"Bachmannity\", \n",
    "            \"Previous Firm\": \"Hooli\",\n",
    "            \"Board Seat\": 0,\n",
    "            \"Net Worth\": 10000000\n",
    "        },\n",
    "    }"
   ]
  },
  {
   "cell_type": "code",
   "execution_count": 46,
   "metadata": {},
   "outputs": [
    {
     "data": {
      "text/plain": [
       "[('Erlich',\n",
       "  {'Board Seat': 1,\n",
       "   'Current Firm': 'Bachmannity',\n",
       "   'Incubees': ['Richard', 'Dinesh', 'Gilfoyle', 'Nelson', 'Jian Yang'],\n",
       "   'Net Worth': 5000000,\n",
       "   'Previous Firm': 'Aviato',\n",
       "   'Title': 'Visionary'})]"
      ]
     },
     "execution_count": 46,
     "metadata": {},
     "output_type": "execute_result"
    }
   ],
   "source": [
    "# Print all details for people who have incubees\n",
    "[(k,v) for k, v in data.items() if \"Incubees\" in v ]"
   ]
  },
  {
   "cell_type": "code",
   "execution_count": 47,
   "metadata": {},
   "outputs": [
    {
     "name": "stdout",
     "output_type": "stream",
     "text": [
      "Nelson 10000000\n",
      "Erlich 5000000\n"
     ]
    }
   ],
   "source": [
    "for name in data.items():\n",
    "    if \"Net Worth\" in name[1] and name[1][\"Net Worth\"]>500000:\n",
    "        print (name[0], name[1][\"Net Worth\"])"
   ]
  },
  {
   "cell_type": "code",
   "execution_count": 48,
   "metadata": {},
   "outputs": [
    {
     "name": "stdout",
     "output_type": "stream",
     "text": [
      "[('Nelson', 10000000), ('Erlich', 5000000)]\n"
     ]
    }
   ],
   "source": [
    "high_nw = [(name[0], name[1][\"Net Worth\"]) for name in data.items() if \"Net Worth\" in name[1] and name[1][\"Net Worth\"]>500000]\n",
    "print(high_nw)"
   ]
  },
  {
   "cell_type": "code",
   "execution_count": 49,
   "metadata": {},
   "outputs": [
    {
     "data": {
      "text/plain": [
       "list"
      ]
     },
     "execution_count": 49,
     "metadata": {},
     "output_type": "execute_result"
    }
   ],
   "source": [
    "type(high_nw)"
   ]
  },
  {
   "cell_type": "code",
   "execution_count": 50,
   "metadata": {},
   "outputs": [
    {
     "data": {
      "text/plain": [
       "tuple"
      ]
     },
     "execution_count": 50,
     "metadata": {},
     "output_type": "execute_result"
    }
   ],
   "source": [
    "type(high_nw[0])"
   ]
  },
  {
   "cell_type": "markdown",
   "metadata": {
    "collapsed": true
   },
   "source": [
    "We can also use dictionary comprehension to create new dictionaries"
   ]
  },
  {
   "cell_type": "code",
   "execution_count": 51,
   "metadata": {},
   "outputs": [
    {
     "data": {
      "text/plain": [
       "{'Barack': 'Obama',\n",
       " 'Bill': 'Clinton',\n",
       " 'Bugs': 'Bunny',\n",
       " 'Donald': 'Trump',\n",
       " 'George': 'Bush Jr',\n",
       " 'George HW': 'Bush'}"
      ]
     },
     "execution_count": 51,
     "metadata": {},
     "output_type": "execute_result"
    }
   ],
   "source": [
    "name = ['George HW', 'Bill', 'George', 'Barack', 'Donald', 'Bugs']\n",
    "surname = ['Bush', 'Clinton', 'Bush Jr', 'Obama', 'Trump', 'Bunny']\n",
    "full_names = {n:s for n,s in zip(name,surname)}\n",
    "full_names"
   ]
  },
  {
   "cell_type": "code",
   "execution_count": 52,
   "metadata": {},
   "outputs": [
    {
     "name": "stdout",
     "output_type": "stream",
     "text": [
      "{'Donald': 'Trump', 'George HW': 'Bush', 'Barack': 'Obama', 'George': 'Bush Jr', 'Bill': 'Clinton'}\n"
     ]
    }
   ],
   "source": [
    "# What if we want to exclude certain values?\n",
    "full_names = {n:s for n,s in zip(name, surname) if n!='Bugs'}\n",
    "print(full_names)"
   ]
  }
 ],
 "metadata": {
  "anaconda-cloud": {},
  "kernelspec": {
   "display_name": "Python 3",
   "language": "python",
   "name": "python3"
  },
  "language_info": {
   "codemirror_mode": {
    "name": "ipython",
    "version": 3
   },
   "file_extension": ".py",
   "mimetype": "text/x-python",
   "name": "python",
   "nbconvert_exporter": "python",
   "pygments_lexer": "ipython3",
   "version": "3.6.4"
  },
  "toc": {
   "colors": {
    "hover_highlight": "#DAA520",
    "running_highlight": "#FF0000",
    "selected_highlight": "#FFD700"
   },
   "moveMenuLeft": true,
   "nav_menu": {
    "height": "210px",
    "width": "252px"
   },
   "navigate_menu": true,
   "number_sections": true,
   "sideBar": true,
   "threshold": 4,
   "toc_cell": true,
   "toc_position": {
    "height": "720px",
    "left": "0px",
    "right": "1271px",
    "top": "106px",
    "width": "169px"
   },
   "toc_section_display": "block",
   "toc_window_display": true
  }
 },
 "nbformat": 4,
 "nbformat_minor": 2
}
