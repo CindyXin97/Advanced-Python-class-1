{
 "cells": [
  {
   "cell_type": "markdown",
   "metadata": {
    "toc": "true"
   },
   "source": [
    "# Table of Contents\n",
    " <p><div class=\"lev1 toc-item\"><a href=\"#Strings\" data-toc-modified-id=\"Strings-1\"><span class=\"toc-item-num\">1&nbsp;&nbsp;</span>Strings</a></div><div class=\"lev2 toc-item\"><a href=\"#Switching-between-Single,-Double-and-Triple-Quotes\" data-toc-modified-id=\"Switching-between-Single,-Double-and-Triple-Quotes-11\"><span class=\"toc-item-num\">1.1&nbsp;&nbsp;</span>Switching between Single, Double and Triple Quotes</a></div><div class=\"lev2 toc-item\"><a href=\"#&quot;Raw&quot;-Strings\" data-toc-modified-id=\"&quot;Raw&quot;-Strings-12\"><span class=\"toc-item-num\">1.2&nbsp;&nbsp;</span>\"Raw\" Strings</a></div><div class=\"lev2 toc-item\"><a href=\"#String-Substitution\" data-toc-modified-id=\"String-Substitution-13\"><span class=\"toc-item-num\">1.3&nbsp;&nbsp;</span>String Substitution</a></div><div class=\"lev1 toc-item\"><a href=\"#Indexing-Strings\" data-toc-modified-id=\"Indexing-Strings-2\"><span class=\"toc-item-num\">2&nbsp;&nbsp;</span>Indexing Strings</a></div><div class=\"lev3 toc-item\"><a href=\"#Exercise\" data-toc-modified-id=\"Exercise-201\"><span class=\"toc-item-num\">2.0.1&nbsp;&nbsp;</span>Exercise</a></div><div class=\"lev1 toc-item\"><a href=\"#String-Operations\" data-toc-modified-id=\"String-Operations-3\"><span class=\"toc-item-num\">3&nbsp;&nbsp;</span>String Operations</a></div><div class=\"lev2 toc-item\"><a href=\"#Exercise\" data-toc-modified-id=\"Exercise-31\"><span class=\"toc-item-num\">3.1&nbsp;&nbsp;</span>Exercise</a></div><div class=\"lev2 toc-item\"><a href=\"#Exercise\" data-toc-modified-id=\"Exercise-32\"><span class=\"toc-item-num\">3.2&nbsp;&nbsp;</span>Exercise</a></div><div class=\"lev1 toc-item\"><a href=\"#Splitting-Strings\" data-toc-modified-id=\"Splitting-Strings-4\"><span class=\"toc-item-num\">4&nbsp;&nbsp;</span>Splitting Strings</a></div><div class=\"lev3 toc-item\"><a href=\"#More-Splits\" data-toc-modified-id=\"More-Splits-401\"><span class=\"toc-item-num\">4.0.1&nbsp;&nbsp;</span>More Splits</a></div><div class=\"lev3 toc-item\"><a href=\"#Exercise\" data-toc-modified-id=\"Exercise-402\"><span class=\"toc-item-num\">4.0.2&nbsp;&nbsp;</span>Exercise</a></div><div class=\"lev3 toc-item\"><a href=\"#Exercise\" data-toc-modified-id=\"Exercise-403\"><span class=\"toc-item-num\">4.0.3&nbsp;&nbsp;</span>Exercise</a></div><div class=\"lev3 toc-item\"><a href=\"#Solution-for-Email-Splitting-Problem\" data-toc-modified-id=\"Solution-for-Email-Splitting-Problem-404\"><span class=\"toc-item-num\">4.0.4&nbsp;&nbsp;</span>Solution for Email Splitting Problem</a></div>"
   ]
  },
  {
   "cell_type": "markdown",
   "metadata": {},
   "source": [
    "# Strings"
   ]
  },
  {
   "cell_type": "markdown",
   "metadata": {},
   "source": [
    "We have encountered strings already. Remember our \"Hello World!\" program?"
   ]
  },
  {
   "cell_type": "code",
   "execution_count": 1,
   "metadata": {},
   "outputs": [
    {
     "name": "stdout",
     "output_type": "stream",
     "text": [
      "Hello World!\n"
     ]
    }
   ],
   "source": [
    "print(\"Hello World!\")"
   ]
  },
  {
   "cell_type": "markdown",
   "metadata": {},
   "source": [
    "\"Hello World!\" was the string. Absolutely any character can be a string, including numbers, as long as they are within single, double, or triple quotation marks."
   ]
  },
  {
   "cell_type": "code",
   "execution_count": 2,
   "metadata": {},
   "outputs": [
    {
     "name": "stdout",
     "output_type": "stream",
     "text": [
      "Hello World! 22 This is so c00l!\n"
     ]
    }
   ],
   "source": [
    "str01 = \"Hello World!\"\n",
    "str02 = \"22\"\n",
    "str03 = \"This is so c00l!\"\n",
    "print(str01, str02, str03)"
   ]
  },
  {
   "cell_type": "code",
   "execution_count": null,
   "metadata": {},
   "outputs": [],
   "source": [
    "print(type(str02))"
   ]
  },
  {
   "cell_type": "markdown",
   "metadata": {},
   "source": [
    "Now remember how we converted an int to a float, and vice versa?"
   ]
  },
  {
   "cell_type": "code",
   "execution_count": 3,
   "metadata": {},
   "outputs": [],
   "source": [
    "children = 5"
   ]
  },
  {
   "cell_type": "code",
   "execution_count": null,
   "metadata": {},
   "outputs": [],
   "source": [
    "type(children)"
   ]
  },
  {
   "cell_type": "code",
   "execution_count": null,
   "metadata": {},
   "outputs": [],
   "source": [
    "new_children = float(children)\n",
    "type(new_children)"
   ]
  },
  {
   "cell_type": "markdown",
   "metadata": {},
   "source": [
    "You can convert them to strings too!"
   ]
  },
  {
   "cell_type": "code",
   "execution_count": 4,
   "metadata": {},
   "outputs": [
    {
     "data": {
      "text/plain": [
       "str"
      ]
     },
     "execution_count": 4,
     "metadata": {},
     "output_type": "execute_result"
    }
   ],
   "source": [
    "stringy_kids = str(children)\n",
    "type(stringy_kids)"
   ]
  },
  {
   "cell_type": "markdown",
   "metadata": {},
   "source": [
    "## Switching between Single, Double and Triple Quotes"
   ]
  },
  {
   "cell_type": "markdown",
   "metadata": {},
   "source": [
    "Text = The name's Bond, James Bond."
   ]
  },
  {
   "cell_type": "code",
   "execution_count": null,
   "metadata": {
    "collapsed": true
   },
   "outputs": [],
   "source": [
    "text01 = \"The name's Bond, James Bond.\""
   ]
  },
  {
   "cell_type": "code",
   "execution_count": null,
   "metadata": {},
   "outputs": [],
   "source": [
    "print(text01)"
   ]
  },
  {
   "cell_type": "code",
   "execution_count": null,
   "metadata": {
    "collapsed": true
   },
   "outputs": [],
   "source": [
    "text02 = \"\"\"The name's Bond, James Bond.\"\"\"\n",
    "text03 = \"\"\"Text here\"\"\"\n",
    "text04 = \"\"\"Here we go!\"\"\""
   ]
  },
  {
   "cell_type": "code",
   "execution_count": null,
   "metadata": {},
   "outputs": [],
   "source": [
    "print(text02)\n",
    "print(text03)\n",
    "print(text04)"
   ]
  },
  {
   "cell_type": "code",
   "execution_count": 8,
   "metadata": {},
   "outputs": [
    {
     "name": "stdout",
     "output_type": "stream",
     "text": [
      "The name's Bond, James Bond.\n"
     ]
    }
   ],
   "source": [
    "text05 = \"The name's Bond, James Bond.\"\n",
    "print(text05)"
   ]
  },
  {
   "cell_type": "markdown",
   "metadata": {},
   "source": [
    "Say hello to escape characteters!"
   ]
  },
  {
   "cell_type": "code",
   "execution_count": 5,
   "metadata": {},
   "outputs": [],
   "source": [
    "text05 = 'The name\\'s Bond, James Bond.'"
   ]
  },
  {
   "cell_type": "code",
   "execution_count": 6,
   "metadata": {
    "scrolled": true
   },
   "outputs": [
    {
     "name": "stdout",
     "output_type": "stream",
     "text": [
      "The name's Bond, James Bond.\n"
     ]
    }
   ],
   "source": [
    "print(text05)"
   ]
  },
  {
   "cell_type": "code",
   "execution_count": null,
   "metadata": {},
   "outputs": [],
   "source": [
    "text06 = 'The name\\'s Bond, James Bond.\\nYes really!'\n",
    "print(text06)"
   ]
  },
  {
   "cell_type": "code",
   "execution_count": null,
   "metadata": {},
   "outputs": [],
   "source": [
    "text07 = 'The name\\'s Bond, Tabbed Bond.\\tYes really!'\n",
    "print(text07)\n",
    "text08 = \"The name\\'s Bond, Tabbed Bond.   Yes really!\"\n",
    "print(text08)"
   ]
  },
  {
   "cell_type": "markdown",
   "metadata": {},
   "source": [
    "## \"Raw\" Strings"
   ]
  },
  {
   "cell_type": "markdown",
   "metadata": {},
   "source": [
    "What if a character like a backslash (\\) is part of a string?"
   ]
  },
  {
   "cell_type": "code",
   "execution_count": null,
   "metadata": {},
   "outputs": [],
   "source": [
    "print(\"Please Access C:\\home\\test instead of C:\\\\games\\n\\hello\")"
   ]
  },
  {
   "cell_type": "code",
   "execution_count": 9,
   "metadata": {},
   "outputs": [
    {
     "name": "stdout",
     "output_type": "stream",
     "text": [
      "Please Access C:\\home\\test instead of C:\\\\games\\n\\hello\n"
     ]
    }
   ],
   "source": [
    "print(r\"Please Access C:\\home\\test instead of C:\\\\games\\n\\hello\")"
   ]
  },
  {
   "cell_type": "markdown",
   "metadata": {},
   "source": [
    "## String Substitution"
   ]
  },
  {
   "cell_type": "code",
   "execution_count": null,
   "metadata": {},
   "outputs": [],
   "source": [
    "age = 42\n",
    "print(\"I am {} years old.\".format(age))"
   ]
  },
  {
   "cell_type": "code",
   "execution_count": null,
   "metadata": {},
   "outputs": [],
   "source": [
    "print(\"I am {} years old\".format(age))\n",
    "print(\"Hello World!\")"
   ]
  },
  {
   "cell_type": "markdown",
   "metadata": {},
   "source": [
    "Did you  see above how we used `.format` to substitute a string? This is so useful when writing more complex functions with strings. Let's see another example."
   ]
  },
  {
   "cell_type": "code",
   "execution_count": 10,
   "metadata": {},
   "outputs": [
    {
     "name": "stdout",
     "output_type": "stream",
     "text": [
      "a\n",
      "b\n"
     ]
    }
   ],
   "source": [
    "fighter1 = input()\n",
    "fighter2 = input()"
   ]
  },
  {
   "cell_type": "code",
   "execution_count": null,
   "metadata": {},
   "outputs": [],
   "source": [
    "type(fighter1)"
   ]
  },
  {
   "cell_type": "code",
   "execution_count": 12,
   "metadata": {},
   "outputs": [
    {
     "name": "stdout",
     "output_type": "stream",
     "text": [
      "We went to see a bout between a and b. a totally kicked ass!\n"
     ]
    }
   ],
   "source": [
    "print(\"We went to see a bout between {} and {}. {} totally kicked ass!\".format(fighter1,fighter2, fighter1))"
   ]
  },
  {
   "cell_type": "markdown",
   "metadata": {},
   "source": [
    "# Indexing Strings"
   ]
  },
  {
   "cell_type": "markdown",
   "metadata": {},
   "source": [
    "**This is a very important topic! ** <br>\n",
    "Indexing and slicing form the basis of a lot of data manipulation techniques, so make sure you spend a lot of time practicing this."
   ]
  },
  {
   "cell_type": "markdown",
   "metadata": {},
   "source": [
    "**Example 1**: Indexing always begins at 0. Do you see why the answer here is \"k\"?\n",
    "<img src=\"images/str/str01.png\">"
   ]
  },
  {
   "cell_type": "markdown",
   "metadata": {},
   "source": [
    "**Example 2**: Indexing can have a lower bound, and an upper bound. The lower bound is always inclusive, and the upper bound is always exclusive.\n",
    "<img src=\"images/str/str02.png\">"
   ]
  },
  {
   "cell_type": "markdown",
   "metadata": {
    "collapsed": true
   },
   "source": [
    "**Example 3**: Similarly, -1 would imply the very last character. -2 would imply the 2nd last character, and so on.\n",
    "<img src=\"images/str/str03.png\">"
   ]
  },
  {
   "cell_type": "markdown",
   "metadata": {
    "collapsed": true
   },
   "source": [
    "**Example 4**: Again, the upper bound is exclusive. Always!\n",
    "<img src=\"images/str/str04.png\">"
   ]
  },
  {
   "cell_type": "markdown",
   "metadata": {
    "collapsed": true
   },
   "source": [
    "** Example 5**: You can skip strings too. The format? **[Lower Bound : Upper Bound : Character-to-Skip]**\n",
    "<img src=\"images/str/str05.png\">"
   ]
  },
  {
   "cell_type": "markdown",
   "metadata": {
    "collapsed": true
   },
   "source": [
    "** Example 6 **: You can also index all character.\n",
    "<img src=\"images/str/str06.png\">"
   ]
  },
  {
   "cell_type": "markdown",
   "metadata": {},
   "source": [
    "** Example 7 **: Index all character, and then skip every 2 (or 3 or 4 as you wish).\n",
    "<img src=\"images/str/str07.png\">"
   ]
  },
  {
   "cell_type": "markdown",
   "metadata": {},
   "source": [
    "** Example 8 **: Reversing strings\n",
    "<img src=\"images/str/str08.png\">"
   ]
  },
  {
   "cell_type": "code",
   "execution_count": 5,
   "metadata": {
    "collapsed": true
   },
   "outputs": [],
   "source": [
    "show = 'Monty Python'"
   ]
  },
  {
   "cell_type": "code",
   "execution_count": 2,
   "metadata": {},
   "outputs": [
    {
     "data": {
      "text/plain": [
       "'M'"
      ]
     },
     "execution_count": 2,
     "metadata": {},
     "output_type": "execute_result"
    }
   ],
   "source": [
    "show[0]"
   ]
  },
  {
   "cell_type": "code",
   "execution_count": 3,
   "metadata": {},
   "outputs": [
    {
     "data": {
      "text/plain": [
       "'n'"
      ]
     },
     "execution_count": 3,
     "metadata": {},
     "output_type": "execute_result"
    }
   ],
   "source": [
    "show[-1]"
   ]
  },
  {
   "cell_type": "code",
   "execution_count": 4,
   "metadata": {},
   "outputs": [
    {
     "data": {
      "text/plain": [
       "'Mont'"
      ]
     },
     "execution_count": 4,
     "metadata": {},
     "output_type": "execute_result"
    }
   ],
   "source": [
    "show[0:4]"
   ]
  },
  {
   "cell_type": "code",
   "execution_count": 6,
   "metadata": {},
   "outputs": [
    {
     "data": {
      "text/plain": [
       "'Monty'"
      ]
     },
     "execution_count": 6,
     "metadata": {},
     "output_type": "execute_result"
    }
   ],
   "source": [
    "show[0:5]"
   ]
  },
  {
   "cell_type": "code",
   "execution_count": 7,
   "metadata": {},
   "outputs": [
    {
     "data": {
      "text/plain": [
       "' Python'"
      ]
     },
     "execution_count": 7,
     "metadata": {},
     "output_type": "execute_result"
    }
   ],
   "source": [
    "show[-7:]"
   ]
  },
  {
   "cell_type": "code",
   "execution_count": 8,
   "metadata": {},
   "outputs": [
    {
     "data": {
      "text/plain": [
       "'hon'"
      ]
     },
     "execution_count": 8,
     "metadata": {},
     "output_type": "execute_result"
    }
   ],
   "source": [
    "show[-3:]"
   ]
  },
  {
   "cell_type": "code",
   "execution_count": 9,
   "metadata": {},
   "outputs": [
    {
     "data": {
      "text/plain": [
       "'onty Python'"
      ]
     },
     "execution_count": 9,
     "metadata": {},
     "output_type": "execute_result"
    }
   ],
   "source": [
    "show[1:]"
   ]
  },
  {
   "cell_type": "markdown",
   "metadata": {},
   "source": [
    "### Exercise\n",
    "\n",
    "* create a string named 'Welcome to the Jungle'\n",
    "* print the word 'Welcome' using indexing\n",
    "* print the word 'Jungle' using negative indexing\n",
    "* print the phrase 'come to the Jungle' using slicing"
   ]
  },
  {
   "cell_type": "code",
   "execution_count": null,
   "metadata": {
    "collapsed": true
   },
   "outputs": [],
   "source": [
    "# Enter your code below:"
   ]
  },
  {
   "cell_type": "markdown",
   "metadata": {},
   "source": [
    "# String Operations"
   ]
  },
  {
   "cell_type": "markdown",
   "metadata": {},
   "source": [
    "+ `+` : concatenate two (or more) strings\n",
    "+ `len(string)`: find the number of characters ina string\n",
    "+ `string.upper()`: returns an uppercase version of a string\n",
    "+ `string.lower()`: returns a lowercase version of a string\n",
    "+ `haystack.find(needle)`: searches haystack for needle, prints the position of the first occurrence, indexed from 0. Returns -1 if not found\n",
    "+ `string_1.count(string_2)`: counts the number of occurrences of one string in another.\n",
    "+ `haystack.startswith(needle)`: does a the haystack string start with the needle string?\n",
    "+ `haystack.endswith(needle)`: does a the haystack string end with the needle string?\n",
    "+ `string_1.split(string_2)`: split the first string at every occurrence of the second string. Outputs a list (see below).\n",
    "+ `==`: are the two operand strings the same?\n",
    "+ `string.strip()`: remove any whitespace from the left or right of the string, including newlines. \n",
    "\n",
    "Read more about string operations here: https://docs.python.org/3/library/string.html"
   ]
  },
  {
   "cell_type": "code",
   "execution_count": 14,
   "metadata": {
    "ExecuteTime": {
     "end_time": "2017-02-26T02:27:02.269302",
     "start_time": "2017-02-26T02:27:02.233192"
    }
   },
   "outputs": [
    {
     "name": "stdout",
     "output_type": "stream",
     "text": [
      "To Sherlock Holmes she is always the woman.\n"
     ]
    }
   ],
   "source": [
    "sherlocked = \"To Sherlock Holmes she is always the woman.\"\n",
    "print(sherlocked)"
   ]
  },
  {
   "cell_type": "code",
   "execution_count": null,
   "metadata": {
    "ExecuteTime": {
     "end_time": "2017-02-26T02:27:03.059871",
     "start_time": "2017-02-26T02:27:03.052005"
    }
   },
   "outputs": [],
   "source": [
    "print(len(sherlocked))"
   ]
  },
  {
   "cell_type": "code",
   "execution_count": null,
   "metadata": {
    "ExecuteTime": {
     "end_time": "2017-02-26T02:27:03.504054",
     "start_time": "2017-02-26T02:27:03.498732"
    }
   },
   "outputs": [],
   "source": [
    "print(sherlocked.upper())"
   ]
  },
  {
   "cell_type": "code",
   "execution_count": null,
   "metadata": {
    "ExecuteTime": {
     "end_time": "2017-02-26T02:27:03.720208",
     "start_time": "2017-02-26T02:27:03.712457"
    }
   },
   "outputs": [],
   "source": [
    "print(sherlocked.lower())"
   ]
  },
  {
   "cell_type": "code",
   "execution_count": null,
   "metadata": {
    "ExecuteTime": {
     "end_time": "2017-02-26T02:27:03.976674",
     "start_time": "2017-02-26T02:27:03.911027"
    }
   },
   "outputs": [],
   "source": [
    "sherlocked.find(\"she\")"
   ]
  },
  {
   "cell_type": "markdown",
   "metadata": {},
   "source": [
    "Like most things in Python, we can assign that to a variable"
   ]
  },
  {
   "cell_type": "code",
   "execution_count": 16,
   "metadata": {
    "ExecuteTime": {
     "end_time": "2017-02-26T02:27:06.218327",
     "start_time": "2017-02-26T02:27:06.203254"
    }
   },
   "outputs": [
    {
     "name": "stdout",
     "output_type": "stream",
     "text": [
      "19\n"
     ]
    }
   ],
   "source": [
    "pronoun = sherlocked.find(\"she\")\n",
    "print(pronoun)"
   ]
  },
  {
   "cell_type": "code",
   "execution_count": 17,
   "metadata": {
    "ExecuteTime": {
     "end_time": "2017-02-26T02:27:06.827512",
     "start_time": "2017-02-26T02:27:06.820601"
    }
   },
   "outputs": [
    {
     "name": "stdout",
     "output_type": "stream",
     "text": [
      "The world 'she' first appears at index 19\n"
     ]
    }
   ],
   "source": [
    "# Where can we find the first occurance of 'she'?\n",
    "print(\"The world 'she' first appears at index\", pronoun)"
   ]
  },
  {
   "cell_type": "code",
   "execution_count": 18,
   "metadata": {
    "ExecuteTime": {
     "end_time": "2017-02-26T02:27:08.605795",
     "start_time": "2017-02-26T02:27:08.593466"
    }
   },
   "outputs": [],
   "source": [
    "watson = \"In the year 1878 I took my degree of Doctor of Medicine of the University of London, and proceeded to Netley to go through the course prescribed for surgeons in the army. Having completed my studies there, I was duly attached to the Fifth Northumberland Fusiliers as Assistant Surgeon. The regiment was stationed in India at the time, and before I could join it, the second Afghan war had broken out. On landing at Bombay, I learned that my corps had advanced through the passes, and was already deep in the enemy’s country. I followed, however, with many other officers who were in the same situation as myself, and succeeded in reaching Candahar in safety, where I found my regiment, and at once entered upon my new duties.\""
   ]
  },
  {
   "cell_type": "code",
   "execution_count": 19,
   "metadata": {
    "ExecuteTime": {
     "end_time": "2017-02-26T02:27:09.488938",
     "start_time": "2017-02-26T02:27:09.481904"
    }
   },
   "outputs": [
    {
     "name": "stdout",
     "output_type": "stream",
     "text": [
      "In the year 1878 I took my degree of Doctor of Medicine of the University of London, and proceeded to Netley to go through the course prescribed for surgeons in the army. Having completed my studies there, I was duly attached to the Fifth Northumberland Fusiliers as Assistant Surgeon. The regiment was stationed in India at the time, and before I could join it, the second Afghan war had broken out. On landing at Bombay, I learned that my corps had advanced through the passes, and was already deep in the enemy’s country. I followed, however, with many other officers who were in the same situation as myself, and succeeded in reaching Candahar in safety, where I found my regiment, and at once entered upon my new duties.\n"
     ]
    }
   ],
   "source": [
    "print(watson)"
   ]
  },
  {
   "cell_type": "code",
   "execution_count": 20,
   "metadata": {
    "ExecuteTime": {
     "end_time": "2017-02-26T02:27:11.122506",
     "start_time": "2017-02-26T02:27:11.103543"
    }
   },
   "outputs": [
    {
     "data": {
      "text/plain": [
       "24"
      ]
     },
     "execution_count": 20,
     "metadata": {},
     "output_type": "execute_result"
    }
   ],
   "source": [
    "first_appearance = watson.find(\"my\")\n",
    "first_appearance"
   ]
  },
  {
   "cell_type": "code",
   "execution_count": 21,
   "metadata": {
    "ExecuteTime": {
     "end_time": "2017-02-26T02:27:12.889539",
     "start_time": "2017-02-26T02:27:12.875108"
    }
   },
   "outputs": [
    {
     "data": {
      "text/plain": [
       "167"
      ]
     },
     "execution_count": 21,
     "metadata": {},
     "output_type": "execute_result"
    }
   ],
   "source": [
    "second_appearance = watson.find(\"my\", first_appearance + 1)\n",
    "second_appearance"
   ]
  },
  {
   "cell_type": "code",
   "execution_count": 22,
   "metadata": {
    "ExecuteTime": {
     "end_time": "2017-02-26T02:27:16.606925",
     "start_time": "2017-02-26T02:27:16.595844"
    }
   },
   "outputs": [
    {
     "data": {
      "text/plain": [
       "9"
      ]
     },
     "execution_count": 22,
     "metadata": {},
     "output_type": "execute_result"
    }
   ],
   "source": [
    "watson.count(\"on\")"
   ]
  },
  {
   "cell_type": "markdown",
   "metadata": {},
   "source": [
    "## Exercise\n",
    "Find out how many times the word \"the\" occurs."
   ]
  },
  {
   "cell_type": "code",
   "execution_count": null,
   "metadata": {
    "collapsed": true
   },
   "outputs": [],
   "source": []
  },
  {
   "cell_type": "markdown",
   "metadata": {},
   "source": [
    "## Exercise\n",
    "Find the midpoint of the passage. Is there a difference in the occurrence of the word 'the' in the first half, versus the second half? \n",
    "\n",
    "(Hint: The midpoint would be int(len(watson)/2). Why int? Because practically speaking, 104.5 being the midpoint is meaningless. Converting to int means you have a whole number.)"
   ]
  },
  {
   "cell_type": "markdown",
   "metadata": {},
   "source": [
    "# Splitting Strings"
   ]
  },
  {
   "cell_type": "code",
   "execution_count": 23,
   "metadata": {
    "ExecuteTime": {
     "end_time": "2017-02-26T02:27:31.119201",
     "start_time": "2017-02-26T02:27:31.054087"
    }
   },
   "outputs": [
    {
     "name": "stdout",
     "output_type": "stream",
     "text": [
      "['A', 'Study', 'in', 'Scarlet']\n"
     ]
    }
   ],
   "source": [
    "print(\"A Study in Scarlet\".split(\" \"))"
   ]
  },
  {
   "cell_type": "code",
   "execution_count": 24,
   "metadata": {
    "ExecuteTime": {
     "end_time": "2017-02-26T02:27:33.271159",
     "start_time": "2017-02-26T02:27:33.229735"
    }
   },
   "outputs": [
    {
     "data": {
      "text/plain": [
       "4"
      ]
     },
     "execution_count": 24,
     "metadata": {},
     "output_type": "execute_result"
    }
   ],
   "source": [
    "watson.count(\"me\")"
   ]
  },
  {
   "cell_type": "code",
   "execution_count": null,
   "metadata": {
    "ExecuteTime": {
     "end_time": "2017-02-26T02:27:39.281682",
     "start_time": "2017-02-26T02:27:39.240175"
    }
   },
   "outputs": [],
   "source": [
    "watson.startswith(\"Sherlock\")"
   ]
  },
  {
   "cell_type": "code",
   "execution_count": null,
   "metadata": {
    "ExecuteTime": {
     "end_time": "2017-02-26T02:27:40.935466",
     "start_time": "2017-02-26T02:27:40.902256"
    }
   },
   "outputs": [],
   "source": [
    "watson.endswith(\"duties.\")"
   ]
  },
  {
   "cell_type": "code",
   "execution_count": 25,
   "metadata": {
    "ExecuteTime": {
     "end_time": "2017-02-26T02:27:45.711284",
     "start_time": "2017-02-26T02:27:45.654941"
    }
   },
   "outputs": [
    {
     "data": {
      "text/plain": [
       "['In the year 1878 I took my degree of Doctor of Medicine of the University of London, ',\n",
       " ' proceeded to Netley to go through the course prescribed for surgeons in the army. Having completed my studies there, I was duly attached to the Fifth Northumberl',\n",
       " ' Fusiliers as Assistant Surgeon. The regiment was stationed in India at the time, ',\n",
       " ' before I could join it, the second Afghan war had broken out. On l',\n",
       " 'ing at Bombay, I learned that my corps had advanced through the passes, ',\n",
       " ' was already deep in the enemy’s country. I followed, however, with many other officers who were in the same situation as myself, ',\n",
       " ' succeeded in reaching C',\n",
       " 'ahar in safety, where I found my regiment, ',\n",
       " ' at once entered upon my new duties.']"
      ]
     },
     "execution_count": 25,
     "metadata": {},
     "output_type": "execute_result"
    }
   ],
   "source": [
    "watson.split(\"and\")"
   ]
  },
  {
   "cell_type": "code",
   "execution_count": 26,
   "metadata": {
    "ExecuteTime": {
     "end_time": "2017-02-26T02:27:48.378699",
     "start_time": "2017-02-26T02:27:48.371195"
    }
   },
   "outputs": [],
   "source": [
    "watson2 = \"    Hello    \""
   ]
  },
  {
   "cell_type": "code",
   "execution_count": 27,
   "metadata": {
    "ExecuteTime": {
     "end_time": "2017-02-26T02:27:51.779721",
     "start_time": "2017-02-26T02:27:51.763028"
    }
   },
   "outputs": [
    {
     "data": {
      "text/plain": [
       "'Hello'"
      ]
     },
     "execution_count": 27,
     "metadata": {},
     "output_type": "execute_result"
    }
   ],
   "source": [
    "watson2.strip()"
   ]
  },
  {
   "cell_type": "code",
   "execution_count": null,
   "metadata": {
    "ExecuteTime": {
     "end_time": "2017-02-26T02:27:55.056106",
     "start_time": "2017-02-26T02:27:55.035988"
    }
   },
   "outputs": [],
   "source": [
    "watson3 = watson.replace(\",\",\"\")\n",
    "watson3 = watson3.replace(\".\", \"\")\n",
    "watson3"
   ]
  },
  {
   "cell_type": "code",
   "execution_count": null,
   "metadata": {
    "ExecuteTime": {
     "end_time": "2017-02-26T02:27:59.471309",
     "start_time": "2017-02-26T02:27:59.455439"
    }
   },
   "outputs": [],
   "source": [
    "watson3.split(\" \")"
   ]
  },
  {
   "cell_type": "markdown",
   "metadata": {},
   "source": [
    "### More Splits"
   ]
  },
  {
   "cell_type": "code",
   "execution_count": 28,
   "metadata": {
    "ExecuteTime": {
     "end_time": "2017-02-26T02:28:05.665340",
     "start_time": "2017-02-26T02:28:05.654955"
    }
   },
   "outputs": [
    {
     "name": "stdout",
     "output_type": "stream",
     "text": [
      "['chocolate', 'vanilla', 'banana', 'caramel']\n"
     ]
    }
   ],
   "source": [
    "ice_cream = \"chocolate vanilla banana caramel\"\n",
    "ice_cream = ice_cream.split(\" \")\n",
    "print(ice_cream)"
   ]
  },
  {
   "cell_type": "code",
   "execution_count": null,
   "metadata": {
    "ExecuteTime": {
     "end_time": "2017-02-26T02:28:09.372951",
     "start_time": "2017-02-26T02:28:09.360871"
    }
   },
   "outputs": [],
   "source": [
    "ice_cream[0]"
   ]
  },
  {
   "cell_type": "code",
   "execution_count": 29,
   "metadata": {
    "ExecuteTime": {
     "end_time": "2017-02-26T02:28:10.621911",
     "start_time": "2017-02-26T02:28:10.612708"
    }
   },
   "outputs": [
    {
     "data": {
      "text/plain": [
       "'caramel'"
      ]
     },
     "execution_count": 29,
     "metadata": {},
     "output_type": "execute_result"
    }
   ],
   "source": [
    "ice_cream[-1]"
   ]
  },
  {
   "cell_type": "code",
   "execution_count": null,
   "metadata": {
    "ExecuteTime": {
     "end_time": "2017-02-26T02:28:11.104310",
     "start_time": "2017-02-26T02:28:11.097467"
    }
   },
   "outputs": [],
   "source": [
    "ice_cream[1]"
   ]
  },
  {
   "cell_type": "code",
   "execution_count": 30,
   "metadata": {
    "ExecuteTime": {
     "end_time": "2017-02-26T02:28:11.655806",
     "start_time": "2017-02-26T02:28:11.650605"
    }
   },
   "outputs": [
    {
     "data": {
      "text/plain": [
       "4"
      ]
     },
     "execution_count": 30,
     "metadata": {},
     "output_type": "execute_result"
    }
   ],
   "source": [
    "len(ice_cream)"
   ]
  },
  {
   "cell_type": "markdown",
   "metadata": {},
   "source": [
    "### Exercise\n",
    "Create a progam to take an email as an input, and print the username and domain as outputs.\n",
    "\n",
    "Example: gavin@hooley.com should return\n",
    "* Username: gavin\n",
    "* Domain: hooley.com\n",
    "\n",
    "Hint: Use the .split method, then use indexing. This is not something we have covered in great detail, but think of it as a challenge. The answer is provided at the end of this notebook."
   ]
  },
  {
   "cell_type": "code",
   "execution_count": null,
   "metadata": {
    "collapsed": true
   },
   "outputs": [],
   "source": [
    "# gavin@hooley.com\n"
   ]
  },
  {
   "cell_type": "markdown",
   "metadata": {},
   "source": [
    "### Exercise\n",
    "* How many times does the name \"Sherlock\" appear in the passage below?\n",
    "* How many times does the name \"Lestrade\" appear in the passage below? "
   ]
  },
  {
   "cell_type": "code",
   "execution_count": null,
   "metadata": {
    "collapsed": true
   },
   "outputs": [],
   "source": [
    "passage = \"\"\"During the first week or so we had no callers, and I had begun to think that my companion was as friendless a man as I was myself. Presently, however, I found that he had many acquaintances, and those in the most different classes of society. There was one little sallow rat-faced, dark-eyed fellow who was introduced to me as Mr. Lestrade, and who came three or four times in a single week. One morning a young girl called, fashionably dressed, and stayed for half an hour or more. The same afternoon brought a grey-headed, seedy visitor, looking like a Jew pedlar, who appeared to me to be much excited, and who was closely followed by a slip-shod elderly woman. On another occasion an old white-haired gentleman had an interview with my companion; and on another a railway porter in his velveteen uniform. When any of these nondescript individuals put in an appearance, Sherlock Holmes used to beg for the use of the sitting-room, and I would retire to my bed-room. He always apologized to me for putting me to this inconvenience. “I have to use this room as a place of business,” he said, “and these people are my clients.” Again I had an opportunity of asking him a point blank question, and again my delicacy prevented me from forcing another man to confide in me. I imagined at the time that he had some strong reason for not alluding to it, but he soon dispelled the idea by coming round to the subject of his own accord.\n",
    "It was upon the 4th of March, as I have good reason to remember, that I rose somewhat earlier than usual, and found that Sherlock Holmes had not yet finished his breakfast. The landlady had become so accustomed to my late habits that my place had not been laid nor my coffee prepared. With the unreasonable petulance of mankind I rang the bell and gave a curt intimation that I was ready. Then I picked up a magazine from the table and attempted to while away the time with it, while my companion munched silently at his toast. One of the articles had a pencil mark at the heading, and I naturally began to run my eye through it.\n",
    "Its somewhat ambitious title was “The Book of Life,” and it attempted to show how much an observant man might learn by an accurate and systematic examination of all that came in his way. It struck me as being a remarkable mixture of shrewdness and of absurdity. The reasoning was close and intense, but the deductions appeared to me to be far-fetched and exaggerated. The writer claimed by a momentary expression, a twitch of a muscle or a glance of an eye, to fathom a man’s inmost thoughts. Deceit, according to him, was an impossibility in the case of one trained to observation and analysis. His conclusions were as infallible as so many propositions of Euclid. So startling would his results appear to the uninitiated that until they learned the processes by which he had arrived at them they might well consider him as a necromancer.\n",
    "“From a drop of water,” said the writer, “a logician could infer the possibility of an Atlantic or a Niagara without having seen or heard of one or the other. So all life is a great chain, the nature of which is known whenever we are shown a single link of it. Like all other arts, the Science of Deduction and Analysis is one which can only be acquired by long and patient study nor is life long enough to allow any mortal to attain the highest possible perfection in it. Before turning to those moral and mental aspects of the matter which present the greatest difficulties, let the enquirer begin by mastering more elementary problems. Let him, on meeting a fellow-mortal, learn at a glance to distinguish the history of the man, and the trade or profession to which he belongs. Puerile as such an exercise may seem, it sharpens the faculties of observation, and teaches one where to look and what to look for. By a man’s finger nails, by his coat-sleeve, by his boot, by his trouser knees, by the callosities of his forefinger and thumb, by his expression, by his shirt cuffs—by each of these things a man’s calling is plainly revealed. That all united should fail to enlighten the competent enquirer in any case is almost inconceivable.”\n",
    "“What ineffable twaddle!” I cried, slapping the magazine down on the table, “I never read such rubbish in my life.”\n",
    "“What is it?” asked Sherlock Holmes.\n",
    "“Why, this article,” I said, pointing at it with my egg spoon as I sat down to my breakfast. “I see that you have read it since you have marked it. I don’t deny that it is smartly written. It irritates me though. It is evidently the theory of some arm-chair lounger who evolves all these neat little paradoxes in the seclusion of his own study. It is not practical. I should like to see him clapped down in a third class carriage on the Underground, and asked to give the trades of all his fellow-travellers. I would lay a thousand to one against him.”\n",
    "“You would lose your money,” Sherlock Holmes remarked calmly. “As for the article I wrote it myself.”\n",
    "“You!”\n",
    "“Yes, I have a turn both for observation and for deduction. The theories which I have expressed there, and which appear to you to be so chimerical are really extremely practical—so practical that I depend upon them for my bread and cheese.”\n",
    "“And how?” I asked involuntarily.\n",
    "“Well, I have a trade of my own. I suppose I am the only one in the world. I’m a consulting detective, if you can understand what that is. Here in London we have lots of Government detectives and lots of private ones. When these fellows are at fault they come to me, and I manage to put them on the right scent. They lay all the evidence before me, and I am generally able, by the help of my knowledge of the history of crime, to set them straight. There is a strong family resemblance about misdeeds, and if you have all the details of a thousand at your finger ends, it is odd if you can’t unravel the thousand and first. Lestrade is a well-known detective. He got himself into a fog recently over a forgery case, and that was what brought him here.”\n",
    "“And these other people?”\n",
    "“They are mostly sent on by private inquiry agencies. They are all people who are in trouble about something, and want a little enlightening. I listen to their story, they listen to my comments, and then I pocket my fee.”\n",
    "“But do you mean to say,” I said, “that without leaving your room you can unravel some knot which other men can make nothing of, although they have seen every detail for themselves?”\n",
    "“Quite so. I have a kind of intuition that way. Now and again a case turns up which is a little more complex. Then I have to bustle about and see things with my own eyes. You see I have a lot of special knowledge which I apply to the problem, and which facilitates matters wonderfully. Those rules of deduction laid down in that article which aroused your scorn, are invaluable to me in practical work. Observation with me is second nature. You appeared to be surprised when I told you, on our first meeting, that you had come from Afghanistan.”\n",
    "“You were told, no doubt.”\n",
    "“Nothing of the sort. I knew you came from Afghanistan. From long habit the train of thoughts ran so swiftly through my mind, that I arrived at the conclusion without being conscious of intermediate steps. There were such steps, however. The train of reasoning ran, ‘Here is a gentleman of a medical type, but with the air of a military man. Clearly an army doctor, then. He has just come from the tropics, for his face is dark, and that is not the natural tint of his skin, for his wrists are fair. He has undergone hardship and sickness, as his haggard face says clearly. His left arm has been injured. He holds it in a stiff and unnatural manner. Where in the tropics could an English army doctor have seen much hardship and got his arm wounded? Clearly in Afghanistan.’ The whole train of thought did not occupy a second. I then remarked that you came from Afghanistan, and you were astonished.”\n",
    "“It is simple enough as you explain it,” I said, smiling. “You remind me of Edgar Allen Poe’s Dupin. I had no idea that such individuals did exist outside of stories.”\n",
    "Sherlock Holmes rose and lit his pipe. “No doubt you think that you are complimenting me in comparing me to Dupin,” he observed. “Now, in my opinion, Dupin was a very inferior fellow. That trick of his of breaking in on his friends’ thoughts with an apropos remark after a quarter of an hour’s silence is really very showy and superficial. He had some analytical genius, no doubt; but he was by no means such a phenomenon as Poe appeared to imagine.”\n",
    "“Have you read Gaboriau’s works?” I asked. “Does Lecoq come up to your idea of a detective?”\n",
    "Sherlock Holmes sniffed sardonically. “Lecoq was a miserable bungler,” he said, in an angry voice; “he had only one thing to recommend him, and that was his energy. That book made me positively ill. The question was how to identify an unknown prisoner. I could have done it in twenty-four hours. Lecoq took six months or so. It might be made a text-book for detectives to teach them what to avoid.”\n",
    "I felt rather indignant at having two characters whom I had admired treated in this cavalier style. I walked over to the window, and stood looking out into the busy street. “This fellow may be very clever,” I said to myself, “but he is certainly very conceited.”\n",
    "“There are no crimes and no criminals in these days,” he said, querulously. “What is the use of having brains in our profession. I know well that I have it in me to make my name famous. No man lives or has ever lived who has brought the same amount of study and of natural talent to the detection of crime which I have done. And what is the result? There is no crime to detect, or, at most, some bungling villainy with a motive so transparent that even a Scotland Yard official can see through it.”\n",
    "I was still annoyed at his bumptious style of conversation. I thought it best to change the topic.\n",
    "“I wonder what that fellow is looking for?” I asked, pointing to a stalwart, plainly-dressed individual who was walking slowly down the other side of the street, looking anxiously at the numbers. He had a large blue envelope in his hand, and was evidently the bearer of a message.\n",
    "“You mean the retired sergeant of Marines,” said Sherlock Holmes.\n",
    "“Brag and bounce!” thought I to myself. “He knows that I cannot verify his guess.”\n",
    "The thought had hardly passed through my mind when the man whom we were watching caught sight of the number on our door, and ran rapidly across the roadway. We heard a loud knock, a deep voice below, and heavy steps ascending the stair.\n",
    "“For Mr. Sherlock Holmes,” he said, stepping into the room and handing my friend the letter.\n",
    "Here was an opportunity of taking the conceit out of him. He little thought of this when he made that random shot. “May I ask, my lad,” I said, in the blandest voice, “what your trade may be?”\n",
    "“Commissionaire, sir,” he said, gruffly. “Uniform away for repairs.”\n",
    "“And you were?” I asked, with a slightly malicious glance at my companion.\n",
    "“A sergeant, sir, Royal Marine Light Infantry, sir. No answer? Right, sir.”\n",
    "He clicked his heels together, raised his hand in a salute, and was gone.\"\"\""
   ]
  },
  {
   "cell_type": "code",
   "execution_count": null,
   "metadata": {
    "collapsed": true
   },
   "outputs": [],
   "source": [
    "# Count Sherlock\n",
    "\n"
   ]
  },
  {
   "cell_type": "code",
   "execution_count": null,
   "metadata": {
    "collapsed": true,
    "solution": "hidden"
   },
   "outputs": [],
   "source": [
    "# Count Lestrade\n"
   ]
  },
  {
   "cell_type": "markdown",
   "metadata": {},
   "source": [
    "### Solution for Email Splitting Problem"
   ]
  },
  {
   "cell_type": "code",
   "execution_count": null,
   "metadata": {
    "ExecuteTime": {
     "end_time": "2017-02-26T02:28:54.906503",
     "start_time": "2017-02-26T02:28:54.883227"
    },
    "collapsed": true
   },
   "outputs": [],
   "source": [
    "mail1 = \"gavin@hooley.com\".split(\"@\")\n",
    "mail1\n",
    "mail1[0]"
   ]
  },
  {
   "cell_type": "code",
   "execution_count": null,
   "metadata": {},
   "outputs": [],
   "source": [
    "Username = mail1[0]\n",
    "Domain = mail1[1]\n",
    "\n",
    "print(\"Username:\",Username, \"\\nDomain:\",Domain)"
   ]
  },
  {
   "cell_type": "code",
   "execution_count": null,
   "metadata": {},
   "outputs": [],
   "source": [
    "# Solution for Sherlock and Lestrade\n",
    "\n",
    "print(\"Number of times 'Sherlock' appears in passage:\", passage.count(\"Sherlock\"))\n",
    "print(\"Number of times 'Lestrade' appears in passage:\", passage.count(\"Lestrade\"))\n"
   ]
  }
 ],
 "metadata": {
  "kernelspec": {
   "display_name": "Python 3",
   "language": "python",
   "name": "python3"
  },
  "language_info": {
   "codemirror_mode": {
    "name": "ipython",
    "version": 3
   },
   "file_extension": ".py",
   "mimetype": "text/x-python",
   "name": "python",
   "nbconvert_exporter": "python",
   "pygments_lexer": "ipython3",
   "version": "3.6.4"
  },
  "toc": {
   "colors": {
    "hover_highlight": "#DAA520",
    "running_highlight": "#FF0000",
    "selected_highlight": "#FFD700"
   },
   "moveMenuLeft": true,
   "nav_menu": {
    "height": "246px",
    "width": "252px"
   },
   "navigate_menu": true,
   "number_sections": true,
   "sideBar": true,
   "threshold": 4,
   "toc_cell": true,
   "toc_section_display": "block",
   "toc_window_display": true
  }
 },
 "nbformat": 4,
 "nbformat_minor": 2
}
