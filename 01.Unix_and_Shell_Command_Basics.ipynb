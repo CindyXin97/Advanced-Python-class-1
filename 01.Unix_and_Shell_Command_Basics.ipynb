{
 "cells": [
  {
   "cell_type": "markdown",
   "metadata": {
    "hideCode": false,
    "hidePrompt": false,
    "toc": "true"
   },
   "source": [
    "# Table of Contents\n",
    " <p><div class=\"lev1 toc-item\"><a href=\"#Overview\" data-toc-modified-id=\"Overview-1\"><span class=\"toc-item-num\">1&nbsp;&nbsp;</span>Overview</a></div><div class=\"lev2 toc-item\"><a href=\"#pwd---Print-Working-Directory\" data-toc-modified-id=\"pwd---Print-Working-Directory-11\"><span class=\"toc-item-num\">1.1&nbsp;&nbsp;</span>pwd - Print Working Directory</a></div><div class=\"lev2 toc-item\"><a href=\"#ls---List-files-and-directory-names,-attributes\" data-toc-modified-id=\"ls---List-files-and-directory-names,-attributes-12\"><span class=\"toc-item-num\">1.2&nbsp;&nbsp;</span>ls - List files and directory names, attributes</a></div><div class=\"lev2 toc-item\"><a href=\"#mkdir---Make-a-new-directory\" data-toc-modified-id=\"mkdir---Make-a-new-directory-13\"><span class=\"toc-item-num\">1.3&nbsp;&nbsp;</span>mkdir - Make a new directory</a></div><div class=\"lev2 toc-item\"><a href=\"#cd---Change-to-a-particular-directory\" data-toc-modified-id=\"cd---Change-to-a-particular-directory-14\"><span class=\"toc-item-num\">1.4&nbsp;&nbsp;</span>cd - Change to a particular directory</a></div><div class=\"lev2 toc-item\"><a href=\"#rmdir---Remove-a-directory\" data-toc-modified-id=\"rmdir---Remove-a-directory-15\"><span class=\"toc-item-num\">1.5&nbsp;&nbsp;</span>rmdir - Remove a directory</a></div><div class=\"lev2 toc-item\"><a href=\"#cp---Copy-Files\" data-toc-modified-id=\"cp---Copy-Files-16\"><span class=\"toc-item-num\">1.6&nbsp;&nbsp;</span>cp - Copy Files</a></div><div class=\"lev2 toc-item\"><a href=\"#rm---Remove-files\" data-toc-modified-id=\"rm---Remove-files-17\"><span class=\"toc-item-num\">1.7&nbsp;&nbsp;</span>rm - Remove files</a></div><div class=\"lev2 toc-item\"><a href=\"#mv-:-Move-a-file\" data-toc-modified-id=\"mv-:-Move-a-file-18\"><span class=\"toc-item-num\">1.8&nbsp;&nbsp;</span>mv : Move a file</a></div><div class=\"lev2 toc-item\"><a href=\"#CURL---Getting-Data-from-the-Command-Line\" data-toc-modified-id=\"CURL---Getting-Data-from-the-Command-Line-19\"><span class=\"toc-item-num\">1.9&nbsp;&nbsp;</span>CURL - Getting Data from the Command Line</a></div><div class=\"lev2 toc-item\"><a href=\"#head/tail\" data-toc-modified-id=\"head/tail-110\"><span class=\"toc-item-num\">1.10&nbsp;&nbsp;</span>head/tail</a></div><div class=\"lev2 toc-item\"><a href=\"#grep:\" data-toc-modified-id=\"grep:-111\"><span class=\"toc-item-num\">1.11&nbsp;&nbsp;</span>grep:</a></div><div class=\"lev2 toc-item\"><a href=\"#Redirection-(or-Downloading)\" data-toc-modified-id=\"Redirection-(or-Downloading)-112\"><span class=\"toc-item-num\">1.12&nbsp;&nbsp;</span>Redirection (or Downloading)</a></div>"
   ]
  },
  {
   "cell_type": "markdown",
   "metadata": {
    "hideCode": false,
    "hidePrompt": false
   },
   "source": [
    "# Overview"
   ]
  },
  {
   "cell_type": "markdown",
   "metadata": {
    "hideCode": false,
    "hidePrompt": false
   },
   "source": [
    "This is by no means an exhaustive list, the point is just to give you a feeler for what's possible. If you have used Linux or Mac, or have written code in Ruby, chances are you have used Unix commands already. If you're a Windows user, here are two good resources: \n",
    "* https://www.howtogeek.com/249966/how-to-install-and-use-the-linux-bash-shell-on-windows-10/\n",
    "* https://www.howtogeek.com/howto/41382/how-to-use-linux-commands-in-windows-with-cygwin/\n",
    "\n",
    "Another great resource in general on the basics of unix commands:\n",
    "* http://matt.might.net/articles/basic-unix/"
   ]
  },
  {
   "cell_type": "markdown",
   "metadata": {
    "hideCode": false,
    "hidePrompt": false
   },
   "source": [
    "## pwd - Print Working Directory"
   ]
  },
  {
   "cell_type": "code",
   "execution_count": 7,
   "metadata": {
    "hideCode": false,
    "hidePrompt": false
   },
   "outputs": [
    {
     "name": "stdout",
     "output_type": "stream",
     "text": [
      "/Volumes/HDD3TB/05. Work/03. Udemy/03. Final/pyds\r\n"
     ]
    }
   ],
   "source": [
    "!pwd"
   ]
  },
  {
   "cell_type": "markdown",
   "metadata": {
    "hideCode": false,
    "hidePrompt": false
   },
   "source": [
    "## ls - List files and directory names, attributes"
   ]
  },
  {
   "cell_type": "markdown",
   "metadata": {
    "hideCode": false,
    "hidePrompt": false
   },
   "source": [
    "Some commonly used commands are below:\n",
    "* -A: list all of the contents of the queried directory, even hidden files.\n",
    "* -l: detailed format, display additional info for all files and directories.\n",
    "* -R: recursively list the contents of any subdirectories.\n",
    "* -t: sort files by the time of the last modification.\n",
    "* -S: sort files by size.\n",
    "* -r: reverse any sort order.\n",
    "* -h: when used in conjunction with -l, gives a more human-readable output.\n",
    "\n",
    "You can also combine the commands/flags. \n",
    "For example:\n",
    "* -al\n",
    "* -Al\n",
    "\n",
    "Read more on this topic here: https://www.mkssoftware.com/docs/man1/ls.1.asp"
   ]
  },
  {
   "cell_type": "code",
   "execution_count": 2,
   "metadata": {
    "hideCode": false,
    "hidePrompt": false
   },
   "outputs": [
    {
     "name": "stdout",
     "output_type": "stream",
     "text": [
      " Volume in drive C is OS\n",
      " Volume Serial Number is 0A7F-D087\n",
      "\n",
      " Directory of C:\\Users\\madan\\Downloads\\pyds\\pyds-master\n",
      "\n",
      "02/07/2019  07:12 PM    <DIR>          .\n",
      "02/07/2019  07:12 PM    <DIR>          ..\n",
      "02/07/2019  07:04 PM             6,148 .DS_Store\n",
      "02/07/2019  07:04 PM               329 .gitignore\n",
      "02/07/2019  07:04 PM    <DIR>          .ipynb_checkpoints\n",
      "02/07/2019  07:12 PM            81,221 01.Unix_and_Shell_Command_Basics.ipynb\n",
      "02/07/2019  07:04 PM           540,628 02.Python_Basics.ipynb\n",
      "02/07/2019  07:04 PM            13,087 03.All_about_Numbers.ipynb\n",
      "02/07/2019  07:04 PM            45,389 04.String_me_along.ipynb\n",
      "02/07/2019  07:04 PM             8,315 05.Booleans_True_or_False.ipynb\n",
      "02/07/2019  07:04 PM            34,341 06.List_it_out.ipynb\n",
      "02/07/2019  07:04 PM            35,965 07.Loop_it_up.ipynb\n",
      "02/07/2019  07:04 PM            24,331 08.Let_it_Function.ipynb\n",
      "02/07/2019  07:04 PM            22,151 09.Reading_writing_files.ipynb\n",
      "02/07/2019  07:04 PM           557,452 10.Visualise_This.ipynb\n",
      "02/07/2019  07:04 PM            67,424 11.Introduction_to_Numpy.ipynb\n",
      "02/07/2019  07:04 PM           231,437 12.Introduction_to_Pandas.ipynb\n",
      "02/07/2019  07:04 PM            25,271 Case Study - Hunt a Serial Killer.ipynb\n",
      "02/07/2019  07:04 PM           337,659 Case Study - Restaurants in New York City.ipynb\n",
      "02/07/2019  07:04 PM    <DIR>          Data\n",
      "02/07/2019  07:04 PM    <DIR>          images\n",
      "02/07/2019  07:04 PM             1,075 LICENSE\n",
      "02/07/2019  07:04 PM               834 README.md\n",
      "02/07/2019  07:04 PM            11,430 Unsinkable Data Science - Mind Map.pdf\n",
      "              19 File(s)      2,044,487 bytes\n",
      "               5 Dir(s)  85,779,656,704 bytes free\n"
     ]
    }
   ],
   "source": [
    "ls"
   ]
  },
  {
   "cell_type": "code",
   "execution_count": 9,
   "metadata": {
    "hideCode": false,
    "hidePrompt": false
   },
   "outputs": [
    {
     "name": "stdout",
     "output_type": "stream",
     "text": [
      "01.Unix_and_Shell_Command_Basics.ipynb\r\n",
      "02.Python_Basics.ipynb\r\n",
      "03.All_about_Numbers.ipynb\r\n",
      "04.String_me_along.ipynb\r\n",
      "05.Booleans_True_or_False.ipynb\r\n",
      "06.List_it_out.ipynb\r\n",
      "07.Loop_it_up.ipynb\r\n",
      "08.Let_it_Function.ipynb\r\n",
      "09.Reading_writing_files.ipynb\r\n",
      "10.Visualise_This.ipynb\r\n",
      "11.Introduction_to_Numpy.ipynb\r\n",
      "12.Introduction_to_Pandas.ipynb\r\n",
      "Case+Study+1+-+Hunt+a+Serial+Killer.ipynb\r\n",
      "\u001b[34mData\u001b[m\u001b[m\r\n",
      "LICENSE\r\n",
      "README.md\r\n",
      "\u001b[34mimages\u001b[m\u001b[m\r\n"
     ]
    }
   ],
   "source": [
    "!ls"
   ]
  },
  {
   "cell_type": "code",
   "execution_count": 10,
   "metadata": {
    "hideCode": false,
    "hidePrompt": false
   },
   "outputs": [
    {
     "name": "stdout",
     "output_type": "stream",
     "text": [
      "total 2288\r\n",
      "drwxr-xr-x  23 prasant  staff     782 Mar 14 21:14 \u001b[34m.\u001b[m\u001b[m/\r\n",
      "drwxr-xr-x   6 prasant  staff     204 Mar 11 21:04 \u001b[34m..\u001b[m\u001b[m/\r\n",
      "-rw-r--r--@  1 prasant  staff    6148 Mar  2 23:45 .DS_Store\r\n",
      "drwxr-xr-x  15 prasant  staff     510 Mar  9 21:10 \u001b[34m.git\u001b[m\u001b[m/\r\n",
      "-rw-r--r--@  1 prasant  staff     329 Mar  2 14:53 .gitignore\r\n",
      "drwxr-xr-x  13 prasant  staff     442 Mar  9 21:16 \u001b[34m.ipynb_checkpoints\u001b[m\u001b[m/\r\n",
      "-rw-r--r--@  1 prasant  staff   27863 Mar 14 21:14 01.Unix_and_Shell_Command_Basics.ipynb\r\n",
      "-rw-r--r--@  1 prasant  staff   15343 Mar  5 04:13 02.Python_Basics.ipynb\r\n",
      "-rw-r--r--@  1 prasant  staff   13087 Mar  2 18:53 03.All_about_Numbers.ipynb\r\n",
      "-rw-r--r--@  1 prasant  staff   40825 Mar 11 01:04 04.String_me_along.ipynb\r\n",
      "-rw-r--r--@  1 prasant  staff    8315 Mar  6 01:42 05.Booleans_True_or_False.ipynb\r\n",
      "-rw-r--r--@  1 prasant  staff   34341 Mar  6 03:35 06.List_it_out.ipynb\r\n",
      "-rw-r--r--@  1 prasant  staff   35965 Mar  8 00:04 07.Loop_it_up.ipynb\r\n",
      "-rw-r--r--@  1 prasant  staff   24331 Mar  8 02:47 08.Let_it_Function.ipynb\r\n",
      "-rw-r--r--@  1 prasant  staff   22151 Mar  8 22:56 09.Reading_writing_files.ipynb\r\n",
      "-rw-r--r--@  1 prasant  staff  555392 Mar  9 21:10 10.Visualise_This.ipynb\r\n",
      "-rw-r--r--@  1 prasant  staff   67424 Mar 10 03:25 11.Introduction_to_Numpy.ipynb\r\n",
      "-rw-r--r--@  1 prasant  staff  229070 Mar 10 17:31 12.Introduction_to_Pandas.ipynb\r\n",
      "-rw-r--r--   1 prasant  staff   22456 Mar  3 00:17 Case+Study+1+-+Hunt+a+Serial+Killer.ipynb\r\n",
      "drwxr-xr-x  20 prasant  staff     680 Mar  5 23:56 \u001b[34mData\u001b[m\u001b[m/\r\n",
      "-rw-r--r--   1 prasant  staff    1075 Mar  2 13:12 LICENSE\r\n",
      "-rw-r--r--   1 prasant  staff     834 Mar  3 00:26 README.md\r\n",
      "drwxr-xr-x@ 25 prasant  staff     850 Mar  9 08:06 \u001b[34mimages\u001b[m\u001b[m/\r\n"
     ]
    }
   ],
   "source": [
    "ls -al"
   ]
  },
  {
   "cell_type": "code",
   "execution_count": null,
   "metadata": {
    "hideCode": false,
    "hidePrompt": false
   },
   "outputs": [],
   "source": [
    "ls -Al"
   ]
  },
  {
   "cell_type": "markdown",
   "metadata": {
    "collapsed": true,
    "hideCode": false,
    "hidePrompt": false
   },
   "source": [
    "## mkdir - Make a new directory"
   ]
  },
  {
   "cell_type": "code",
   "execution_count": 11,
   "metadata": {
    "hideCode": false,
    "hidePrompt": false
   },
   "outputs": [],
   "source": [
    "!mkdir NewFolder"
   ]
  },
  {
   "cell_type": "code",
   "execution_count": 12,
   "metadata": {
    "hideCode": false,
    "hidePrompt": false
   },
   "outputs": [
    {
     "name": "stdout",
     "output_type": "stream",
     "text": [
      "01.Unix_and_Shell_Command_Basics.ipynb\r\n",
      "02.Python_Basics.ipynb\r\n",
      "03.All_about_Numbers.ipynb\r\n",
      "04.String_me_along.ipynb\r\n",
      "05.Booleans_True_or_False.ipynb\r\n",
      "06.List_it_out.ipynb\r\n",
      "07.Loop_it_up.ipynb\r\n",
      "08.Let_it_Function.ipynb\r\n",
      "09.Reading_writing_files.ipynb\r\n",
      "10.Visualise_This.ipynb\r\n",
      "11.Introduction_to_Numpy.ipynb\r\n",
      "12.Introduction_to_Pandas.ipynb\r\n",
      "Case+Study+1+-+Hunt+a+Serial+Killer.ipynb\r\n",
      "\u001b[34mData\u001b[m\u001b[m/\r\n",
      "LICENSE\r\n",
      "\u001b[34mNewFolder\u001b[m\u001b[m/\r\n",
      "README.md\r\n",
      "\u001b[34mimages\u001b[m\u001b[m/\r\n"
     ]
    }
   ],
   "source": [
    "ls"
   ]
  },
  {
   "cell_type": "markdown",
   "metadata": {
    "hideCode": false,
    "hidePrompt": false
   },
   "source": [
    "## cd - Change to a particular directory"
   ]
  },
  {
   "cell_type": "code",
   "execution_count": 13,
   "metadata": {
    "hideCode": false,
    "hidePrompt": false
   },
   "outputs": [
    {
     "name": "stdout",
     "output_type": "stream",
     "text": [
      "/Volumes/HDD3TB/05. Work/03. Udemy/03. Final/pyds/NewFolder\n"
     ]
    }
   ],
   "source": [
    "cd NewFolder"
   ]
  },
  {
   "cell_type": "code",
   "execution_count": 14,
   "metadata": {},
   "outputs": [
    {
     "name": "stdout",
     "output_type": "stream",
     "text": [
      "/Volumes/HDD3TB/05. Work/03. Udemy/03. Final/pyds/NewFolder\r\n"
     ]
    }
   ],
   "source": [
    "!pwd"
   ]
  },
  {
   "cell_type": "code",
   "execution_count": 15,
   "metadata": {
    "hideCode": false,
    "hidePrompt": false
   },
   "outputs": [
    {
     "name": "stdout",
     "output_type": "stream",
     "text": [
      "/Volumes/HDD3TB/05. Work/03. Udemy/03. Final/pyds\n"
     ]
    }
   ],
   "source": [
    "cd .."
   ]
  },
  {
   "cell_type": "code",
   "execution_count": 16,
   "metadata": {},
   "outputs": [
    {
     "name": "stdout",
     "output_type": "stream",
     "text": [
      "/Volumes/HDD3TB/05. Work/03. Udemy/03. Final/pyds\r\n"
     ]
    }
   ],
   "source": [
    "!pwd"
   ]
  },
  {
   "cell_type": "code",
   "execution_count": 17,
   "metadata": {
    "hideCode": false,
    "hidePrompt": false
   },
   "outputs": [
    {
     "name": "stdout",
     "output_type": "stream",
     "text": [
      "01.Unix_and_Shell_Command_Basics.ipynb\r\n",
      "02.Python_Basics.ipynb\r\n",
      "03.All_about_Numbers.ipynb\r\n",
      "04.String_me_along.ipynb\r\n",
      "05.Booleans_True_or_False.ipynb\r\n",
      "06.List_it_out.ipynb\r\n",
      "07.Loop_it_up.ipynb\r\n",
      "08.Let_it_Function.ipynb\r\n",
      "09.Reading_writing_files.ipynb\r\n",
      "10.Visualise_This.ipynb\r\n",
      "11.Introduction_to_Numpy.ipynb\r\n",
      "12.Introduction_to_Pandas.ipynb\r\n",
      "Case+Study+1+-+Hunt+a+Serial+Killer.ipynb\r\n",
      "\u001b[34mData\u001b[m\u001b[m/\r\n",
      "LICENSE\r\n",
      "\u001b[34mNewFolder\u001b[m\u001b[m/\r\n",
      "README.md\r\n",
      "\u001b[34mimages\u001b[m\u001b[m/\r\n"
     ]
    }
   ],
   "source": [
    "ls"
   ]
  },
  {
   "cell_type": "markdown",
   "metadata": {
    "hideCode": false,
    "hidePrompt": false
   },
   "source": [
    "## rmdir - Remove a directory"
   ]
  },
  {
   "cell_type": "markdown",
   "metadata": {
    "hideCode": false,
    "hidePrompt": false
   },
   "source": [
    "If the folder is not empty, it need the \"-r\" flag. \n",
    "\n",
    "Example:\n",
    "rmdir -r NewFolder "
   ]
  },
  {
   "cell_type": "code",
   "execution_count": 18,
   "metadata": {
    "collapsed": true,
    "hideCode": false,
    "hidePrompt": false
   },
   "outputs": [],
   "source": [
    "rmdir NewFolder"
   ]
  },
  {
   "cell_type": "code",
   "execution_count": 19,
   "metadata": {
    "hideCode": false,
    "hidePrompt": false
   },
   "outputs": [
    {
     "name": "stdout",
     "output_type": "stream",
     "text": [
      "01.Unix_and_Shell_Command_Basics.ipynb\r\n",
      "02.Python_Basics.ipynb\r\n",
      "03.All_about_Numbers.ipynb\r\n",
      "04.String_me_along.ipynb\r\n",
      "05.Booleans_True_or_False.ipynb\r\n",
      "06.List_it_out.ipynb\r\n",
      "07.Loop_it_up.ipynb\r\n",
      "08.Let_it_Function.ipynb\r\n",
      "09.Reading_writing_files.ipynb\r\n",
      "10.Visualise_This.ipynb\r\n",
      "11.Introduction_to_Numpy.ipynb\r\n",
      "12.Introduction_to_Pandas.ipynb\r\n",
      "Case+Study+1+-+Hunt+a+Serial+Killer.ipynb\r\n",
      "\u001b[34mData\u001b[m\u001b[m/\r\n",
      "LICENSE\r\n",
      "README.md\r\n",
      "\u001b[34mimages\u001b[m\u001b[m/\r\n"
     ]
    }
   ],
   "source": [
    "ls"
   ]
  },
  {
   "cell_type": "markdown",
   "metadata": {
    "hideCode": false,
    "hidePrompt": false
   },
   "source": [
    "## cp - Copy Files"
   ]
  },
  {
   "cell_type": "markdown",
   "metadata": {
    "hideCode": false,
    "hidePrompt": false
   },
   "source": [
    "Careful with the filenames! Will be overwritten without warning."
   ]
  },
  {
   "cell_type": "code",
   "execution_count": 20,
   "metadata": {
    "hideCode": false,
    "hidePrompt": false
   },
   "outputs": [
    {
     "name": "stdout",
     "output_type": "stream",
     "text": [
      "01.Unix_and_Shell_Command_Basics.ipynb\r\n",
      "02.Python_Basics.ipynb\r\n",
      "03.All_about_Numbers.ipynb\r\n",
      "04.String_me_along.ipynb\r\n",
      "05.Booleans_True_or_False.ipynb\r\n",
      "06.List_it_out.ipynb\r\n",
      "07.Loop_it_up.ipynb\r\n",
      "08.Let_it_Function.ipynb\r\n",
      "09.Reading_writing_files.ipynb\r\n",
      "10.Visualise_This.ipynb\r\n",
      "11.Introduction_to_Numpy.ipynb\r\n",
      "12.Introduction_to_Pandas.ipynb\r\n",
      "Case+Study+1+-+Hunt+a+Serial+Killer.ipynb\r\n",
      "\u001b[34mData\u001b[m\u001b[m/\r\n",
      "LICENSE\r\n",
      "README.md\r\n",
      "\u001b[34mimages\u001b[m\u001b[m/\r\n"
     ]
    }
   ],
   "source": [
    "ls"
   ]
  },
  {
   "cell_type": "code",
   "execution_count": 21,
   "metadata": {
    "hideCode": false,
    "hidePrompt": false
   },
   "outputs": [],
   "source": [
    "# Copy in the same directory\n",
    "!cp 01.Unix_and_Shell_Command_Basics.ipynb Notebook01.ipynb "
   ]
  },
  {
   "cell_type": "code",
   "execution_count": 22,
   "metadata": {
    "hideCode": false,
    "hidePrompt": false
   },
   "outputs": [
    {
     "name": "stdout",
     "output_type": "stream",
     "text": [
      "01.Unix_and_Shell_Command_Basics.ipynb\r\n",
      "02.Python_Basics.ipynb\r\n",
      "03.All_about_Numbers.ipynb\r\n",
      "04.String_me_along.ipynb\r\n",
      "05.Booleans_True_or_False.ipynb\r\n",
      "06.List_it_out.ipynb\r\n",
      "07.Loop_it_up.ipynb\r\n",
      "08.Let_it_Function.ipynb\r\n",
      "09.Reading_writing_files.ipynb\r\n",
      "10.Visualise_This.ipynb\r\n",
      "11.Introduction_to_Numpy.ipynb\r\n",
      "12.Introduction_to_Pandas.ipynb\r\n",
      "Case+Study+1+-+Hunt+a+Serial+Killer.ipynb\r\n",
      "\u001b[34mData\u001b[m\u001b[m/\r\n",
      "LICENSE\r\n",
      "Notebook01.ipynb\r\n",
      "README.md\r\n",
      "\u001b[34mimages\u001b[m\u001b[m/\r\n"
     ]
    }
   ],
   "source": [
    "ls"
   ]
  },
  {
   "cell_type": "code",
   "execution_count": 23,
   "metadata": {
    "collapsed": true,
    "hideCode": false,
    "hidePrompt": false
   },
   "outputs": [],
   "source": [
    "rm Notebook01.ipynb"
   ]
  },
  {
   "cell_type": "code",
   "execution_count": 24,
   "metadata": {
    "hideCode": false,
    "hidePrompt": false
   },
   "outputs": [
    {
     "name": "stdout",
     "output_type": "stream",
     "text": [
      "01.Unix_and_Shell_Command_Basics.ipynb\r\n",
      "02.Python_Basics.ipynb\r\n",
      "03.All_about_Numbers.ipynb\r\n",
      "04.String_me_along.ipynb\r\n",
      "05.Booleans_True_or_False.ipynb\r\n",
      "06.List_it_out.ipynb\r\n",
      "07.Loop_it_up.ipynb\r\n",
      "08.Let_it_Function.ipynb\r\n",
      "09.Reading_writing_files.ipynb\r\n",
      "10.Visualise_This.ipynb\r\n",
      "11.Introduction_to_Numpy.ipynb\r\n",
      "12.Introduction_to_Pandas.ipynb\r\n",
      "Case+Study+1+-+Hunt+a+Serial+Killer.ipynb\r\n",
      "\u001b[34mData\u001b[m\u001b[m/\r\n",
      "LICENSE\r\n",
      "README.md\r\n",
      "\u001b[34mimages\u001b[m\u001b[m/\r\n"
     ]
    }
   ],
   "source": [
    "ls"
   ]
  },
  {
   "cell_type": "code",
   "execution_count": 25,
   "metadata": {
    "hideCode": false,
    "hidePrompt": false
   },
   "outputs": [
    {
     "name": "stdout",
     "output_type": "stream",
     "text": [
      "01.Unix_and_Shell_Command_Basics.ipynb\r\n",
      "02.Python_Basics.ipynb\r\n",
      "03.All_about_Numbers.ipynb\r\n",
      "04.String_me_along.ipynb\r\n",
      "05.Booleans_True_or_False.ipynb\r\n",
      "06.List_it_out.ipynb\r\n",
      "07.Loop_it_up.ipynb\r\n",
      "08.Let_it_Function.ipynb\r\n",
      "09.Reading_writing_files.ipynb\r\n",
      "10.Visualise_This.ipynb\r\n",
      "11.Introduction_to_Numpy.ipynb\r\n",
      "12.Introduction_to_Pandas.ipynb\r\n",
      "Case+Study+1+-+Hunt+a+Serial+Killer.ipynb\r\n",
      "\u001b[34mData\u001b[m\u001b[m\r\n",
      "LICENSE\r\n",
      "README.md\r\n",
      "\u001b[34mTempFolder\u001b[m\u001b[m\r\n",
      "\u001b[34mimages\u001b[m\u001b[m\r\n"
     ]
    }
   ],
   "source": [
    "# Copy to another directory\n",
    "!mkdir TempFolder\n",
    "!cp 01.Unix_and_Shell_Command_Basics.ipynb TempFolder/File01.ipynb\n",
    "!ls"
   ]
  },
  {
   "cell_type": "code",
   "execution_count": 26,
   "metadata": {
    "hideCode": false,
    "hidePrompt": false
   },
   "outputs": [
    {
     "name": "stdout",
     "output_type": "stream",
     "text": [
      "/Volumes/HDD3TB/05. Work/03. Udemy/03. Final/pyds/TempFolder\n"
     ]
    }
   ],
   "source": [
    "cd TempFolder"
   ]
  },
  {
   "cell_type": "code",
   "execution_count": 27,
   "metadata": {
    "hideCode": false,
    "hidePrompt": false
   },
   "outputs": [
    {
     "name": "stdout",
     "output_type": "stream",
     "text": [
      "File01.ipynb\r\n"
     ]
    }
   ],
   "source": [
    "ls"
   ]
  },
  {
   "cell_type": "markdown",
   "metadata": {
    "hideCode": false,
    "hidePrompt": false
   },
   "source": [
    "## rm - Remove files"
   ]
  },
  {
   "cell_type": "markdown",
   "metadata": {
    "hideCode": false,
    "hidePrompt": false
   },
   "source": [
    "Note that this is different to rmdir, which exists to remove a directory\n"
   ]
  },
  {
   "cell_type": "code",
   "execution_count": 28,
   "metadata": {
    "hideCode": false,
    "hidePrompt": false
   },
   "outputs": [
    {
     "data": {
      "text/plain": [
       "'/Volumes/HDD3TB/05. Work/03. Udemy/03. Final/pyds/TempFolder'"
      ]
     },
     "execution_count": 28,
     "metadata": {},
     "output_type": "execute_result"
    }
   ],
   "source": [
    "pwd"
   ]
  },
  {
   "cell_type": "code",
   "execution_count": 29,
   "metadata": {
    "collapsed": true,
    "hideCode": false,
    "hidePrompt": false
   },
   "outputs": [],
   "source": [
    "!rm File01.ipynb"
   ]
  },
  {
   "cell_type": "code",
   "execution_count": 30,
   "metadata": {
    "hideCode": false,
    "hidePrompt": false
   },
   "outputs": [],
   "source": [
    "!ls"
   ]
  },
  {
   "cell_type": "code",
   "execution_count": 31,
   "metadata": {
    "hideCode": false,
    "hidePrompt": false
   },
   "outputs": [
    {
     "name": "stdout",
     "output_type": "stream",
     "text": [
      "/Volumes/HDD3TB/05. Work/03. Udemy/03. Final/pyds/TempFolder\r\n"
     ]
    }
   ],
   "source": [
    "!pwd"
   ]
  },
  {
   "cell_type": "code",
   "execution_count": 32,
   "metadata": {
    "hideCode": false,
    "hidePrompt": false
   },
   "outputs": [
    {
     "name": "stdout",
     "output_type": "stream",
     "text": [
      "total 0\r\n",
      "drwxr-xr-x   2 prasant  staff   68 Mar 14 21:18 \u001b[34m.\u001b[m\u001b[m\r\n",
      "drwxr-xr-x  24 prasant  staff  816 Mar 14 21:18 \u001b[34m..\u001b[m\u001b[m\r\n"
     ]
    }
   ],
   "source": [
    "!ls -al"
   ]
  },
  {
   "cell_type": "code",
   "execution_count": 33,
   "metadata": {
    "hideCode": false,
    "hidePrompt": false
   },
   "outputs": [],
   "source": [
    "!ls"
   ]
  },
  {
   "cell_type": "code",
   "execution_count": 34,
   "metadata": {
    "hideCode": false,
    "hidePrompt": false
   },
   "outputs": [
    {
     "name": "stdout",
     "output_type": "stream",
     "text": [
      "/Volumes/HDD3TB/05. Work/03. Udemy/03. Final/pyds\n"
     ]
    }
   ],
   "source": [
    "cd .."
   ]
  },
  {
   "cell_type": "code",
   "execution_count": 35,
   "metadata": {
    "hideCode": false,
    "hidePrompt": false
   },
   "outputs": [
    {
     "name": "stdout",
     "output_type": "stream",
     "text": [
      "01.Unix_and_Shell_Command_Basics.ipynb\r\n",
      "02.Python_Basics.ipynb\r\n",
      "03.All_about_Numbers.ipynb\r\n",
      "04.String_me_along.ipynb\r\n",
      "05.Booleans_True_or_False.ipynb\r\n",
      "06.List_it_out.ipynb\r\n",
      "07.Loop_it_up.ipynb\r\n",
      "08.Let_it_Function.ipynb\r\n",
      "09.Reading_writing_files.ipynb\r\n",
      "10.Visualise_This.ipynb\r\n",
      "11.Introduction_to_Numpy.ipynb\r\n",
      "12.Introduction_to_Pandas.ipynb\r\n",
      "Case+Study+1+-+Hunt+a+Serial+Killer.ipynb\r\n",
      "\u001b[34mData\u001b[m\u001b[m/\r\n",
      "LICENSE\r\n",
      "README.md\r\n",
      "\u001b[34mTempFolder\u001b[m\u001b[m/\r\n",
      "\u001b[34mimages\u001b[m\u001b[m/\r\n"
     ]
    }
   ],
   "source": [
    "ls"
   ]
  },
  {
   "cell_type": "markdown",
   "metadata": {
    "hideCode": false,
    "hidePrompt": false
   },
   "source": [
    "## mv : Move a file"
   ]
  },
  {
   "cell_type": "markdown",
   "metadata": {
    "hideCode": false,
    "hidePrompt": false
   },
   "source": [
    "This is close to the the 'cut' function available for files on Windows.\n",
    "\n",
    "When you use the 'mv' command, a file is copied to a new location, and removed from it's original location."
   ]
  },
  {
   "cell_type": "code",
   "execution_count": 36,
   "metadata": {
    "hideCode": false,
    "hidePrompt": false
   },
   "outputs": [
    {
     "data": {
      "text/plain": [
       "'/Volumes/HDD3TB/05. Work/03. Udemy/03. Final/pyds'"
      ]
     },
     "execution_count": 36,
     "metadata": {},
     "output_type": "execute_result"
    }
   ],
   "source": [
    "pwd"
   ]
  },
  {
   "cell_type": "code",
   "execution_count": 37,
   "metadata": {
    "hideCode": false,
    "hidePrompt": false
   },
   "outputs": [
    {
     "name": "stdout",
     "output_type": "stream",
     "text": [
      "01.Unix_and_Shell_Command_Basics.ipynb\r\n",
      "02.Python_Basics.ipynb\r\n",
      "03.All_about_Numbers.ipynb\r\n",
      "04.String_me_along.ipynb\r\n",
      "05.Booleans_True_or_False.ipynb\r\n",
      "06.List_it_out.ipynb\r\n",
      "07.Loop_it_up.ipynb\r\n",
      "08.Let_it_Function.ipynb\r\n",
      "09.Reading_writing_files.ipynb\r\n",
      "10.Visualise_This.ipynb\r\n",
      "11.Introduction_to_Numpy.ipynb\r\n",
      "12.Introduction_to_Pandas.ipynb\r\n",
      "Case+Study+1+-+Hunt+a+Serial+Killer.ipynb\r\n",
      "\u001b[34mData\u001b[m\u001b[m/\r\n",
      "LICENSE\r\n",
      "README.md\r\n",
      "\u001b[34mTempFolder\u001b[m\u001b[m/\r\n",
      "\u001b[34mimages\u001b[m\u001b[m/\r\n"
     ]
    }
   ],
   "source": [
    "ls"
   ]
  },
  {
   "cell_type": "code",
   "execution_count": 38,
   "metadata": {
    "hideCode": false,
    "hidePrompt": false
   },
   "outputs": [],
   "source": [
    "rm -r TempFolder"
   ]
  },
  {
   "cell_type": "code",
   "execution_count": 39,
   "metadata": {
    "hideCode": false,
    "hidePrompt": false
   },
   "outputs": [
    {
     "name": "stdout",
     "output_type": "stream",
     "text": [
      "01.Unix_and_Shell_Command_Basics.ipynb\r\n",
      "02.Python_Basics.ipynb\r\n",
      "03.All_about_Numbers.ipynb\r\n",
      "04.String_me_along.ipynb\r\n",
      "05.Booleans_True_or_False.ipynb\r\n",
      "06.List_it_out.ipynb\r\n",
      "07.Loop_it_up.ipynb\r\n",
      "08.Let_it_Function.ipynb\r\n",
      "09.Reading_writing_files.ipynb\r\n",
      "10.Visualise_This.ipynb\r\n",
      "11.Introduction_to_Numpy.ipynb\r\n",
      "12.Introduction_to_Pandas.ipynb\r\n",
      "Case+Study+1+-+Hunt+a+Serial+Killer.ipynb\r\n",
      "\u001b[34mData\u001b[m\u001b[m/\r\n",
      "LICENSE\r\n",
      "README.md\r\n",
      "\u001b[34mimages\u001b[m\u001b[m/\r\n"
     ]
    }
   ],
   "source": [
    "ls"
   ]
  },
  {
   "cell_type": "code",
   "execution_count": 40,
   "metadata": {
    "collapsed": true,
    "hideCode": false,
    "hidePrompt": false
   },
   "outputs": [],
   "source": [
    "cp 01.Unix_and_Shell_Command_Basics.ipynb NewFile01.ipynb"
   ]
  },
  {
   "cell_type": "code",
   "execution_count": 41,
   "metadata": {
    "hideCode": false,
    "hidePrompt": false
   },
   "outputs": [
    {
     "name": "stdout",
     "output_type": "stream",
     "text": [
      "01.Unix_and_Shell_Command_Basics.ipynb\r\n",
      "02.Python_Basics.ipynb\r\n",
      "03.All_about_Numbers.ipynb\r\n",
      "04.String_me_along.ipynb\r\n",
      "05.Booleans_True_or_False.ipynb\r\n",
      "06.List_it_out.ipynb\r\n",
      "07.Loop_it_up.ipynb\r\n",
      "08.Let_it_Function.ipynb\r\n",
      "09.Reading_writing_files.ipynb\r\n",
      "10.Visualise_This.ipynb\r\n",
      "11.Introduction_to_Numpy.ipynb\r\n",
      "12.Introduction_to_Pandas.ipynb\r\n",
      "Case+Study+1+-+Hunt+a+Serial+Killer.ipynb\r\n",
      "\u001b[34mData\u001b[m\u001b[m/\r\n",
      "LICENSE\r\n",
      "NewFile01.ipynb\r\n",
      "README.md\r\n",
      "\u001b[34mimages\u001b[m\u001b[m/\r\n"
     ]
    }
   ],
   "source": [
    "ls"
   ]
  },
  {
   "cell_type": "code",
   "execution_count": 42,
   "metadata": {
    "collapsed": true,
    "hideCode": false,
    "hidePrompt": false
   },
   "outputs": [],
   "source": [
    "mkdir TempFolder02"
   ]
  },
  {
   "cell_type": "code",
   "execution_count": 43,
   "metadata": {
    "hideCode": false,
    "hidePrompt": false
   },
   "outputs": [
    {
     "name": "stdout",
     "output_type": "stream",
     "text": [
      "01.Unix_and_Shell_Command_Basics.ipynb\r\n",
      "02.Python_Basics.ipynb\r\n",
      "03.All_about_Numbers.ipynb\r\n",
      "04.String_me_along.ipynb\r\n",
      "05.Booleans_True_or_False.ipynb\r\n",
      "06.List_it_out.ipynb\r\n",
      "07.Loop_it_up.ipynb\r\n",
      "08.Let_it_Function.ipynb\r\n",
      "09.Reading_writing_files.ipynb\r\n",
      "10.Visualise_This.ipynb\r\n",
      "11.Introduction_to_Numpy.ipynb\r\n",
      "12.Introduction_to_Pandas.ipynb\r\n",
      "Case+Study+1+-+Hunt+a+Serial+Killer.ipynb\r\n",
      "\u001b[34mData\u001b[m\u001b[m/\r\n",
      "LICENSE\r\n",
      "NewFile01.ipynb\r\n",
      "README.md\r\n",
      "\u001b[34mTempFolder02\u001b[m\u001b[m/\r\n",
      "\u001b[34mimages\u001b[m\u001b[m/\r\n"
     ]
    }
   ],
   "source": [
    "ls"
   ]
  },
  {
   "cell_type": "code",
   "execution_count": 44,
   "metadata": {
    "collapsed": true,
    "hideCode": false,
    "hidePrompt": false
   },
   "outputs": [],
   "source": [
    "mv NewFile01.ipynb TempFolder02"
   ]
  },
  {
   "cell_type": "code",
   "execution_count": 45,
   "metadata": {
    "hideCode": false,
    "hidePrompt": false
   },
   "outputs": [
    {
     "name": "stdout",
     "output_type": "stream",
     "text": [
      "01.Unix_and_Shell_Command_Basics.ipynb\r\n",
      "02.Python_Basics.ipynb\r\n",
      "03.All_about_Numbers.ipynb\r\n",
      "04.String_me_along.ipynb\r\n",
      "05.Booleans_True_or_False.ipynb\r\n",
      "06.List_it_out.ipynb\r\n",
      "07.Loop_it_up.ipynb\r\n",
      "08.Let_it_Function.ipynb\r\n",
      "09.Reading_writing_files.ipynb\r\n",
      "10.Visualise_This.ipynb\r\n",
      "11.Introduction_to_Numpy.ipynb\r\n",
      "12.Introduction_to_Pandas.ipynb\r\n",
      "Case+Study+1+-+Hunt+a+Serial+Killer.ipynb\r\n",
      "\u001b[34mData\u001b[m\u001b[m/\r\n",
      "LICENSE\r\n",
      "README.md\r\n",
      "\u001b[34mTempFolder02\u001b[m\u001b[m/\r\n",
      "\u001b[34mimages\u001b[m\u001b[m/\r\n"
     ]
    }
   ],
   "source": [
    "ls"
   ]
  },
  {
   "cell_type": "code",
   "execution_count": 46,
   "metadata": {
    "hideCode": false,
    "hidePrompt": false
   },
   "outputs": [
    {
     "name": "stdout",
     "output_type": "stream",
     "text": [
      "/Volumes/HDD3TB/05. Work/03. Udemy/03. Final/pyds/TempFolder02\n"
     ]
    }
   ],
   "source": [
    "cd TempFolder02"
   ]
  },
  {
   "cell_type": "code",
   "execution_count": 47,
   "metadata": {
    "hideCode": false,
    "hidePrompt": false
   },
   "outputs": [
    {
     "name": "stdout",
     "output_type": "stream",
     "text": [
      "NewFile01.ipynb\r\n"
     ]
    }
   ],
   "source": [
    "ls"
   ]
  },
  {
   "cell_type": "code",
   "execution_count": 48,
   "metadata": {
    "hideCode": false,
    "hidePrompt": false
   },
   "outputs": [
    {
     "name": "stdout",
     "output_type": "stream",
     "text": [
      "/Volumes/HDD3TB/05. Work/03. Udemy/03. Final/pyds\n"
     ]
    }
   ],
   "source": [
    "cd .."
   ]
  },
  {
   "cell_type": "code",
   "execution_count": 49,
   "metadata": {},
   "outputs": [],
   "source": [
    "rm -r TempFolder02"
   ]
  },
  {
   "cell_type": "markdown",
   "metadata": {
    "hideCode": false,
    "hidePrompt": false
   },
   "source": [
    "## CURL - Getting Data from the Command Line"
   ]
  },
  {
   "cell_type": "markdown",
   "metadata": {
    "hideCode": false,
    "hidePrompt": false
   },
   "source": [
    "Let's begin by copying a simple tab-separated file.\n",
    "The format is as below:\n",
    "\n",
    "* !curl -OptionalFlag 'http://url'"
   ]
  },
  {
   "cell_type": "code",
   "execution_count": 50,
   "metadata": {
    "hideCode": false,
    "hidePrompt": false,
    "scrolled": true
   },
   "outputs": [
    {
     "name": "stdout",
     "output_type": "stream",
     "text": [
      "1\tChina\t21,269,331.00\r\n",
      "2\tUnited States\t$18,562,129.00\r\n",
      "3\tIndia\t$8,720,758.00\r\n",
      "4\tJapan\t$4,932,102.00\r\n",
      "5\tGermany\t$3,979,664.00\r\n",
      "\r\n"
     ]
    }
   ],
   "source": [
    "!curl -L 'https://dl.dropboxusercontent.com/s/j2yh7nvlli1nsa5/gdp.txt'"
   ]
  },
  {
   "cell_type": "code",
   "execution_count": 51,
   "metadata": {
    "hideCode": false,
    "hidePrompt": false
   },
   "outputs": [
    {
     "name": "stdout",
     "output_type": "stream",
     "text": [
      "123\t1346699925\t11122\tfoo bar\r\n",
      "222\t1346699955\t11145\tbis baz\r\n",
      "120\t1346710100\t11122\thei hew\r\n",
      "234\t1346700000\t11135\tcip bop\r\n",
      "146\t1346699999\t11123\tfoo bar\r\n",
      "99\t1346750000\t11135\tbit bop\r\n",
      "99\t1346750000\t11135\tbop bip\r\n",
      "99\t1346750000\t11135\tbip bop\r\n",
      "99\t1346750000\t11135\tbip bop\r\n"
     ]
    }
   ],
   "source": [
    "!curl -L 'https://dl.dropboxusercontent.com/s/eqyhkf3tpgre0jb/foo.txt'"
   ]
  },
  {
   "cell_type": "code",
   "execution_count": 4,
   "metadata": {
    "hideCode": false,
    "hidePrompt": false
   },
   "outputs": [],
   "source": [
    "!curl -s \"http://freegeoip.net/json/\""
   ]
  },
  {
   "cell_type": "markdown",
   "metadata": {},
   "source": [
    "In case your system doesn't have `jq`, you can follow the instructions here.\n",
    "* https://stedolan.github.io/jq/download/"
   ]
  },
  {
   "cell_type": "code",
   "execution_count": 53,
   "metadata": {
    "hideCode": false,
    "hidePrompt": false
   },
   "outputs": [
    {
     "name": "stdout",
     "output_type": "stream",
     "text": [
      "{\"timestamp\": 1489541023, \"iss_position\": {\"longitude\": \"147.6925\", \"latitude\": \"-16.9322\"}, \"message\": \"success\"}"
     ]
    }
   ],
   "source": [
    "!curl -s \"http://api.open-notify.org/iss-now.json\""
   ]
  },
  {
   "cell_type": "code",
   "execution_count": 54,
   "metadata": {
    "hideCode": false,
    "hidePrompt": false
   },
   "outputs": [
    {
     "name": "stdout",
     "output_type": "stream",
     "text": [
      "{\"people\": [{\"craft\": \"ISS\", \"name\": \"Sergey Rizhikov\"}, {\"craft\": \"ISS\", \"name\": \"Andrey Borisenko\"}, {\"craft\": \"ISS\", \"name\": \"Shane Kimbrough\"}, {\"craft\": \"ISS\", \"name\": \"Oleg Novitskiy\"}, {\"craft\": \"ISS\", \"name\": \"Thomas Pesquet\"}, {\"craft\": \"ISS\", \"name\": \"Peggy Whitson\"}], \"message\": \"success\", \"number\": 6}"
     ]
    }
   ],
   "source": [
    "!curl -s \"http://api.open-notify.org/astros.json\""
   ]
  },
  {
   "cell_type": "markdown",
   "metadata": {
    "hideCode": false,
    "hidePrompt": false,
    "hide_input": false
   },
   "source": [
    "Register for the Mashape API Market here: https://market.mashape.com"
   ]
  },
  {
   "cell_type": "code",
   "execution_count": 55,
   "metadata": {
    "hideCode": false,
    "hidePrompt": false
   },
   "outputs": [
    {
     "name": "stdout",
     "output_type": "stream",
     "text": [
      "HTTP/1.1 200 OK\r",
      "\r\n",
      "Access-Control-Allow-Methods: POST\r",
      "\r\n",
      "Access-Control-Allow-Origin: *\r",
      "\r\n",
      "Access-Control-Max-Age: 21600\r",
      "\r\n",
      "Content-Type: application/json\r",
      "\r\n",
      "Date: Wed, 15 Mar 2017 01:25:44 GMT\r",
      "\r\n",
      "Server: Mashape/5.0.6\r",
      "\r\n",
      "Content-Length: 79\r",
      "\r\n",
      "Connection: keep-alive\r",
      "\r\n",
      "\r",
      "\r\n",
      "{\r\n",
      "  \"result\": {\r\n",
      "    \"confidence\": \"84.2451\", \r\n",
      "    \"sentiment\": \"Negative\"\r\n",
      "  }\r\n",
      "}"
     ]
    }
   ],
   "source": [
    "!curl -X POST --include 'https://community-sentiment.p.mashape.com/text/' \\\n",
    "  -H 'X-Mashape-Key: YFWRiIyfNemshsFin8iTJy0XFUjNp1rXoY7jsnoPlVphvWnKY6' \\\n",
    "  -H 'Content-Type: application/x-www-form-urlencoded' \\\n",
    "  -H 'Accept: application/json' \\\n",
    "  -d 'txt=My team lost badly! I am sad :('"
   ]
  },
  {
   "cell_type": "markdown",
   "metadata": {},
   "source": [
    "Note: This is a free API, so I have exposed my API key in the code. In practice, if you are ever sharing code, please take adequate precautions, and never expose your private key."
   ]
  },
  {
   "cell_type": "markdown",
   "metadata": {
    "hideCode": false,
    "hidePrompt": false
   },
   "source": [
    "## head/tail"
   ]
  },
  {
   "cell_type": "code",
   "execution_count": 56,
   "metadata": {
    "hideCode": false,
    "hidePrompt": false
   },
   "outputs": [
    {
     "data": {
      "text/plain": [
       "'/Volumes/HDD3TB/05. Work/03. Udemy/03. Final/pyds'"
      ]
     },
     "execution_count": 56,
     "metadata": {},
     "output_type": "execute_result"
    }
   ],
   "source": [
    "pwd"
   ]
  },
  {
   "cell_type": "code",
   "execution_count": 57,
   "metadata": {
    "hideCode": false,
    "hidePrompt": false
   },
   "outputs": [
    {
     "name": "stdout",
     "output_type": "stream",
     "text": [
      "01.Unix_and_Shell_Command_Basics.ipynb\r\n",
      "02.Python_Basics.ipynb\r\n",
      "03.All_about_Numbers.ipynb\r\n",
      "04.String_me_along.ipynb\r\n",
      "05.Booleans_True_or_False.ipynb\r\n",
      "06.List_it_out.ipynb\r\n",
      "07.Loop_it_up.ipynb\r\n",
      "08.Let_it_Function.ipynb\r\n",
      "09.Reading_writing_files.ipynb\r\n",
      "10.Visualise_This.ipynb\r\n",
      "11.Introduction_to_Numpy.ipynb\r\n",
      "12.Introduction_to_Pandas.ipynb\r\n",
      "Case+Study+1+-+Hunt+a+Serial+Killer.ipynb\r\n",
      "\u001b[34mData\u001b[m\u001b[m/\r\n",
      "LICENSE\r\n",
      "README.md\r\n",
      "\u001b[34mimages\u001b[m\u001b[m/\r\n"
     ]
    }
   ],
   "source": [
    "ls"
   ]
  },
  {
   "cell_type": "code",
   "execution_count": 58,
   "metadata": {
    "hideCode": false,
    "hidePrompt": false
   },
   "outputs": [
    {
     "name": "stdout",
     "output_type": "stream",
     "text": [
      "/Volumes/HDD3TB/05. Work/03. Udemy/03. Final/pyds/Data\n"
     ]
    }
   ],
   "source": [
    "cd Data"
   ]
  },
  {
   "cell_type": "code",
   "execution_count": 59,
   "metadata": {
    "hideCode": false,
    "hidePrompt": false
   },
   "outputs": [
    {
     "name": "stdout",
     "output_type": "stream",
     "text": [
      "\u001b[34mSopranos\u001b[m\u001b[m/                              gdp.txt\r\n",
      "Times_Square_Entertainment_Venues.csv  location.json\r\n",
      "bev-sales.xlsx                         nyc_rest.csv\r\n",
      "cafe_sales.csv                         nyt.txt\r\n",
      "cafe_sales2015.csv                     sample.txt\r\n",
      "cafe_sales2015.txt                     \u001b[31mtips.csv\u001b[m\u001b[m*\r\n",
      "database.csv.zip                       venues.json\r\n",
      "foo.txt                                \u001b[34mwine\u001b[m\u001b[m/\r\n",
      "gdp.csv\r\n"
     ]
    }
   ],
   "source": [
    "ls"
   ]
  },
  {
   "cell_type": "code",
   "execution_count": 60,
   "metadata": {
    "hideCode": false,
    "hidePrompt": false
   },
   "outputs": [
    {
     "name": "stdout",
     "output_type": "stream",
     "text": [
      "1\tChina\t21,269,331.00\r\n",
      "2\tUnited States\t$18,562,129.00\r\n",
      "3\tIndia\t$8,720,758.00\r\n"
     ]
    }
   ],
   "source": [
    "!head -n 3 sample.txt"
   ]
  },
  {
   "cell_type": "code",
   "execution_count": 61,
   "metadata": {
    "hideCode": false,
    "hidePrompt": false
   },
   "outputs": [
    {
     "name": "stdout",
     "output_type": "stream",
     "text": [
      "3\tIndia\t$8,720,758.00\r\n",
      "4\tJapan\t$4,932,102.00\r\n",
      "5\tGermany\t$3,979,664.00\r\n",
      "\r\n"
     ]
    }
   ],
   "source": [
    "!tail -n 4 sample.txt"
   ]
  },
  {
   "cell_type": "code",
   "execution_count": 62,
   "metadata": {
    "hideCode": false,
    "hidePrompt": false
   },
   "outputs": [
    {
     "name": "stdout",
     "output_type": "stream",
     "text": [
      "1\tChina\t21,269,331.00\r\n",
      "2\tUnited States\t$18,562,129.00\r\n",
      "3\tIndia\t$8,720,758.00\r\n",
      "4\tJapan\t$4,932,102.00\r\n",
      "5\tGermany\t$3,979,664.00\r\n",
      "\r\n"
     ]
    }
   ],
   "source": [
    "!cat sample.txt"
   ]
  },
  {
   "cell_type": "code",
   "execution_count": 63,
   "metadata": {
    "hideCode": false,
    "hidePrompt": false
   },
   "outputs": [
    {
     "name": "stdout",
     "output_type": "stream",
     "text": [
      "China\t21,269,331.00\r\n",
      "United States\t$18,562,129.00\r\n",
      "India\t$8,720,758.00\r\n",
      "Japan\t$4,932,102.00\r\n",
      "Germany\t$3,979,664.00\r\n",
      "\r\n"
     ]
    }
   ],
   "source": [
    "# Selecting specific fields\n",
    "!cut -f2,3 sample.txt"
   ]
  },
  {
   "cell_type": "code",
   "execution_count": 64,
   "metadata": {
    "hideCode": false,
    "hidePrompt": false
   },
   "outputs": [
    {
     "name": "stdout",
     "output_type": "stream",
     "text": [
      "\r\n",
      "1\tChina\t21,269,331.00\r\n",
      "2\tUnited States\t$18,562,129.00\r\n",
      "3\tIndia\t$8,720,758.00\r\n",
      "4\tJapan\t$4,932,102.00\r\n",
      "5\tGermany\t$3,979,664.00\r\n"
     ]
    }
   ],
   "source": [
    "!sort sample.txt"
   ]
  },
  {
   "cell_type": "code",
   "execution_count": 65,
   "metadata": {
    "hideCode": false,
    "hidePrompt": false
   },
   "outputs": [
    {
     "name": "stdout",
     "output_type": "stream",
     "text": [
      "\r\n",
      "1\tChina\t21,269,331.00\r\n",
      "5\tGermany\t$3,979,664.00\r\n",
      "3\tIndia\t$8,720,758.00\r\n",
      "4\tJapan\t$4,932,102.00\r\n",
      "2\tUnited States\t$18,562,129.00\r\n"
     ]
    }
   ],
   "source": [
    "!sort -k 2 sample.txt"
   ]
  },
  {
   "cell_type": "code",
   "execution_count": 67,
   "metadata": {},
   "outputs": [
    {
     "name": "stdout",
     "output_type": "stream",
     "text": [
      "https://www.nytimes.com/2017/02/08/world/europe/letters-from-jacqueline-kennedy-to-the-man-she-didnt-marry.html\r\n",
      "\r\n",
      "LONDON — In November 1967, four years after her husband’s assassination, Jacqueline Kennedy traveled to the temples of Angkor Wat in Cambodia on a much-publicized trip with David Ormsby Gore, a friend of her husband and himself a recent widower.\r\n",
      "\r\n",
      "There was much speculation of a romantic attachment. A few months later, Mr. Ormsby Gore, a former British ambassador to Washington, proposed marriage. She turned him down.\r\n",
      "\r\n",
      "In a handwritten letter, filled with anguish and a touch of cruelty, she explained her decision to marry Aristotle Onassis instead.\r\n",
      "\r\n",
      "“If ever I can find some healing and some comfort — it has to be with somebody who is not part of all my world of past and pain,” she wrote. “I can find that now — if the world will let us.”\r\n",
      "\r\n",
      "The letter was part of a set of papers found in locked red-leather cases discovered only last month in Wales at the family home of Mr. Ormsby Gore, who died in 1985. They are being auctioned in London next month by his grandson to help restore the house.\r\n",
      "\r\n",
      "Continue reading the main story\r\n",
      "RELATED COVERAGE\r\n",
      "\r\n",
      "\r\n",
      "Annemarie Huste, a Kennedy Chef Who Said Too Much, Dies at 73 OCT. 22, 2016\r\n",
      "\r\n",
      "‘Jacqueline Bouvier Kennedy Onassis,’ by Barbara Leaming DEC. 5, 2014\r\n",
      "\r\n",
      "Jackie Kennedy’s Letters Taken Off the Auction Block MAY 23, 2014\r\n",
      "The letters point to the depth of feeling behind the public mask of one of the most celebrated women of her time."
     ]
    }
   ],
   "source": [
    "!cat nyt.txt"
   ]
  },
  {
   "cell_type": "code",
   "execution_count": 66,
   "metadata": {
    "hideCode": false,
    "hidePrompt": false
   },
   "outputs": [
    {
     "name": "stdout",
     "output_type": "stream",
     "text": [
      "      21     245    1515 nyt.txt\r\n"
     ]
    }
   ],
   "source": [
    "!wc nyt.txt\n",
    "\n",
    "# Where 21 is the number of lines, 245 is the number of words, and 1515 is the number of characters."
   ]
  },
  {
   "cell_type": "code",
   "execution_count": 68,
   "metadata": {
    "hideCode": false,
    "hidePrompt": false
   },
   "outputs": [
    {
     "name": "stdout",
     "output_type": "stream",
     "text": [
      "     245 nyt.txt\r\n"
     ]
    }
   ],
   "source": [
    "!wc -w nyt.txt"
   ]
  },
  {
   "cell_type": "markdown",
   "metadata": {
    "hideCode": false,
    "hidePrompt": false
   },
   "source": [
    "## grep:"
   ]
  },
  {
   "cell_type": "markdown",
   "metadata": {
    "hideCode": false,
    "hidePrompt": false
   },
   "source": [
    "Grep is a pattern matching utility built into unix and it's flavors. The typical format is:\n",
    "\n",
    "grep [option] [pattern] [file/s]"
   ]
  },
  {
   "cell_type": "code",
   "execution_count": 69,
   "metadata": {
    "hideCode": false,
    "hidePrompt": false
   },
   "outputs": [
    {
     "data": {
      "text/plain": [
       "'/Volumes/HDD3TB/05. Work/03. Udemy/03. Final/pyds/Data'"
      ]
     },
     "execution_count": 69,
     "metadata": {},
     "output_type": "execute_result"
    }
   ],
   "source": [
    "pwd"
   ]
  },
  {
   "cell_type": "code",
   "execution_count": 70,
   "metadata": {
    "hideCode": false,
    "hidePrompt": false
   },
   "outputs": [
    {
     "name": "stdout",
     "output_type": "stream",
     "text": [
      "\u001b[34mSopranos\u001b[m\u001b[m/                              gdp.txt\r\n",
      "Times_Square_Entertainment_Venues.csv  location.json\r\n",
      "bev-sales.xlsx                         nyc_rest.csv\r\n",
      "cafe_sales.csv                         nyt.txt\r\n",
      "cafe_sales2015.csv                     sample.txt\r\n",
      "cafe_sales2015.txt                     \u001b[31mtips.csv\u001b[m\u001b[m*\r\n",
      "database.csv.zip                       venues.json\r\n",
      "foo.txt                                \u001b[34mwine\u001b[m\u001b[m/\r\n",
      "gdp.csv\r\n"
     ]
    }
   ],
   "source": [
    "ls"
   ]
  },
  {
   "cell_type": "code",
   "execution_count": 71,
   "metadata": {
    "hideCode": false,
    "hidePrompt": false
   },
   "outputs": [
    {
     "name": "stdout",
     "output_type": "stream",
     "text": [
      "https://www.nytimes.com/2017/02/08/world/europe/letters-from-jacqueline-kennedy-to-the-man-she-didnt-marry.html\r\n",
      "\r\n",
      "LONDON — In November 1967, four years after her husband’s assassination, Jacqueline Kennedy traveled to the temples of Angkor Wat in Cambodia on a much-publicized trip with David Ormsby Gore, a friend of her husband and himself a recent widower.\r\n",
      "\r\n",
      "There was much speculation of a romantic attachment. A few months later, Mr. Ormsby Gore, a former British ambassador to Washington, proposed marriage. She turned him down.\r\n",
      "\r\n",
      "In a handwritten letter, filled with anguish and a touch of cruelty, she explained her decision to marry Aristotle Onassis instead.\r\n",
      "\r\n",
      "“If ever I can find some healing and some comfort — it has to be with somebody who is not part of all my world of past and pain,” she wrote. “I can find that now — if the world will let us.”\r\n",
      "\r\n",
      "The letter was part of a set of papers found in locked red-leather cases discovered only last month in Wales at the family home of Mr. Ormsby Gore, who died in 1985. They are being auctioned in London next month by his grandson to help restore the house.\r\n",
      "\r\n",
      "Continue reading the main story\r\n",
      "RELATED COVERAGE\r\n",
      "\r\n",
      "\r\n",
      "Annemarie Huste, a Kennedy Chef Who Said Too Much, Dies at 73 OCT. 22, 2016\r\n",
      "\r\n",
      "‘Jacqueline Bouvier Kennedy Onassis,’ by Barbara Leaming DEC. 5, 2014\r\n",
      "\r\n",
      "Jackie Kennedy’s Letters Taken Off the Auction Block MAY 23, 2014\r\n",
      "The letters point to the depth of feeling behind the public mask of one of the most celebrated women of her time."
     ]
    }
   ],
   "source": [
    "!cat nyt.txt"
   ]
  },
  {
   "cell_type": "code",
   "execution_count": 72,
   "metadata": {
    "hideCode": false,
    "hidePrompt": false
   },
   "outputs": [
    {
     "name": "stdout",
     "output_type": "stream",
     "text": [
      "4\r\n"
     ]
    }
   ],
   "source": [
    "# Count the number of matches\n",
    "!grep -c 'Kennedy' nyt.txt"
   ]
  },
  {
   "cell_type": "code",
   "execution_count": 73,
   "metadata": {
    "hideCode": false,
    "hidePrompt": false
   },
   "outputs": [
    {
     "name": "stdout",
     "output_type": "stream",
     "text": [
      "Kennedy\r\n",
      "Kennedy\r\n",
      "Kennedy\r\n",
      "Kennedy\r\n"
     ]
    }
   ],
   "source": [
    "!grep -o 'Kennedy' nyt.txt"
   ]
  },
  {
   "cell_type": "markdown",
   "metadata": {
    "hideCode": false,
    "hidePrompt": false
   },
   "source": [
    "More options for grep:\n",
    "* -c Print only a count of matched lines.\n",
    "* -l List only filenames\n",
    "* -i Ignore lowercase and uppercase distinctions\n",
    "* -o prints only the matching part of the line\n",
    "* -n Print matching line with its line number\n",
    "* -v Negate matches; print lines that do not match the regex\n",
    "* -r Recursively Search subdirectories listed"
   ]
  },
  {
   "cell_type": "code",
   "execution_count": 74,
   "metadata": {
    "collapsed": true,
    "hideCode": false,
    "hidePrompt": false
   },
   "outputs": [],
   "source": [
    "!curl -s 'http://freegeoip.net/json/' > location.json"
   ]
  },
  {
   "cell_type": "code",
   "execution_count": 75,
   "metadata": {
    "hideCode": false,
    "hidePrompt": false
   },
   "outputs": [
    {
     "name": "stdout",
     "output_type": "stream",
     "text": [
      "\u001b[1;39m{\r\n",
      "  \u001b[0m\u001b[34;1m\"ip\"\u001b[0m\u001b[1;39m: \u001b[0m\u001b[0;32m\"176.227.198.122\"\u001b[0m\u001b[1;39m,\r\n",
      "  \u001b[0m\u001b[34;1m\"country_code\"\u001b[0m\u001b[1;39m: \u001b[0m\u001b[0;32m\"GB\"\u001b[0m\u001b[1;39m,\r\n",
      "  \u001b[0m\u001b[34;1m\"country_name\"\u001b[0m\u001b[1;39m: \u001b[0m\u001b[0;32m\"United Kingdom\"\u001b[0m\u001b[1;39m,\r\n",
      "  \u001b[0m\u001b[34;1m\"region_code\"\u001b[0m\u001b[1;39m: \u001b[0m\u001b[0;32m\"\"\u001b[0m\u001b[1;39m,\r\n",
      "  \u001b[0m\u001b[34;1m\"region_name\"\u001b[0m\u001b[1;39m: \u001b[0m\u001b[0;32m\"\"\u001b[0m\u001b[1;39m,\r\n",
      "  \u001b[0m\u001b[34;1m\"city\"\u001b[0m\u001b[1;39m: \u001b[0m\u001b[0;32m\"\"\u001b[0m\u001b[1;39m,\r\n",
      "  \u001b[0m\u001b[34;1m\"zip_code\"\u001b[0m\u001b[1;39m: \u001b[0m\u001b[0;32m\"\"\u001b[0m\u001b[1;39m,\r\n",
      "  \u001b[0m\u001b[34;1m\"time_zone\"\u001b[0m\u001b[1;39m: \u001b[0m\u001b[0;32m\"Europe/London\"\u001b[0m\u001b[1;39m,\r\n",
      "  \u001b[0m\u001b[34;1m\"latitude\"\u001b[0m\u001b[1;39m: \u001b[0m\u001b[0;39m51.4964\u001b[0m\u001b[1;39m,\r\n",
      "  \u001b[0m\u001b[34;1m\"longitude\"\u001b[0m\u001b[1;39m: \u001b[0m\u001b[0;39m-0.1224\u001b[0m\u001b[1;39m,\r\n",
      "  \u001b[0m\u001b[34;1m\"metro_code\"\u001b[0m\u001b[1;39m: \u001b[0m\u001b[0;39m0\u001b[0m\u001b[1;39m\r\n",
      "\u001b[1;39m}\u001b[0m\r\n"
     ]
    }
   ],
   "source": [
    "!jq . location.json"
   ]
  },
  {
   "cell_type": "code",
   "execution_count": null,
   "metadata": {
    "hideCode": false,
    "hidePrompt": false,
    "scrolled": true
   },
   "outputs": [],
   "source": [
    "!curl -s 'http://freegeoip.net/json/' | jq ."
   ]
  },
  {
   "cell_type": "markdown",
   "metadata": {
    "hideCode": false,
    "hidePrompt": false
   },
   "source": [
    "## Redirection (or Downloading)"
   ]
  },
  {
   "cell_type": "markdown",
   "metadata": {
    "hideCode": false,
    "hidePrompt": false
   },
   "source": [
    "This is really useful to quickly download a dataset using what is called an API Endpoint. \n",
    "\n",
    "Let's download the 'Times Square Entertainment Venues' dataset from New York City's Open Data Portal to demonstrate this. \n",
    "\n",
    "https://data.cityofnewyork.us/Business/Times-Square-Entertainment-Venues/jxdc-hnze"
   ]
  },
  {
   "cell_type": "code",
   "execution_count": 76,
   "metadata": {
    "hideCode": false,
    "hidePrompt": false
   },
   "outputs": [
    {
     "name": "stdout",
     "output_type": "stream",
     "text": [
      "  % Total    % Received % Xferd  Average Speed   Time    Time     Time  Current\n",
      "                                 Dload  Upload   Total   Spent    Left  Speed\n",
      "100  9794    0  9794    0     0   4282      0 --:--:--  0:00:02 --:--:--  4713\n"
     ]
    }
   ],
   "source": [
    "!curl \"https://data.cityofnewyork.us/resource/2pc8-n4xe.json\" > venues.json"
   ]
  },
  {
   "cell_type": "code",
   "execution_count": 77,
   "metadata": {
    "hideCode": false,
    "hidePrompt": false
   },
   "outputs": [
    {
     "name": "stdout",
     "output_type": "stream",
     "text": [
      "[{\"company_name\":\"Cheetahs\",\"phone\":\"(212) 819-9300\",\"subindustry\":\"Nightclub\",\"website\":\"www.cheetahnyc.com\"}\r\n",
      ",{\"company_name\":\"Al Hirschfeld Theater\",\"phone\":\"(212) 239-6200\",\"sub_subindustry\":\"League\",\"subindustry\":\"Theater\"}\r\n",
      ",{\"company_name\":\"The World Famous Laugh Factory\",\"phone\":\"212-586-7829 x304\",\"subindustry\":\"Comedy Club\"}\r\n",
      ",{\"company_name\":\"Bernard B. Jacobs Theatre\",\"phone\":\"(212) 239-2820\",\"sub_subindustry\":\"League\",\"subindustry\":\"Theater\"}\r\n",
      ",{\"company_name\":\"Music Box Theater\",\"phone\":\"212 239-6200\",\"sub_subindustry\":\"League\",\"subindustry\":\"Theater\"}\r\n",
      ",{\"company_name\":\"Helen Hayes Theatre\",\"phone\":\"(212) 944-9457\",\"sub_subindustry\":\"League\",\"subindustry\":\"Theater\"}\r\n",
      ",{\"company_name\":\"Touch Nightclub\",\"phone\":\"212 489-7656\",\"subindustry\":\"Nightclub\"}\r\n",
      ",{\"company_name\":\"Hawthorne Amusement\",\"subindustry\":\"Attractions / Amusement\"}\r\n",
      ",{\"company_name\":\"Regal Loews Cinemas 42nd Street E-Walk Theater\",\"phone\":\"(212) 840-7761\",\"subindustry\":\"Movies\",\"website\":\"www.regmovies.com\"}\r\n",
      ",{\"company_name\":\"Jujamcyn Theater\",\"phone\":\"(212) 840-8181\",\"sub_subindustry\":\"League\",\"subindustry\":\"Theater\"}\r\n",
      ",{\"company_name\":\"St. James Theatre\",\"phone\":\"(212) 239-6200\",\"sub_subindustry\":\"League\",\"subindustry\":\"Theater\"}\r\n",
      ",{\"company_name\":\"Imperial Theatre\",\"phone\":\"(815) 477-5076\",\"sub_subindustry\":\"League\",\"subindustry\":\"Theater\"}\r\n",
      ",{\"company_name\":\"Brooks Atkinson Theatre\",\"phone\":\"(212) 719-4099\",\"sub_subindustry\":\"League\",\"subindustry\":\"Theater\",\"website\":\"http://www.brooksatkinsontheater.com/\"}\r\n",
      ",{\"company_name\":\"Freidman Theatre\",\"phone\":\"(212) 399-3000 x 5401\",\"sub_subindustry\":\"Broadway - Non-League\",\"subindustry\":\"Theater\"}\r\n",
      ",{\"company_name\":\"Lyceum Theater\",\"phone\":\"212 239-6200\",\"sub_subindustry\":\"League\",\"subindustry\":\"Theater\"}\r\n",
      ",{\"company_name\":\"Ripley's Believe It Or Not!\",\"phone\":\"212-398-3133\",\"subindustry\":\"Attractions / Amusement\",\"website\":\"www.ripleysnewyork.com\"}\r\n",
      ",{\"company_name\":\"Shubert Theatre\",\"phone\":\"2129443700\",\"sub_subindustry\":\"League\",\"subindustry\":\"Theater\"}\r\n",
      ",{\"company_name\":\"St Luke's Theater\",\"phone\":\"(212) 246-8140\",\"sub_subindustry\":\"Off-Broadway\",\"subindustry\":\"Theater\",\"website\":\"http://stlukestheatre.com/\"}\r\n",
      ",{\"company_name\":\"Show World Center Inc.\",\"phone\":\"(212) 489-7576\",\"subindustry\":\"Nightclub\"}\r\n",
      ",{\"company_name\":\"Lace 2\",\"phone\":\"(212) 765-5047\",\"subindustry\":\"Nightclub\",\"website\":\"laceclubs.com\"}\r\n",
      ",{\"company_name\":\"Flash Dancers\",\"phone\":\"(212) 315-5107\",\"subindustry\":\"Nightclub\",\"website\":\"http://flashdancersnyc.com/\"}\r\n",
      ",{\"company_name\":\"Snapple Theater (Jerry Orbach Theater)\",\"phone\":\"(212) 246-3828\",\"sub_subindustry\":\"Broadway - Non-League\",\"subindustry\":\"Theater\",\"website\":\"http://www.snappletheater.com\"}\r\n",
      ",{\"company_name\":\"Don't Tell Mama\",\"phone\":\"212-757-0788\",\"subindustry\":\"Live Music\"}\r\n",
      ",{\"company_name\":\"Private Storefront\",\"subindustry\":\"Nightclub\"}\r\n",
      ",{\"company_name\":\"Circle In The Square Theatre\",\"phone\":\"2123070388\",\"sub_subindustry\":\"League\",\"subindustry\":\"Theater\"}\r\n",
      ",{\"company_name\":\"Ha! Comedy Club\",\"phone\":\"2129773884\",\"subindustry\":\"Comedy Club\",\"website\":\"www.hacomedynyc.com\"}\r\n",
      ",{\"company_name\":\"American Theatre Wing\",\"phone\":\"212-765-0606 x311\",\"sub_subindustry\":\"Off-Broadway\",\"subindustry\":\"Theater\",\"website\":\"http://americantheatrewing.org/\"}\r\n",
      ",{\"company_name\":\"Belasco\",\"sub_subindustry\":\"League\",\"subindustry\":\"Theater\"}\r\n",
      ",{\"company_name\":\"Broadway Theatre\",\"phone\":\"(212) 975-6644\",\"sub_subindustry\":\"League\",\"subindustry\":\"Theater\"}\r\n",
      ",{\"company_name\":\"Nederlander Theatre\",\"phone\":\"(212) 921-8000\",\"sub_subindustry\":\"League\",\"subindustry\":\"Theater\",\"website\":\"http://www.nederlandertheatre.com/\"}\r\n",
      ",{\"company_name\":\"New Amsterdam Theater\",\"phone\":\"(212) 282-2900\",\"sub_subindustry\":\"League\",\"subindustry\":\"Theater\",\"website\":\"http://www.newyorkcitytheatre.com/theaters/newamsterdamtheater/theater.php\"}\r\n",
      ",{\"company_name\":\"Vacant (Bare Elegance Gentlemen's Club)\",\"phone\":\"(212) 245-3494\",\"subindustry\":\"Nightclub\",\"website\":\"http://www.mentertainment.com/clubs/ny/bare/bare-00.htm\"}\r\n",
      ",{\"company_name\":\"Mixed Emotions Video Rental\",\"subindustry\":\"Movies\"}\r\n",
      ",{\"company_name\":\"Walter Kerr Theatre\",\"phone\":\"(212) 239-2974\",\"sub_subindustry\":\"League\",\"subindustry\":\"Theater\"}\r\n",
      ",{\"company_name\":\"Longacre Theatre\",\"phone\":\"(212) 239-6200\",\"sub_subindustry\":\"League\",\"subindustry\":\"Theater\"}\r\n",
      ",{\"company_name\":\"Richard Rodgers Theatre\",\"phone\":\"(212) 221-1211 \\u000e\",\"sub_subindustry\":\"League\",\"subindustry\":\"Theater\",\"website\":\"http://www.richardrodgerstheatre.com/\"}\r\n",
      ",{\"company_name\":\"TSX: Times Square Expositions\",\"phone\":\"646-619-8608\",\"subindustry\":\"Museums / Galleries\"}\r\n",
      ",{\"company_name\":\"Eugene O'Neill Theatre\",\"phone\":\"(212) 840-8181\",\"sub_subindustry\":\"League\",\"subindustry\":\"Theater\"}\r\n",
      ",{\"company_name\":\"AMC Theatres\",\"phone\":\"(212) 398-2597\",\"subindustry\":\"Movies\"}\r\n",
      ",{\"company_name\":\"Minskoff Theatre\",\"phone\":\"(212) 869-0550\",\"sub_subindustry\":\"League\",\"subindustry\":\"Theater\",\"website\":\"www.minskofftheatre.com\"}\r\n",
      ",{\"company_name\":\"Liberty Theater\",\"sub_subindustry\":\"Broadway - Non-League\",\"subindustry\":\"Theater\"}\r\n",
      ",{\"company_name\":\"Madame Tussauds New York\",\"phone\":\"(212) 512-9600\",\"subindustry\":\"Museums / Galleries\",\"website\":\"http://www.nycwax.com\"}\r\n",
      ",{\"company_name\":\"Nokia Theatre\",\"phone\":\"(212) 930-1950\",\"subindustry\":\"Live Music\",\"website\":\"http://nokiatheatrenyc.com/\"}\r\n",
      ",{\"company_name\":\"Ethel Barrymore\",\"sub_subindustry\":\"League\",\"subindustry\":\"Theater\"}\r\n",
      ",{\"company_name\":\"Architectural History Foundation\",\"phone\":\"(212) 286-5141\",\"subindustry\":\"Museums / Galleries\"}\r\n",
      ",{\"company_name\":\"Samuel J. Friedman Theatre\",\"location_1_location\":\"261 47th St\",\"sub_subindustry\":\"League\",\"subindustry\":\"Theater\"}\r\n",
      ",{\"company_name\":\"Henry Miller's Theatre\",\"sub_subindustry\":\"League\",\"subindustry\":\"Theater\"}\r\n",
      ",{\"company_name\":\"Hollywood Theatre\",\"phone\":\"(212) 262-3030\",\"subindustry\":\"Movies\"}\r\n",
      ",{\"company_name\":\"Town Hall\",\"phone\":\"(212) 997-1003\",\"sub_subindustry\":\"Nonprofit\",\"subindustry\":\"Theater\"}\r\n",
      ",{\"company_name\":\"The Cort Theatre\",\"phone\":\"(212) 239-2820\",\"sub_subindustry\":\"League\",\"subindustry\":\"Theater\",\"website\":\"http://www.newyorkcitytheatre.com/theaters/corttheater/theater.php\"}\r\n",
      ",{\"company_name\":\"The Jam\",\"phone\":\"2126268472\",\"subindustry\":\"Live Music\",\"website\":\"www.thejamnyc.com\"}\r\n",
      ",{\"company_name\":\"Sage Theater\",\"phone\":\"(212) 302-6665 \\u000e\",\"sub_subindustry\":\"Off-Broadway\",\"subindustry\":\"Theater\",\"website\":\"http://www.sagetheater.us/\"}\r\n",
      ",{\"company_name\":\"Lace\",\"phone\":\"(212) 764-6969\",\"subindustry\":\"Nightclub\"}\r\n",
      ",{\"company_name\":\"Times Square Art Center\",\"phone\":\"(212) 586-7829 \\u000e\",\"subindustry\":\"Comedy Club\",\"website\":\"http://timessquareartscenter.com/\"}\r\n",
      ",{\"company_name\":\"China Club\",\"phone\":\"(212) 575-5026\",\"subindustry\":\"Nightclub\",\"website\":\"http://www.chinaclubnyc.com/\"}\r\n",
      ",{\"company_name\":\"Majestic Theatre\",\"phone\":\"(212) 239-6200\",\"sub_subindustry\":\"League\",\"subindustry\":\"Theater\",\"website\":\"http://www.newyorkcitytheatre.com/theaters/majestictheater/theater.php\"}\r\n",
      ",{\"company_name\":\"The Times Center\",\"phone\":\"(800) 272-9533\",\"subindustry\":\"Lecture Hall\",\"website\":\"http://thetimescenter.com/\"}\r\n",
      ",{\"company_name\":\"Lunt-Fontanne Theatre\",\"phone\":\"(212) 575-9200\",\"sub_subindustry\":\"League\",\"subindustry\":\"Theater\",\"website\":\"http://luntfontannetheatre.com/\"}\r\n",
      ",{\"company_name\":\"John Golden Theatre\",\"sub_subindustry\":\"League\",\"subindustry\":\"Theater\"}\r\n",
      ",{\"company_name\":\"Gerald Schoenfeld Theatre\",\"phone\":\"(212) 239-6200\",\"sub_subindustry\":\"League\",\"subindustry\":\"Theater\"}\r\n",
      ",{\"company_name\":\"Neil Simon Theatre\",\"phone\":\"(212) 757-8646\",\"sub_subindustry\":\"League\",\"subindustry\":\"Theater\",\"website\":\"http://www.neilsimontheatre.com/\"}\r\n",
      ",{\"company_name\":\"American Airlines Theatre\",\"phone\":\"(212) 719-1300 \\u000e\",\"sub_subindustry\":\"League\",\"subindustry\":\"Theater\",\"website\":\"http://roundabouttheatre.org/\"}\r\n",
      ",{\"company_name\":\"Roseland Ballroom\",\"phone\":\"(212) 247-0200 \\u000e\",\"subindustry\":\"Live Music\",\"website\":\"http://roselandballroom.com/\"}\r\n",
      ",{\"company_name\":\"Winter Garden Theatre\",\"phone\":\"(212) 239-6200\",\"sub_subindustry\":\"League\",\"subindustry\":\"Theater\",\"website\":\"http://www.wintergarden-theater.com/\"}\r\n",
      ",{\"company_name\":\"Gershwin Theatre\",\"phone\":\"(212) 586-6510\",\"sub_subindustry\":\"League\",\"subindustry\":\"Theater\",\"website\":\"http://www.gershwintheatre.com/\"}\r\n",
      ",{\"company_name\":\"Booth Theatre\",\"phone\":\"(212) 391-8886\",\"sub_subindustry\":\"League\",\"subindustry\":\"Theater\"}\r\n",
      ",{\"company_name\":\"Palace Theatre\",\"sub_subindustry\":\"League\",\"subindustry\":\"Theater\"}\r\n",
      ",{\"company_name\":\"Duke Theater\",\"phone\":\"(646) 223-3000\",\"sub_subindustry\":\"Off-Broadway\",\"subindustry\":\"Theater\",\"website\":\"http://www.new42.org/duke/duke_home.aspx\"}\r\n",
      ",{\"company_name\":\"Marriott Marquis Theatre\",\"phone\":\"(212) 382-0100\",\"sub_subindustry\":\"League\",\"subindustry\":\"Theater\",\"website\":\"http://www.marquistheatre.com/\"}\r\n",
      ",{\"company_name\":\"Ambassador Theatre\",\"sub_subindustry\":\"League\",\"subindustry\":\"Theater\"}\r\n",
      ",{\"company_name\":\"American Craftsman\",\"phone\":\"(212) 399-2555\",\"subindustry\":\"Museums / Galleries\"}\r\n",
      ",{\"company_name\":\"August Wilson Theatre\",\"phone\":\"(212) 239-6200\",\"sub_subindustry\":\"League\",\"subindustry\":\"Theater\",\"website\":\"http://www.newyorkcitytheatre.com/theaters/augustwilsontheater/theater.php\"}\r\n",
      ",{\"company_name\":\"Broadway Galleries\",\"phone\":\"(212) 274-8993\",\"subindustry\":\"Museums / Galleries\",\"website\":\"http://www.broadwaygallerynyc.com/\"}\r\n",
      ",{\"company_name\":\"Crown Art Gallery\",\"phone\":\"(212) 757-8255\",\"subindustry\":\"Museums / Galleries\",\"website\":\"www.sohogallery.com\"}\r\n",
      ",{\"company_name\":\"Foxwoods Theatre\",\"phone\":\"(212) 556-4750\",\"sub_subindustry\":\"League\",\"subindustry\":\"Theater\"}\r\n",
      ",{\"company_name\":\"The Duke\",\"sub_subindustry\":\"Off-Broadway\",\"subindustry\":\"Theater\",\"website\":\"http://www.new42.org/duke/duke_home.aspx\"}\r\n",
      ",{\"company_name\":\"Carolines on Broadway\",\"phone\":\"(212) 757-4100\",\"subindustry\":\"Comedy Club\",\"website\":\"https://www.carolines.com/\"}]\r\n"
     ]
    }
   ],
   "source": [
    "!cat venues.json"
   ]
  },
  {
   "cell_type": "code",
   "execution_count": 78,
   "metadata": {
    "hideCode": false,
    "hidePrompt": false
   },
   "outputs": [
    {
     "name": "stdout",
     "output_type": "stream",
     "text": [
      ",{\"company_name\":\"Ripley's Believe It Or Not!\",\"phone\":\"212-398-3133\",\"subindustry\":\"Attractions / Amusement\",\"website\":\"www.ripleysnewyork.com\"}\r\n"
     ]
    }
   ],
   "source": [
    "!grep 'Ripley' venues.json"
   ]
  },
  {
   "cell_type": "code",
   "execution_count": 79,
   "metadata": {
    "hideCode": false,
    "hidePrompt": false
   },
   "outputs": [
    {
     "name": "stdout",
     "output_type": "stream",
     "text": [
      ",{\"company_name\":\"Al Hirschfeld Theater\",\"phone\":\"(212) 239-6200\",\"sub_subindustry\":\"League\",\"subindustry\":\"Theater\"}\r\n",
      ",{\"company_name\":\"Bernard B. Jacobs Theatre\",\"phone\":\"(212) 239-2820\",\"sub_subindustry\":\"League\",\"subindustry\":\"Theater\"}\r\n",
      ",{\"company_name\":\"Music Box Theater\",\"phone\":\"212 239-6200\",\"sub_subindustry\":\"League\",\"subindustry\":\"Theater\"}\r\n",
      ",{\"company_name\":\"Helen Hayes Theatre\",\"phone\":\"(212) 944-9457\",\"sub_subindustry\":\"League\",\"subindustry\":\"Theater\"}\r\n",
      ",{\"company_name\":\"Regal Loews Cinemas 42nd Street E-Walk Theater\",\"phone\":\"(212) 840-7761\",\"subindustry\":\"Movies\",\"website\":\"www.regmovies.com\"}\r\n",
      ",{\"company_name\":\"Jujamcyn Theater\",\"phone\":\"(212) 840-8181\",\"sub_subindustry\":\"League\",\"subindustry\":\"Theater\"}\r\n",
      ",{\"company_name\":\"St. James Theatre\",\"phone\":\"(212) 239-6200\",\"sub_subindustry\":\"League\",\"subindustry\":\"Theater\"}\r\n",
      ",{\"company_name\":\"Imperial Theatre\",\"phone\":\"(815) 477-5076\",\"sub_subindustry\":\"League\",\"subindustry\":\"Theater\"}\r\n",
      ",{\"company_name\":\"Brooks Atkinson Theatre\",\"phone\":\"(212) 719-4099\",\"sub_subindustry\":\"League\",\"subindustry\":\"Theater\",\"website\":\"http://www.brooksatkinsontheater.com/\"}\r\n",
      ",{\"company_name\":\"Freidman Theatre\",\"phone\":\"(212) 399-3000 x 5401\",\"sub_subindustry\":\"Broadway - Non-League\",\"subindustry\":\"Theater\"}\r\n",
      ",{\"company_name\":\"Lyceum Theater\",\"phone\":\"212 239-6200\",\"sub_subindustry\":\"League\",\"subindustry\":\"Theater\"}\r\n",
      ",{\"company_name\":\"Shubert Theatre\",\"phone\":\"2129443700\",\"sub_subindustry\":\"League\",\"subindustry\":\"Theater\"}\r\n",
      ",{\"company_name\":\"St Luke's Theater\",\"phone\":\"(212) 246-8140\",\"sub_subindustry\":\"Off-Broadway\",\"subindustry\":\"Theater\",\"website\":\"http://stlukestheatre.com/\"}\r\n",
      ",{\"company_name\":\"Snapple Theater (Jerry Orbach Theater)\",\"phone\":\"(212) 246-3828\",\"sub_subindustry\":\"Broadway - Non-League\",\"subindustry\":\"Theater\",\"website\":\"http://www.snappletheater.com\"}\r\n",
      ",{\"company_name\":\"Circle In The Square Theatre\",\"phone\":\"2123070388\",\"sub_subindustry\":\"League\",\"subindustry\":\"Theater\"}\r\n",
      ",{\"company_name\":\"American Theatre Wing\",\"phone\":\"212-765-0606 x311\",\"sub_subindustry\":\"Off-Broadway\",\"subindustry\":\"Theater\",\"website\":\"http://americantheatrewing.org/\"}\r\n",
      ",{\"company_name\":\"Belasco\",\"sub_subindustry\":\"League\",\"subindustry\":\"Theater\"}\r\n",
      ",{\"company_name\":\"Broadway Theatre\",\"phone\":\"(212) 975-6644\",\"sub_subindustry\":\"League\",\"subindustry\":\"Theater\"}\r\n",
      ",{\"company_name\":\"Nederlander Theatre\",\"phone\":\"(212) 921-8000\",\"sub_subindustry\":\"League\",\"subindustry\":\"Theater\",\"website\":\"http://www.nederlandertheatre.com/\"}\r\n",
      ",{\"company_name\":\"New Amsterdam Theater\",\"phone\":\"(212) 282-2900\",\"sub_subindustry\":\"League\",\"subindustry\":\"Theater\",\"website\":\"http://www.newyorkcitytheatre.com/theaters/newamsterdamtheater/theater.php\"}\r\n",
      ",{\"company_name\":\"Walter Kerr Theatre\",\"phone\":\"(212) 239-2974\",\"sub_subindustry\":\"League\",\"subindustry\":\"Theater\"}\r\n",
      ",{\"company_name\":\"Longacre Theatre\",\"phone\":\"(212) 239-6200\",\"sub_subindustry\":\"League\",\"subindustry\":\"Theater\"}\r\n",
      ",{\"company_name\":\"Richard Rodgers Theatre\",\"phone\":\"(212) 221-1211 \\u000e\",\"sub_subindustry\":\"League\",\"subindustry\":\"Theater\",\"website\":\"http://www.richardrodgerstheatre.com/\"}\r\n",
      ",{\"company_name\":\"Eugene O'Neill Theatre\",\"phone\":\"(212) 840-8181\",\"sub_subindustry\":\"League\",\"subindustry\":\"Theater\"}\r\n",
      ",{\"company_name\":\"Minskoff Theatre\",\"phone\":\"(212) 869-0550\",\"sub_subindustry\":\"League\",\"subindustry\":\"Theater\",\"website\":\"www.minskofftheatre.com\"}\r\n",
      ",{\"company_name\":\"Liberty Theater\",\"sub_subindustry\":\"Broadway - Non-League\",\"subindustry\":\"Theater\"}\r\n",
      ",{\"company_name\":\"Ethel Barrymore\",\"sub_subindustry\":\"League\",\"subindustry\":\"Theater\"}\r\n",
      ",{\"company_name\":\"Samuel J. Friedman Theatre\",\"location_1_location\":\"261 47th St\",\"sub_subindustry\":\"League\",\"subindustry\":\"Theater\"}\r\n",
      ",{\"company_name\":\"Henry Miller's Theatre\",\"sub_subindustry\":\"League\",\"subindustry\":\"Theater\"}\r\n",
      ",{\"company_name\":\"Town Hall\",\"phone\":\"(212) 997-1003\",\"sub_subindustry\":\"Nonprofit\",\"subindustry\":\"Theater\"}\r\n",
      ",{\"company_name\":\"The Cort Theatre\",\"phone\":\"(212) 239-2820\",\"sub_subindustry\":\"League\",\"subindustry\":\"Theater\",\"website\":\"http://www.newyorkcitytheatre.com/theaters/corttheater/theater.php\"}\r\n",
      ",{\"company_name\":\"Sage Theater\",\"phone\":\"(212) 302-6665 \\u000e\",\"sub_subindustry\":\"Off-Broadway\",\"subindustry\":\"Theater\",\"website\":\"http://www.sagetheater.us/\"}\r\n",
      ",{\"company_name\":\"Majestic Theatre\",\"phone\":\"(212) 239-6200\",\"sub_subindustry\":\"League\",\"subindustry\":\"Theater\",\"website\":\"http://www.newyorkcitytheatre.com/theaters/majestictheater/theater.php\"}\r\n",
      ",{\"company_name\":\"Lunt-Fontanne Theatre\",\"phone\":\"(212) 575-9200\",\"sub_subindustry\":\"League\",\"subindustry\":\"Theater\",\"website\":\"http://luntfontannetheatre.com/\"}\r\n",
      ",{\"company_name\":\"John Golden Theatre\",\"sub_subindustry\":\"League\",\"subindustry\":\"Theater\"}\r\n",
      ",{\"company_name\":\"Gerald Schoenfeld Theatre\",\"phone\":\"(212) 239-6200\",\"sub_subindustry\":\"League\",\"subindustry\":\"Theater\"}\r\n",
      ",{\"company_name\":\"Neil Simon Theatre\",\"phone\":\"(212) 757-8646\",\"sub_subindustry\":\"League\",\"subindustry\":\"Theater\",\"website\":\"http://www.neilsimontheatre.com/\"}\r\n",
      ",{\"company_name\":\"American Airlines Theatre\",\"phone\":\"(212) 719-1300 \\u000e\",\"sub_subindustry\":\"League\",\"subindustry\":\"Theater\",\"website\":\"http://roundabouttheatre.org/\"}\r\n",
      ",{\"company_name\":\"Winter Garden Theatre\",\"phone\":\"(212) 239-6200\",\"sub_subindustry\":\"League\",\"subindustry\":\"Theater\",\"website\":\"http://www.wintergarden-theater.com/\"}\r\n",
      ",{\"company_name\":\"Gershwin Theatre\",\"phone\":\"(212) 586-6510\",\"sub_subindustry\":\"League\",\"subindustry\":\"Theater\",\"website\":\"http://www.gershwintheatre.com/\"}\r\n",
      ",{\"company_name\":\"Booth Theatre\",\"phone\":\"(212) 391-8886\",\"sub_subindustry\":\"League\",\"subindustry\":\"Theater\"}\r\n",
      ",{\"company_name\":\"Palace Theatre\",\"sub_subindustry\":\"League\",\"subindustry\":\"Theater\"}\r\n",
      ",{\"company_name\":\"Duke Theater\",\"phone\":\"(646) 223-3000\",\"sub_subindustry\":\"Off-Broadway\",\"subindustry\":\"Theater\",\"website\":\"http://www.new42.org/duke/duke_home.aspx\"}\r\n",
      ",{\"company_name\":\"Marriott Marquis Theatre\",\"phone\":\"(212) 382-0100\",\"sub_subindustry\":\"League\",\"subindustry\":\"Theater\",\"website\":\"http://www.marquistheatre.com/\"}\r\n",
      ",{\"company_name\":\"Ambassador Theatre\",\"sub_subindustry\":\"League\",\"subindustry\":\"Theater\"}\r\n",
      ",{\"company_name\":\"August Wilson Theatre\",\"phone\":\"(212) 239-6200\",\"sub_subindustry\":\"League\",\"subindustry\":\"Theater\",\"website\":\"http://www.newyorkcitytheatre.com/theaters/augustwilsontheater/theater.php\"}\r\n",
      ",{\"company_name\":\"Foxwoods Theatre\",\"phone\":\"(212) 556-4750\",\"sub_subindustry\":\"League\",\"subindustry\":\"Theater\"}\r\n",
      ",{\"company_name\":\"The Duke\",\"sub_subindustry\":\"Off-Broadway\",\"subindustry\":\"Theater\",\"website\":\"http://www.new42.org/duke/duke_home.aspx\"}\r\n"
     ]
    }
   ],
   "source": [
    "!grep -i 'Theater' venues.json"
   ]
  },
  {
   "cell_type": "code",
   "execution_count": 80,
   "metadata": {
    "hideCode": false,
    "hidePrompt": false,
    "scrolled": true
   },
   "outputs": [
    {
     "name": "stdout",
     "output_type": "stream",
     "text": [
      "[{\"company_name\":\"Cheetahs\",\"phone\":\"(212) 819-9300\",\"subindustry\":\"Nightclub\",\"website\":\"www.cheetahnyc.com\"}\r\n",
      ",{\"company_name\":\"The World Famous Laugh Factory\",\"phone\":\"212-586-7829 x304\",\"subindustry\":\"Comedy Club\"}\r\n",
      ",{\"company_name\":\"Touch Nightclub\",\"phone\":\"212 489-7656\",\"subindustry\":\"Nightclub\"}\r\n",
      ",{\"company_name\":\"Hawthorne Amusement\",\"subindustry\":\"Attractions / Amusement\"}\r\n",
      ",{\"company_name\":\"Ripley's Believe It Or Not!\",\"phone\":\"212-398-3133\",\"subindustry\":\"Attractions / Amusement\",\"website\":\"www.ripleysnewyork.com\"}\r\n",
      ",{\"company_name\":\"Show World Center Inc.\",\"phone\":\"(212) 489-7576\",\"subindustry\":\"Nightclub\"}\r\n",
      ",{\"company_name\":\"Lace 2\",\"phone\":\"(212) 765-5047\",\"subindustry\":\"Nightclub\",\"website\":\"laceclubs.com\"}\r\n",
      ",{\"company_name\":\"Flash Dancers\",\"phone\":\"(212) 315-5107\",\"subindustry\":\"Nightclub\",\"website\":\"http://flashdancersnyc.com/\"}\r\n",
      ",{\"company_name\":\"Don't Tell Mama\",\"phone\":\"212-757-0788\",\"subindustry\":\"Live Music\"}\r\n",
      ",{\"company_name\":\"Private Storefront\",\"subindustry\":\"Nightclub\"}\r\n",
      ",{\"company_name\":\"Ha! Comedy Club\",\"phone\":\"2129773884\",\"subindustry\":\"Comedy Club\",\"website\":\"www.hacomedynyc.com\"}\r\n",
      ",{\"company_name\":\"Vacant (Bare Elegance Gentlemen's Club)\",\"phone\":\"(212) 245-3494\",\"subindustry\":\"Nightclub\",\"website\":\"http://www.mentertainment.com/clubs/ny/bare/bare-00.htm\"}\r\n",
      ",{\"company_name\":\"Mixed Emotions Video Rental\",\"subindustry\":\"Movies\"}\r\n",
      ",{\"company_name\":\"TSX: Times Square Expositions\",\"phone\":\"646-619-8608\",\"subindustry\":\"Museums / Galleries\"}\r\n",
      ",{\"company_name\":\"Madame Tussauds New York\",\"phone\":\"(212) 512-9600\",\"subindustry\":\"Museums / Galleries\",\"website\":\"http://www.nycwax.com\"}\r\n",
      ",{\"company_name\":\"Architectural History Foundation\",\"phone\":\"(212) 286-5141\",\"subindustry\":\"Museums / Galleries\"}\r\n",
      ",{\"company_name\":\"The Jam\",\"phone\":\"2126268472\",\"subindustry\":\"Live Music\",\"website\":\"www.thejamnyc.com\"}\r\n",
      ",{\"company_name\":\"Lace\",\"phone\":\"(212) 764-6969\",\"subindustry\":\"Nightclub\"}\r\n",
      ",{\"company_name\":\"Times Square Art Center\",\"phone\":\"(212) 586-7829 \\u000e\",\"subindustry\":\"Comedy Club\",\"website\":\"http://timessquareartscenter.com/\"}\r\n",
      ",{\"company_name\":\"China Club\",\"phone\":\"(212) 575-5026\",\"subindustry\":\"Nightclub\",\"website\":\"http://www.chinaclubnyc.com/\"}\r\n",
      ",{\"company_name\":\"The Times Center\",\"phone\":\"(800) 272-9533\",\"subindustry\":\"Lecture Hall\",\"website\":\"http://thetimescenter.com/\"}\r\n",
      ",{\"company_name\":\"Roseland Ballroom\",\"phone\":\"(212) 247-0200 \\u000e\",\"subindustry\":\"Live Music\",\"website\":\"http://roselandballroom.com/\"}\r\n",
      ",{\"company_name\":\"American Craftsman\",\"phone\":\"(212) 399-2555\",\"subindustry\":\"Museums / Galleries\"}\r\n",
      ",{\"company_name\":\"Broadway Galleries\",\"phone\":\"(212) 274-8993\",\"subindustry\":\"Museums / Galleries\",\"website\":\"http://www.broadwaygallerynyc.com/\"}\r\n",
      ",{\"company_name\":\"Crown Art Gallery\",\"phone\":\"(212) 757-8255\",\"subindustry\":\"Museums / Galleries\",\"website\":\"www.sohogallery.com\"}\r\n",
      ",{\"company_name\":\"Carolines on Broadway\",\"phone\":\"(212) 757-4100\",\"subindustry\":\"Comedy Club\",\"website\":\"https://www.carolines.com/\"}]\r\n"
     ]
    }
   ],
   "source": [
    "# Multiple flags, and multiple conditions\n",
    "!grep -v -e 'Theater' -e 'Theatre' venues.json"
   ]
  },
  {
   "cell_type": "code",
   "execution_count": null,
   "metadata": {
    "collapsed": true
   },
   "outputs": [],
   "source": []
  }
 ],
 "metadata": {
  "anaconda-cloud": {},
  "hide_code_all_hidden": false,
  "kernelspec": {
   "display_name": "Python 3",
   "language": "python",
   "name": "python3"
  },
  "language_info": {
   "codemirror_mode": {
    "name": "ipython",
    "version": 3
   },
   "file_extension": ".py",
   "mimetype": "text/x-python",
   "name": "python",
   "nbconvert_exporter": "python",
   "pygments_lexer": "ipython3",
   "version": "3.6.4"
  },
  "toc": {
   "colors": {
    "hover_highlight": "#DAA520",
    "running_highlight": "#FF0000",
    "selected_highlight": "#FFD700"
   },
   "moveMenuLeft": true,
   "nav_menu": {
    "height": "246px",
    "width": "252px"
   },
   "navigate_menu": true,
   "number_sections": true,
   "sideBar": true,
   "threshold": 4,
   "toc_cell": true,
   "toc_section_display": "block",
   "toc_window_display": true
  }
 },
 "nbformat": 4,
 "nbformat_minor": 2
}
