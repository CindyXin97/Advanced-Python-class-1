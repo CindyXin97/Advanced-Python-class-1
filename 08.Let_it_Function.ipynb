{
 "cells": [
  {
   "cell_type": "markdown",
   "metadata": {
    "toc": "true"
   },
   "source": [
    "# Table of Contents\n",
    " <p><div class=\"lev1 toc-item\"><a href=\"#In-Built-Functions\" data-toc-modified-id=\"In-Built-Functions-1\"><span class=\"toc-item-num\">1&nbsp;&nbsp;</span>In-Built Functions</a></div><div class=\"lev1 toc-item\"><a href=\"#Importing-from-Libraries\" data-toc-modified-id=\"Importing-from-Libraries-2\"><span class=\"toc-item-num\">2&nbsp;&nbsp;</span>Importing from Libraries</a></div><div class=\"lev2 toc-item\"><a href=\"#Best-Practices-in-Importing\" data-toc-modified-id=\"Best-Practices-in-Importing-21\"><span class=\"toc-item-num\">2.1&nbsp;&nbsp;</span>Best Practices in Importing</a></div><div class=\"lev1 toc-item\"><a href=\"#User-Defined-Functions\" data-toc-modified-id=\"User-Defined-Functions-3\"><span class=\"toc-item-num\">3&nbsp;&nbsp;</span>User Defined Functions</a></div><div class=\"lev2 toc-item\"><a href=\"#Exercise\" data-toc-modified-id=\"Exercise-31\"><span class=\"toc-item-num\">3.1&nbsp;&nbsp;</span>Exercise</a></div>"
   ]
  },
  {
   "cell_type": "markdown",
   "metadata": {},
   "source": [
    "# In-Built Functions"
   ]
  },
  {
   "cell_type": "markdown",
   "metadata": {},
   "source": [
    "So here's some good news!\n",
    "<img src=\"images/functions.jpg\">\n",
    "\n",
    "A function are chunks of reusable, modular code, that allows a programmer to write more efficient programs. <br>\n",
    "Functions can be inbuilt, inherited from a library, or user defined. We will cover all of them in this tutorial. Let's first look at Inbuilt functions. As always, you can read more about these in Python's official documentation on [Inbuilt Functions](https://docs.python.org/3.6/library/functions.html)."
   ]
  },
  {
   "cell_type": "code",
   "execution_count": 1,
   "metadata": {},
   "outputs": [
    {
     "name": "stdout",
     "output_type": "stream",
     "text": [
      "[1, 4, 9, 16, 25, 36, 49, 64, 81, 100]\n"
     ]
    }
   ],
   "source": [
    "# Some functions already covered\n",
    "nums = [num**2 for num in range(1,11)]\n",
    "print(nums) #print is a function, atleast Python 3.x onwards"
   ]
  },
  {
   "cell_type": "code",
   "execution_count": 2,
   "metadata": {},
   "outputs": [
    {
     "ename": "SyntaxError",
     "evalue": "Missing parentheses in call to 'print' (<ipython-input-2-cafd47bbe583>, line 3)",
     "output_type": "error",
     "traceback": [
      "\u001b[0;36m  File \u001b[0;32m\"<ipython-input-2-cafd47bbe583>\"\u001b[0;36m, line \u001b[0;32m3\u001b[0m\n\u001b[0;31m    print nums\u001b[0m\n\u001b[0m             ^\u001b[0m\n\u001b[0;31mSyntaxError\u001b[0m\u001b[0;31m:\u001b[0m Missing parentheses in call to 'print'\n"
     ]
    }
   ],
   "source": [
    "# In Python 2.x - Not a function, it's a statement. \n",
    "# Will give an error in Python 3.x\n",
    "print nums"
   ]
  },
  {
   "cell_type": "code",
   "execution_count": 3,
   "metadata": {},
   "outputs": [
    {
     "data": {
      "text/plain": [
       "10"
      ]
     },
     "execution_count": 3,
     "metadata": {},
     "output_type": "execute_result"
    }
   ],
   "source": [
    "len(nums)"
   ]
  },
  {
   "cell_type": "code",
   "execution_count": 4,
   "metadata": {},
   "outputs": [
    {
     "data": {
      "text/plain": [
       "100"
      ]
     },
     "execution_count": 4,
     "metadata": {},
     "output_type": "execute_result"
    }
   ],
   "source": [
    "max(nums)"
   ]
  },
  {
   "cell_type": "code",
   "execution_count": 5,
   "metadata": {
    "scrolled": true
   },
   "outputs": [
    {
     "data": {
      "text/plain": [
       "1"
      ]
     },
     "execution_count": 5,
     "metadata": {},
     "output_type": "execute_result"
    }
   ],
   "source": [
    "min(nums)"
   ]
  },
  {
   "cell_type": "code",
   "execution_count": 6,
   "metadata": {},
   "outputs": [
    {
     "data": {
      "text/plain": [
       "385"
      ]
     },
     "execution_count": 6,
     "metadata": {},
     "output_type": "execute_result"
    }
   ],
   "source": [
    "sum(nums)"
   ]
  },
  {
   "cell_type": "code",
   "execution_count": 7,
   "metadata": {},
   "outputs": [
    {
     "data": {
      "text/plain": [
       "[100, 81, 64, 49, 36, 25, 16, 9, 4, 1]"
      ]
     },
     "execution_count": 7,
     "metadata": {},
     "output_type": "execute_result"
    }
   ],
   "source": [
    "nums.reverse()\n",
    "nums"
   ]
  },
  {
   "cell_type": "code",
   "execution_count": 8,
   "metadata": {
    "collapsed": true
   },
   "outputs": [],
   "source": [
    "# Reverse a string\n",
    "# Notice how many functions we use"
   ]
  },
  {
   "cell_type": "code",
   "execution_count": 9,
   "metadata": {
    "scrolled": true
   },
   "outputs": [
    {
     "name": "stdout",
     "output_type": "stream",
     "text": [
      "Enter a word:Python\n"
     ]
    },
    {
     "data": {
      "text/plain": [
       "'nohtyP'"
      ]
     },
     "execution_count": 9,
     "metadata": {},
     "output_type": "execute_result"
    }
   ],
   "source": [
    "word = input(\"Enter a word:\")\n",
    "word = list(word)\n",
    "word.reverse()\n",
    "word = ''.join(word)\n",
    "word"
   ]
  },
  {
   "cell_type": "code",
   "execution_count": 10,
   "metadata": {},
   "outputs": [
    {
     "name": "stdout",
     "output_type": "stream",
     "text": [
      "Enter a word: Python\n"
     ]
    }
   ],
   "source": [
    "word = input(\"Enter a word: \")"
   ]
  },
  {
   "cell_type": "code",
   "execution_count": 11,
   "metadata": {},
   "outputs": [
    {
     "data": {
      "text/plain": [
       "['P', 'y', 't', 'h', 'o', 'n']"
      ]
     },
     "execution_count": 11,
     "metadata": {},
     "output_type": "execute_result"
    }
   ],
   "source": [
    "word = list(word)\n",
    "word"
   ]
  },
  {
   "cell_type": "code",
   "execution_count": 12,
   "metadata": {
    "collapsed": true
   },
   "outputs": [],
   "source": [
    "word.reverse()"
   ]
  },
  {
   "cell_type": "code",
   "execution_count": 13,
   "metadata": {},
   "outputs": [
    {
     "data": {
      "text/plain": [
       "'nohtyP'"
      ]
     },
     "execution_count": 13,
     "metadata": {},
     "output_type": "execute_result"
    }
   ],
   "source": [
    "word = \"\".join(word)\n",
    "word"
   ]
  },
  {
   "cell_type": "markdown",
   "metadata": {},
   "source": [
    "So as you can see, you have used a lot of functions already."
   ]
  },
  {
   "cell_type": "markdown",
   "metadata": {},
   "source": [
    "Now compare the Python code above to one way to handle a similar problem in C. Just to be clear, C is a very powerful langauage, so this isn't meant to show C in poor light, but to show you an area where Python is much more user friendly."
   ]
  },
  {
   "cell_type": "raw",
   "metadata": {
    "collapsed": true
   },
   "source": [
    "https://stackoverflow.com/questions/784417/reversing-a-string-in-c\n",
    "\n",
    "#include <stdio.h>\n",
    "#include <string.h>\n",
    "\n",
    "char *revStr (char *str) {\n",
    "    char tmp, *src, *dst;\n",
    "    size_t len;\n",
    "    if (str != NULL)\n",
    "    {\n",
    "        len = strlen (str);\n",
    "        if (len > 1) {\n",
    "            src = str;\n",
    "            dst = src + len - 1;\n",
    "            while (src < dst) {\n",
    "                tmp = *src;\n",
    "                *src++ = *dst;\n",
    "                *dst-- = tmp;\n",
    "            }\n",
    "        }\n",
    "    }\n",
    "    return str;\n",
    "}\n",
    "\n",
    "char *str[] = {\"\", \"a\", \"ab\", \"abc\", \"abcd\", \"abcde\"};\n",
    "\n",
    "int main(int argc, char *argv[]) {\n",
    "    int i;\n",
    "    char s[10000];\n",
    "    for (i=0; i < sizeof(str)/sizeof(str[0]); i++) {\n",
    "        strcpy (s, str[i]);\n",
    "        printf (\"'%s' -> '%s'\\n\", str[i], revStr(s));\n",
    "    }\n",
    "    return 0;\n",
    "}"
   ]
  },
  {
   "cell_type": "markdown",
   "metadata": {},
   "source": [
    "# Importing from Libraries"
   ]
  },
  {
   "cell_type": "markdown",
   "metadata": {},
   "source": [
    "<img src=\"images/python.png\">\n",
    "<br>This [image](http://xkcd.com/353/) above is from the awesome XKCD series. If you're not familiar with it, I encourage you to check them out, hilarious geek humour! <br>\n",
    "We will often have to import a lot of functions from existing libraries in Python.<br>\n",
    "Why? Because someone else very generously wrote hundreds or thousands of lines of codes so we don't have to. The large library base of Python is one of the reasons Data Scientists use it.\n",
    "\n",
    "This is how the import syntax works:<br>\n",
    "\n",
    "* import libraryName\n",
    "* import libraryName as ln\n",
    "* from libraryName import specificFunction\n",
    "* from libraryName import *\n",
    "\n",
    "Let's see a few examples below."
   ]
  },
  {
   "cell_type": "code",
   "execution_count": 14,
   "metadata": {},
   "outputs": [
    {
     "name": "stdout",
     "output_type": "stream",
     "text": [
      "0.23\n",
      "0.11\n",
      "0.41\n",
      "0.42\n",
      "0.68\n"
     ]
    }
   ],
   "source": [
    "# Import the library\n",
    "import random\n",
    "\n",
    "# Initiate a for loo\n",
    "for i in range(5):\n",
    "# x is equal to a random value, that we got from the library named random, and the function named random()\n",
    "    x = random.random()\n",
    "    print(round(x,2))"
   ]
  },
  {
   "cell_type": "code",
   "execution_count": 15,
   "metadata": {},
   "outputs": [
    {
     "name": "stdout",
     "output_type": "stream",
     "text": [
      "Enter the radius in cm: 10\n",
      "The circumference of the circle is:  62.83185307179586\n",
      "The area of the circle is:  314.1592653589793\n"
     ]
    }
   ],
   "source": [
    "# Circumference of a circle\n",
    "from math import pi\n",
    "radius = int(input(\"Enter the radius in cm: \"))\n",
    "c = 2*pi*radius\n",
    "area = pi*(radius**2)\n",
    "print(\"The circumference of the circle is: \",c)\n",
    "print(\"The area of the circle is: \", area)"
   ]
  },
  {
   "cell_type": "markdown",
   "metadata": {},
   "source": [
    "## Best Practices in Importing"
   ]
  },
  {
   "cell_type": "markdown",
   "metadata": {},
   "source": [
    "First off, what I refer to as libraries, others might also refer to as Modules. \n",
    "\n",
    "Next - it's generally bad to use `\"from library import *\" `\n",
    "\n",
    "Quoting from the [Google Python Style Guide](https://google.github.io/styleguide/pyguide.html#Imports):\n",
    "\n",
    "```\n",
    "Use `import x` for importing packages and modules. \n",
    "Use `from x import y` where x is the package prefix and y is the module name with no prefix. \n",
    "Use `from x import y as z` if two modules named y are to be imported or if y is an inconveniently long name.\n",
    "\n",
    "For example the module sound.effects.echo may be imported as follows:\n",
    "\n",
    "`from sound.effects import echo\n",
    "...\n",
    "echo.EchoFilter(input, output, delay=0.7, atten=4)`\n",
    "\n",
    "Do not use relative names in imports. Even if the module is in the same package, use the full package name. This helps prevent unintentionally importing a package twice.\n",
    "```\n",
    "\n",
    "Don't worry if you haven't understood all of that, I just want you to recall some of the keywords mentioned here when we start implementing these principles."
   ]
  },
  {
   "cell_type": "markdown",
   "metadata": {},
   "source": [
    "# User Defined Functions"
   ]
  },
  {
   "cell_type": "markdown",
   "metadata": {},
   "source": [
    "By now, you should have noticed a pattern. Every new technique we learn, is progressively more and more powerful. And we also combine many of the techniques we have already learnt. <br>\n",
    "User defined functions are simply a way for a user - you - to define code blocks that do exactly what you want. Don't want to write code to say \"Hello User!\" every time? Define a function! <br>\n",
    "As usual - very simple syntax. <br><br>\n",
    "```def function_name(optional_input):\n",
    "        inputs or variables\n",
    "        functions like print\n",
    "        a return function if needed\n",
    "```\n",
    "<br><br>\n",
    "Let's break this down in our examples."
   ]
  },
  {
   "cell_type": "code",
   "execution_count": 16,
   "metadata": {
    "collapsed": true
   },
   "outputs": [],
   "source": [
    "# Function to say hello to the user\n",
    "def say_hello():\n",
    "    name = input(\"What's your name? \")\n",
    "    print(\"Hello \", name,\"!\")"
   ]
  },
  {
   "cell_type": "code",
   "execution_count": 17,
   "metadata": {},
   "outputs": [
    {
     "name": "stdout",
     "output_type": "stream",
     "text": [
      "What's your name? Albert\n",
      "Hello  Albert !\n"
     ]
    }
   ],
   "source": [
    "say_hello()"
   ]
  },
  {
   "cell_type": "code",
   "execution_count": 18,
   "metadata": {},
   "outputs": [
    {
     "data": {
      "text/plain": [
       "list"
      ]
     },
     "execution_count": 18,
     "metadata": {},
     "output_type": "execute_result"
    }
   ],
   "source": [
    "list_a = [\"a\", 1, 42, 19, \"c\", \"23\",1,2,3,4,5,6]\n",
    "type(list_a)"
   ]
  },
  {
   "cell_type": "code",
   "execution_count": 19,
   "metadata": {},
   "outputs": [
    {
     "name": "stdout",
     "output_type": "stream",
     "text": [
      "<class 'str'>\n",
      "<class 'int'>\n",
      "<class 'int'>\n",
      "<class 'int'>\n",
      "<class 'str'>\n",
      "<class 'str'>\n",
      "<class 'int'>\n",
      "<class 'int'>\n",
      "<class 'int'>\n",
      "<class 'int'>\n",
      "<class 'int'>\n",
      "<class 'int'>\n"
     ]
    }
   ],
   "source": [
    "for i in list_a:\n",
    "    print(type(i))"
   ]
  },
  {
   "cell_type": "code",
   "execution_count": 20,
   "metadata": {},
   "outputs": [
    {
     "data": {
      "text/plain": [
       "12"
      ]
     },
     "execution_count": 20,
     "metadata": {},
     "output_type": "execute_result"
    }
   ],
   "source": [
    "len(list_a)"
   ]
  },
  {
   "cell_type": "code",
   "execution_count": 21,
   "metadata": {},
   "outputs": [],
   "source": [
    "def list_scorer(list_name):\n",
    "    if type(list_name) == list:\n",
    "        print(\"Correctly identified a list of length,\",len(list_name),\"items.\")\n",
    "        for i in list_name:\n",
    "            print(type(i))\n",
    "    else:\n",
    "        print(\"This is not a list.\")"
   ]
  },
  {
   "cell_type": "code",
   "execution_count": 22,
   "metadata": {},
   "outputs": [
    {
     "name": "stdout",
     "output_type": "stream",
     "text": [
      "Correctly identified a list of length, 12 items.\n",
      "<class 'str'>\n",
      "<class 'int'>\n",
      "<class 'int'>\n",
      "<class 'int'>\n",
      "<class 'str'>\n",
      "<class 'str'>\n",
      "<class 'int'>\n",
      "<class 'int'>\n",
      "<class 'int'>\n",
      "<class 'int'>\n",
      "<class 'int'>\n",
      "<class 'int'>\n"
     ]
    }
   ],
   "source": [
    "list_scorer(list_a)"
   ]
  },
  {
   "cell_type": "code",
   "execution_count": 23,
   "metadata": {},
   "outputs": [
    {
     "name": "stdout",
     "output_type": "stream",
     "text": [
      "This is not a list.\n"
     ]
    }
   ],
   "source": [
    "list_scorer(\"Hello\")"
   ]
  },
  {
   "cell_type": "markdown",
   "metadata": {},
   "source": [
    "Let's also look at the 'return' statement. When you print something using the standard print syntax:<br>\n",
    "```\n",
    "print(\"Hello World!\")\n",
    "print(2**2)\n",
    "```\n",
    "it only displays that output to the screen. So in the case of `2**2` which is 4, the value is merely displayed, but it cannot be used by the program for any purpose.\n",
    "\n",
    "For that, we 'return' the value to the program. <br>\n",
    "<img src=\"images/simples.gif\">"
   ]
  },
  {
   "cell_type": "code",
   "execution_count": 24,
   "metadata": {
    "collapsed": true
   },
   "outputs": [],
   "source": [
    "def sq_num(num):\n",
    "    squared = num ** 2\n",
    "    return squared"
   ]
  },
  {
   "cell_type": "code",
   "execution_count": 25,
   "metadata": {},
   "outputs": [
    {
     "data": {
      "text/plain": [
       "100"
      ]
     },
     "execution_count": 25,
     "metadata": {},
     "output_type": "execute_result"
    }
   ],
   "source": [
    "sq_num(10)"
   ]
  },
  {
   "cell_type": "markdown",
   "metadata": {},
   "source": [
    "As with the print statement, you can perform this in a single line:"
   ]
  },
  {
   "cell_type": "code",
   "execution_count": 26,
   "metadata": {
    "collapsed": true
   },
   "outputs": [],
   "source": [
    "def sq_num2(num):\n",
    "    return num**2"
   ]
  },
  {
   "cell_type": "code",
   "execution_count": 27,
   "metadata": {},
   "outputs": [
    {
     "data": {
      "text/plain": [
       "25"
      ]
     },
     "execution_count": 27,
     "metadata": {},
     "output_type": "execute_result"
    }
   ],
   "source": [
    "sq_num2(5)"
   ]
  },
  {
   "cell_type": "markdown",
   "metadata": {},
   "source": [
    "For a data scientist, writing efficient functions can come in really handy during the data cleaning phase. Let's see one example."
   ]
  },
  {
   "cell_type": "code",
   "execution_count": 28,
   "metadata": {
    "collapsed": true
   },
   "outputs": [],
   "source": [
    "def clean_up(tel_num):\n",
    "    result = \"\"\n",
    "    digits = {\"0\",\"1\",\"2\",\"3\",\"4\",\"5\",\"6\",\"7\",\"8\",\"9\"}\n",
    "    for character in tel_num:\n",
    "        if character in digits:\n",
    "            result = result + character\n",
    "    return result  "
   ]
  },
  {
   "cell_type": "code",
   "execution_count": 29,
   "metadata": {},
   "outputs": [
    {
     "data": {
      "text/plain": [
       "'15551231234'"
      ]
     },
     "execution_count": 29,
     "metadata": {},
     "output_type": "execute_result"
    }
   ],
   "source": [
    "client_phone_num = \"+1-555-123-1234 Barone Sanitation (Call only day time)\"\n",
    "clean_up(client_phone_num)"
   ]
  },
  {
   "cell_type": "markdown",
   "metadata": {},
   "source": [
    "One important thing while dealing with functions. What happens inside a function, stays in a function.\n",
    "<img src=\"images/vegas.gif\">\n",
    "\n",
    "None of the variables defined inside a function can be called outside of it. Want to test it out?"
   ]
  },
  {
   "cell_type": "code",
   "execution_count": 30,
   "metadata": {
    "collapsed": true
   },
   "outputs": [],
   "source": [
    "def cubist(num):\n",
    "    cubed = num**3\n",
    "    return cubed"
   ]
  },
  {
   "cell_type": "code",
   "execution_count": 31,
   "metadata": {},
   "outputs": [
    {
     "data": {
      "text/plain": [
       "27"
      ]
     },
     "execution_count": 31,
     "metadata": {},
     "output_type": "execute_result"
    }
   ],
   "source": [
    "cubist(3)"
   ]
  },
  {
   "cell_type": "code",
   "execution_count": 32,
   "metadata": {},
   "outputs": [
    {
     "ename": "NameError",
     "evalue": "name 'cubed' is not defined",
     "output_type": "error",
     "traceback": [
      "\u001b[0;31m---------------------------------------------------------------------------\u001b[0m",
      "\u001b[0;31mNameError\u001b[0m                                 Traceback (most recent call last)",
      "\u001b[0;32m<ipython-input-32-41ef82e60e69>\u001b[0m in \u001b[0;36m<module>\u001b[0;34m()\u001b[0m\n\u001b[0;32m----> 1\u001b[0;31m \u001b[0mprint\u001b[0m\u001b[0;34m(\u001b[0m\u001b[0mcubed\u001b[0m\u001b[0;34m)\u001b[0m \u001b[0;31m# Will give an error\u001b[0m\u001b[0;34m\u001b[0m\u001b[0m\n\u001b[0m",
      "\u001b[0;31mNameError\u001b[0m: name 'cubed' is not defined"
     ]
    }
   ],
   "source": [
    "print(cubed) # Will give an error"
   ]
  },
  {
   "cell_type": "markdown",
   "metadata": {},
   "source": [
    "Remember, what happens in a function, stays in a function! Except `return`. That will come back!"
   ]
  },
  {
   "cell_type": "markdown",
   "metadata": {},
   "source": [
    "Let's write a function to generate a password. In input n will be an integer of any length. Of course, for practical purposes, this could be useless if we enter 100 or 100000.<br>\n",
    "\n",
    "Let's begin with some starter code.\n",
    "```\n",
    "import random\n",
    "import string\n",
    "random.choice(string.ascii_letters)\n",
    "```\n",
    "This will generate a random string. Let's find a way to use this to generate a password of any length."
   ]
  },
  {
   "cell_type": "code",
   "execution_count": 33,
   "metadata": {
    "collapsed": true
   },
   "outputs": [],
   "source": [
    "import random\n",
    "import string\n",
    "random.choice(string.ascii_letters)\n",
    "\n",
    "def pass_gen(n):\n",
    "    # Initiate a blank password\n",
    "    password = \"\"\n",
    "    # Remember, n+1\n",
    "    for letter in range(1,n+1):\n",
    "        # We add a random character to our blank password\n",
    "        password = password + random.choice(string.ascii_letters)\n",
    "    return password"
   ]
  },
  {
   "cell_type": "code",
   "execution_count": 34,
   "metadata": {},
   "outputs": [
    {
     "data": {
      "text/plain": [
       "'pRtHakaU'"
      ]
     },
     "execution_count": 34,
     "metadata": {},
     "output_type": "execute_result"
    }
   ],
   "source": [
    "pass_gen(8)"
   ]
  },
  {
   "cell_type": "markdown",
   "metadata": {},
   "source": [
    "## Exercise\n",
    "Here's a challenge for you. Can you modify the above code to make sure that a password is atleast 6 character, but not more than 20 character. The first letter must be a capital letter, and there has to be atleast 1 number. The code below can help with generating random capitalised characters, and numbers.\n",
    "```\n",
    "random.choice('ABCDEFGHIJKLMNOPQRSTUVXYZ')\n",
    "random.choice('123456789')\n",
    "```\n",
    "It's ok to struggle with this - the more you see different patterns of code, the more you learn. Don't panic if you can't figure it out in 2 minutes. Start out with writing some pseudo-code in plain English (or your native language), tracing out how you would go about this."
   ]
  },
  {
   "cell_type": "code",
   "execution_count": 17,
   "metadata": {},
   "outputs": [
    {
     "name": "stdout",
     "output_type": "stream",
     "text": [
      "M13B777Y7FZ8PU1PR32\n"
     ]
    }
   ],
   "source": [
    "import random\n",
    "string = list('ABCDEFGHIJKLMNOPQRSTUVXYZ')\n",
    "nums = list('123456789')\n",
    "\n",
    "def pass_gen(password, min_p, max_p):\n",
    "    # get random length of password\n",
    "    length = random.randint(min_p, max_p)\n",
    "\n",
    "    for letter in range(length):\n",
    "        next = random.choice(string) if random.randint(1,100) % 2 == 0 else random.choice(nums)\n",
    "        # We add a random character to our blank password\n",
    "        password = password + next\n",
    "    return password\n",
    "\n",
    "# Initiate a blank password\n",
    "password = \"\"\n",
    "# min password length\n",
    "min_p = 6\n",
    "# max password length\n",
    "max_p = 20\n",
    "password = pass_gen(password, min_p, max_p)\n",
    "print(password)"
   ]
  },
  {
   "cell_type": "code",
   "execution_count": null,
   "metadata": {},
   "outputs": [],
   "source": []
  },
  {
   "cell_type": "code",
   "execution_count": null,
   "metadata": {},
   "outputs": [],
   "source": []
  }
 ],
 "metadata": {
  "anaconda-cloud": {},
  "kernelspec": {
   "display_name": "Python 3",
   "language": "python",
   "name": "python3"
  },
  "language_info": {
   "codemirror_mode": {
    "name": "ipython",
    "version": 3
   },
   "file_extension": ".py",
   "mimetype": "text/x-python",
   "name": "python",
   "nbconvert_exporter": "python",
   "pygments_lexer": "ipython3",
   "version": "3.6.4"
  },
  "toc": {
   "colors": {
    "hover_highlight": "#DAA520",
    "running_highlight": "#FF0000",
    "selected_highlight": "#FFD700"
   },
   "moveMenuLeft": true,
   "nav_menu": {
    "height": "102px",
    "width": "252px"
   },
   "navigate_menu": true,
   "number_sections": true,
   "sideBar": true,
   "threshold": 4,
   "toc_cell": true,
   "toc_section_display": "block",
   "toc_window_display": true
  }
 },
 "nbformat": 4,
 "nbformat_minor": 2
}
