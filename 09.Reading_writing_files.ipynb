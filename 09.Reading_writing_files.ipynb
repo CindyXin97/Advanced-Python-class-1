{
 "cells": [
  {
   "cell_type": "markdown",
   "metadata": {
    "toc": "true"
   },
   "source": [
    "# Table of Contents\n",
    " <p><div class=\"lev1 toc-item\"><a href=\"#Reading-and-Writing-Files\" data-toc-modified-id=\"Reading-and-Writing-Files-1\"><span class=\"toc-item-num\">1&nbsp;&nbsp;</span>Reading and Writing Files</a></div><div class=\"lev2 toc-item\"><a href=\"#Reading-from-the-disk\" data-toc-modified-id=\"Reading-from-the-disk-11\"><span class=\"toc-item-num\">1.1&nbsp;&nbsp;</span>Reading from the disk</a></div><div class=\"lev2 toc-item\"><a href=\"#Processing-File-Contents\" data-toc-modified-id=\"Processing-File-Contents-12\"><span class=\"toc-item-num\">1.2&nbsp;&nbsp;</span>Processing File Contents</a></div><div class=\"lev2 toc-item\"><a href=\"#Exercise\" data-toc-modified-id=\"Exercise-13\"><span class=\"toc-item-num\">1.3&nbsp;&nbsp;</span>Exercise</a></div>"
   ]
  },
  {
   "cell_type": "markdown",
   "metadata": {},
   "source": [
    "# Reading and Writing Files\n",
    "So far, we have fed our code tiny snippets of data, whether in a list, or a dictionary, or some simple one line blocks of data.<br><br>\n",
    "As a data scientist, you will however be reading data from files on your server or on your computer. You will then process the data, run your analyses on it, and save the corresponding output to another file. <br> <br>\n",
    "In this section, we look at all the techniques needed for it.\n",
    "\n",
    "There are three modes in while files are accessed:\n",
    "+`r`: read-only mode.\n",
    "+`w`: write to a file. If you are not careful, this will overwrite an existing content.\n",
    "+`a`: append to a file. In simpler words, add to the end of the file.\n",
    "\n",
    "**Commonly Used Commands**\n",
    "+ `file.read()`: read contents of a file in its entirity, as one large string. Again, careful with this. Don't read a 30gb file when all of you have is a piddly 4gb machine.\n",
    "+ `file.write(a_string)`: writes to the file. Writes very often get buffered, and your current file may be a few write commands behind. Think of it as a bus not starting for its destination till a minimum number of passengers aren't on board. Python tries to be efficient in combining multiple writes.\n",
    "+ `file.flush()`: write out any buffered writes. Remember, you need to write before you flush.\n",
    "+ `file.close()`: close the open file. Always remember to close a file, else it stays in memory and will slow down the system eventually.\n"
   ]
  },
  {
   "cell_type": "code",
   "execution_count": 1,
   "metadata": {
    "collapsed": true
   },
   "outputs": [],
   "source": [
    "f = open(\"example.txt\", \"w\")\n",
    "f.write(\"I refuse to start with a Hello World!\\nThis is mutiny!\\n\")\n",
    "f.write(\"Ok, I withdraw my previous statements.\")\n",
    "f.flush()\n",
    "f.close()"
   ]
  },
  {
   "cell_type": "code",
   "execution_count": 2,
   "metadata": {},
   "outputs": [
    {
     "name": "stdout",
     "output_type": "stream",
     "text": [
      "I refuse to start with a Hello World!\r\n",
      "This is mutiny!\r\n",
      "Ok, I withdraw my previous statements."
     ]
    }
   ],
   "source": [
    "# Remember your Unix lessons?\n",
    "!cat example.txt"
   ]
  },
  {
   "cell_type": "markdown",
   "metadata": {},
   "source": [
    "## Reading from the disk"
   ]
  },
  {
   "cell_type": "code",
   "execution_count": 3,
   "metadata": {
    "collapsed": true
   },
   "outputs": [],
   "source": [
    "f2 = open(\"example.txt\", \"r\")\n",
    "f2_contents = f2.read()\n",
    "f2.close()"
   ]
  },
  {
   "cell_type": "code",
   "execution_count": 5,
   "metadata": {},
   "outputs": [
    {
     "data": {
      "text/plain": [
       "'I refuse to start with a Hello World!\\nThis is mutiny!\\nOk, I withdraw my previous statements.'"
      ]
     },
     "execution_count": 5,
     "metadata": {},
     "output_type": "execute_result"
    }
   ],
   "source": [
    "f2_contents"
   ]
  },
  {
   "cell_type": "markdown",
   "metadata": {},
   "source": [
    "As you can see, the contents of the file are now assigned to a variable, f2_contents. f2_contents is a string."
   ]
  },
  {
   "cell_type": "code",
   "execution_count": 6,
   "metadata": {},
   "outputs": [
    {
     "data": {
      "text/plain": [
       "str"
      ]
     },
     "execution_count": 6,
     "metadata": {},
     "output_type": "execute_result"
    }
   ],
   "source": [
    "type(f2_contents)"
   ]
  },
  {
   "cell_type": "markdown",
   "metadata": {},
   "source": [
    "## Processing File Contents"
   ]
  },
  {
   "cell_type": "markdown",
   "metadata": {},
   "source": [
    "Now that we have read from the file, we need to analyse it. Let's begin!"
   ]
  },
  {
   "cell_type": "code",
   "execution_count": 7,
   "metadata": {},
   "outputs": [
    {
     "data": {
      "text/plain": [
       "['I refuse to start with a Hello World!',\n",
       " 'This is mutiny!',\n",
       " 'Ok, I withdraw my previous statements.']"
      ]
     },
     "execution_count": 7,
     "metadata": {},
     "output_type": "execute_result"
    }
   ],
   "source": [
    "lines = f2_contents.split(\"\\n\")\n",
    "lines"
   ]
  },
  {
   "cell_type": "code",
   "execution_count": 8,
   "metadata": {},
   "outputs": [
    {
     "data": {
      "text/plain": [
       "3"
      ]
     },
     "execution_count": 8,
     "metadata": {},
     "output_type": "execute_result"
    }
   ],
   "source": [
    "len(lines)"
   ]
  },
  {
   "cell_type": "code",
   "execution_count": 9,
   "metadata": {},
   "outputs": [
    {
     "name": "stdout",
     "output_type": "stream",
     "text": [
      "37\n",
      "15\n",
      "38\n"
     ]
    }
   ],
   "source": [
    "for line in lines:\n",
    "    #print(\"Length of line '{}' is {}\".format(line, len(line)))\n",
    "    print (len(line))"
   ]
  },
  {
   "cell_type": "markdown",
   "metadata": {},
   "source": [
    "And of course, all this applies to numbers too."
   ]
  },
  {
   "cell_type": "code",
   "execution_count": 10,
   "metadata": {
    "scrolled": true
   },
   "outputs": [],
   "source": [
    "f = open(\"numbers.txt\", \"w\")\n",
    "for num in range(100):\n",
    "    f.write(str(num)+ '\\n')\n",
    "f.close()"
   ]
  },
  {
   "cell_type": "code",
   "execution_count": 11,
   "metadata": {
    "scrolled": true
   },
   "outputs": [
    {
     "name": "stdout",
     "output_type": "stream",
     "text": [
      "0\r\n",
      "1\r\n",
      "2\r\n",
      "3\r\n",
      "4\r\n",
      "5\r\n",
      "6\r\n",
      "7\r\n",
      "8\r\n",
      "9\r\n",
      "10\r\n",
      "11\r\n",
      "12\r\n",
      "13\r\n",
      "14\r\n",
      "15\r\n",
      "16\r\n",
      "17\r\n",
      "18\r\n",
      "19\r\n",
      "20\r\n",
      "21\r\n",
      "22\r\n",
      "23\r\n",
      "24\r\n",
      "25\r\n",
      "26\r\n",
      "27\r\n",
      "28\r\n",
      "29\r\n",
      "30\r\n",
      "31\r\n",
      "32\r\n",
      "33\r\n",
      "34\r\n",
      "35\r\n",
      "36\r\n",
      "37\r\n",
      "38\r\n",
      "39\r\n",
      "40\r\n",
      "41\r\n",
      "42\r\n",
      "43\r\n",
      "44\r\n",
      "45\r\n",
      "46\r\n",
      "47\r\n",
      "48\r\n",
      "49\r\n",
      "50\r\n",
      "51\r\n",
      "52\r\n",
      "53\r\n",
      "54\r\n",
      "55\r\n",
      "56\r\n",
      "57\r\n",
      "58\r\n",
      "59\r\n",
      "60\r\n",
      "61\r\n",
      "62\r\n",
      "63\r\n",
      "64\r\n",
      "65\r\n",
      "66\r\n",
      "67\r\n",
      "68\r\n",
      "69\r\n",
      "70\r\n",
      "71\r\n",
      "72\r\n",
      "73\r\n",
      "74\r\n",
      "75\r\n",
      "76\r\n",
      "77\r\n",
      "78\r\n",
      "79\r\n",
      "80\r\n",
      "81\r\n",
      "82\r\n",
      "83\r\n",
      "84\r\n",
      "85\r\n",
      "86\r\n",
      "87\r\n",
      "88\r\n",
      "89\r\n",
      "90\r\n",
      "91\r\n",
      "92\r\n",
      "93\r\n",
      "94\r\n",
      "95\r\n",
      "96\r\n",
      "97\r\n",
      "98\r\n",
      "99\r\n"
     ]
    }
   ],
   "source": [
    "!cat numbers.txt"
   ]
  },
  {
   "cell_type": "code",
   "execution_count": 12,
   "metadata": {},
   "outputs": [
    {
     "data": {
      "text/plain": [
       "'0\\n1\\n2\\n3\\n4\\n5\\n6\\n7\\n8\\n9\\n10\\n11\\n12\\n13\\n14\\n15\\n16\\n17\\n18\\n19\\n20\\n21\\n22\\n23\\n24\\n25\\n26\\n27\\n28\\n29\\n30\\n31\\n32\\n33\\n34\\n35\\n36\\n37\\n38\\n39\\n40\\n41\\n42\\n43\\n44\\n45\\n46\\n47\\n48\\n49\\n50\\n51\\n52\\n53\\n54\\n55\\n56\\n57\\n58\\n59\\n60\\n61\\n62\\n63\\n64\\n65\\n66\\n67\\n68\\n69\\n70\\n71\\n72\\n73\\n74\\n75\\n76\\n77\\n78\\n79\\n80\\n81\\n82\\n83\\n84\\n85\\n86\\n87\\n88\\n89\\n90\\n91\\n92\\n93\\n94\\n95\\n96\\n97\\n98\\n99\\n'"
      ]
     },
     "execution_count": 12,
     "metadata": {},
     "output_type": "execute_result"
    }
   ],
   "source": [
    "f = open('numbers.txt', 'r')\n",
    "f_content = f.read()\n",
    "f.close()\n",
    "f_content"
   ]
  },
  {
   "cell_type": "code",
   "execution_count": 13,
   "metadata": {},
   "outputs": [
    {
     "name": "stdout",
     "output_type": "stream",
     "text": [
      "['0', '1', '2', '3', '4', '5', '6', '7', '8', '9', '10', '11', '12', '13', '14', '15', '16', '17', '18', '19', '20', '21', '22', '23', '24', '25', '26', '27', '28', '29', '30', '31', '32', '33', '34', '35', '36', '37', '38', '39', '40', '41', '42', '43', '44', '45', '46', '47', '48', '49', '50', '51', '52', '53', '54', '55', '56', '57', '58', '59', '60', '61', '62', '63', '64', '65', '66', '67', '68', '69', '70', '71', '72', '73', '74', '75', '76', '77', '78', '79', '80', '81', '82', '83', '84', '85', '86', '87', '88', '89', '90', '91', '92', '93', '94', '95', '96', '97', '98', '99', '']\n"
     ]
    }
   ],
   "source": [
    "lines = f_content.split(\"\\n\")\n",
    "print(lines)"
   ]
  },
  {
   "cell_type": "code",
   "execution_count": 14,
   "metadata": {},
   "outputs": [
    {
     "data": {
      "text/plain": [
       "list"
      ]
     },
     "execution_count": 14,
     "metadata": {},
     "output_type": "execute_result"
    }
   ],
   "source": [
    "type(lines)"
   ]
  },
  {
   "cell_type": "code",
   "execution_count": 15,
   "metadata": {},
   "outputs": [
    {
     "data": {
      "text/plain": [
       "'0'"
      ]
     },
     "execution_count": 15,
     "metadata": {},
     "output_type": "execute_result"
    }
   ],
   "source": [
    "lines[0]"
   ]
  },
  {
   "cell_type": "code",
   "execution_count": 16,
   "metadata": {},
   "outputs": [
    {
     "data": {
      "text/plain": [
       "str"
      ]
     },
     "execution_count": 16,
     "metadata": {},
     "output_type": "execute_result"
    }
   ],
   "source": [
    "type(lines[0])"
   ]
  },
  {
   "cell_type": "code",
   "execution_count": 17,
   "metadata": {},
   "outputs": [
    {
     "ename": "ValueError",
     "evalue": "invalid literal for int() with base 10: ''",
     "output_type": "error",
     "traceback": [
      "\u001b[0;31m---------------------------------------------------------------------------\u001b[0m",
      "\u001b[0;31mValueError\u001b[0m                                Traceback (most recent call last)",
      "\u001b[0;32m<ipython-input-17-9b80a443dc1f>\u001b[0m in \u001b[0;36m<module>\u001b[0;34m()\u001b[0m\n\u001b[1;32m      1\u001b[0m \u001b[0;31m# Let's convert these into integers\u001b[0m\u001b[0;34m\u001b[0m\u001b[0;34m\u001b[0m\u001b[0m\n\u001b[0;32m----> 2\u001b[0;31m \u001b[0minteger_list\u001b[0m \u001b[0;34m=\u001b[0m \u001b[0;34m[\u001b[0m\u001b[0mint\u001b[0m\u001b[0;34m(\u001b[0m\u001b[0mnum\u001b[0m\u001b[0;34m)\u001b[0m \u001b[0;32mfor\u001b[0m \u001b[0mnum\u001b[0m \u001b[0;32min\u001b[0m \u001b[0mlines\u001b[0m\u001b[0;34m]\u001b[0m \u001b[0;31m# Oh no!\u001b[0m\u001b[0;34m\u001b[0m\u001b[0m\n\u001b[0m",
      "\u001b[0;32m<ipython-input-17-9b80a443dc1f>\u001b[0m in \u001b[0;36m<listcomp>\u001b[0;34m(.0)\u001b[0m\n\u001b[1;32m      1\u001b[0m \u001b[0;31m# Let's convert these into integers\u001b[0m\u001b[0;34m\u001b[0m\u001b[0;34m\u001b[0m\u001b[0m\n\u001b[0;32m----> 2\u001b[0;31m \u001b[0minteger_list\u001b[0m \u001b[0;34m=\u001b[0m \u001b[0;34m[\u001b[0m\u001b[0mint\u001b[0m\u001b[0;34m(\u001b[0m\u001b[0mnum\u001b[0m\u001b[0;34m)\u001b[0m \u001b[0;32mfor\u001b[0m \u001b[0mnum\u001b[0m \u001b[0;32min\u001b[0m \u001b[0mlines\u001b[0m\u001b[0;34m]\u001b[0m \u001b[0;31m# Oh no!\u001b[0m\u001b[0;34m\u001b[0m\u001b[0m\n\u001b[0m",
      "\u001b[0;31mValueError\u001b[0m: invalid literal for int() with base 10: ''"
     ]
    }
   ],
   "source": [
    "# Let's convert these into integers\n",
    "integer_list = [int(num) for num in lines] # Oh no!"
   ]
  },
  {
   "cell_type": "code",
   "execution_count": 18,
   "metadata": {},
   "outputs": [],
   "source": [
    "integer_list = [int(line) for line in lines if len(line)!= 0]"
   ]
  },
  {
   "cell_type": "code",
   "execution_count": 19,
   "metadata": {},
   "outputs": [
    {
     "data": {
      "text/plain": [
       "[0,\n",
       " 1,\n",
       " 2,\n",
       " 3,\n",
       " 4,\n",
       " 5,\n",
       " 6,\n",
       " 7,\n",
       " 8,\n",
       " 9,\n",
       " 10,\n",
       " 11,\n",
       " 12,\n",
       " 13,\n",
       " 14,\n",
       " 15,\n",
       " 16,\n",
       " 17,\n",
       " 18,\n",
       " 19,\n",
       " 20,\n",
       " 21,\n",
       " 22,\n",
       " 23,\n",
       " 24,\n",
       " 25,\n",
       " 26,\n",
       " 27,\n",
       " 28,\n",
       " 29,\n",
       " 30,\n",
       " 31,\n",
       " 32,\n",
       " 33,\n",
       " 34,\n",
       " 35,\n",
       " 36,\n",
       " 37,\n",
       " 38,\n",
       " 39,\n",
       " 40,\n",
       " 41,\n",
       " 42,\n",
       " 43,\n",
       " 44,\n",
       " 45,\n",
       " 46,\n",
       " 47,\n",
       " 48,\n",
       " 49,\n",
       " 50,\n",
       " 51,\n",
       " 52,\n",
       " 53,\n",
       " 54,\n",
       " 55,\n",
       " 56,\n",
       " 57,\n",
       " 58,\n",
       " 59,\n",
       " 60,\n",
       " 61,\n",
       " 62,\n",
       " 63,\n",
       " 64,\n",
       " 65,\n",
       " 66,\n",
       " 67,\n",
       " 68,\n",
       " 69,\n",
       " 70,\n",
       " 71,\n",
       " 72,\n",
       " 73,\n",
       " 74,\n",
       " 75,\n",
       " 76,\n",
       " 77,\n",
       " 78,\n",
       " 79,\n",
       " 80,\n",
       " 81,\n",
       " 82,\n",
       " 83,\n",
       " 84,\n",
       " 85,\n",
       " 86,\n",
       " 87,\n",
       " 88,\n",
       " 89,\n",
       " 90,\n",
       " 91,\n",
       " 92,\n",
       " 93,\n",
       " 94,\n",
       " 95,\n",
       " 96,\n",
       " 97,\n",
       " 98,\n",
       " 99]"
      ]
     },
     "execution_count": 19,
     "metadata": {},
     "output_type": "execute_result"
    }
   ],
   "source": [
    "integer_list"
   ]
  },
  {
   "cell_type": "code",
   "execution_count": 20,
   "metadata": {},
   "outputs": [
    {
     "data": {
      "text/plain": [
       "0"
      ]
     },
     "execution_count": 20,
     "metadata": {},
     "output_type": "execute_result"
    }
   ],
   "source": [
    "integer_list[0]"
   ]
  },
  {
   "cell_type": "code",
   "execution_count": 21,
   "metadata": {},
   "outputs": [
    {
     "data": {
      "text/plain": [
       "list"
      ]
     },
     "execution_count": 21,
     "metadata": {},
     "output_type": "execute_result"
    }
   ],
   "source": [
    "type(integer_list)"
   ]
  },
  {
   "cell_type": "code",
   "execution_count": 22,
   "metadata": {},
   "outputs": [
    {
     "data": {
      "text/plain": [
       "int"
      ]
     },
     "execution_count": 22,
     "metadata": {},
     "output_type": "execute_result"
    }
   ],
   "source": [
    "type(integer_list[0])"
   ]
  },
  {
   "cell_type": "markdown",
   "metadata": {},
   "source": [
    "And finally - time to be a....\n",
    "<img src=\"images/sani.jpg\">"
   ]
  },
  {
   "cell_type": "code",
   "execution_count": 23,
   "metadata": {
    "collapsed": true
   },
   "outputs": [],
   "source": [
    "!rm example.txt\n",
    "!rm numbers.txt"
   ]
  },
  {
   "cell_type": "markdown",
   "metadata": {},
   "source": [
    "## Exercise\n",
    "All our theory has to lead to something. And here we have a hands on challenge. And just so you're not completely stumped by it, this is a problem you have partially worked on before. \n",
    "\n",
    "As a data scientist, about 70 to 80% of your job will actually be exploring data sets, cleaning it, and running exploratory tests again on cleaned data sets. Modeling and predictions are trivial once the heavy lifting has been done, and I'm not exagerrating. Find any data scientist, and ask him or her what the most time consuming part of their job is. \n",
    "\n",
    "Let's go to https://fakenumber.org/ and generate a few fake phone numbers. Then let's change it to look like a real world txt file with copied texts from multiple sources, words, names, extension numbers etc. Make it as difficult as possible for you. You have to keep challenging yourself to get to a higher and higher level. Think of it as playing COD/Super Mario/Contra/your favourite game. I have posted the solution a few boxes below, but this is for you to challenge yourself. No one's looking, and you can't cheat yourself!"
   ]
  },
  {
   "cell_type": "code",
   "execution_count": 1,
   "metadata": {},
   "outputs": [
    {
     "ename": "SyntaxError",
     "evalue": "invalid syntax (<ipython-input-1-001b79f500ef>, line 2)",
     "output_type": "error",
     "traceback": [
      "\u001b[1;36m  File \u001b[1;32m\"<ipython-input-1-001b79f500ef>\"\u001b[1;36m, line \u001b[1;32m2\u001b[0m\n\u001b[1;33m    %%file Data/phonenumbers.txt\u001b[0m\n\u001b[1;37m    ^\u001b[0m\n\u001b[1;31mSyntaxError\u001b[0m\u001b[1;31m:\u001b[0m invalid syntax\n"
     ]
    }
   ],
   "source": [
    "# This will create the phonenumbers.txt file. Unix FTW again!\n",
    "%%file Data/phonenumbers.txt\n",
    "202-555-0116\n",
    "202-555-0181 Jill\n",
    "202-555-0142\n",
    "202-(555)-0173 Bryan\n",
    "+1-202-555-0116\n",
    "+1-202-555-0181\n",
    "+1-202-555-0142 Raj\n",
    "+1-202-555-0173\n",
    "+1-(202)-555-0137 Jonah Lomu\n",
    "Not really free 800-555-1231x1234\n",
    "800-555-1212 ext. 1234\n",
    "work 1-(800) 555.1212 #1234"
   ]
  },
  {
   "cell_type": "code",
   "execution_count": 2,
   "metadata": {},
   "outputs": [
    {
     "data": {
      "text/plain": [
       "['202-555-0116',\n",
       " '202-555-0181',\n",
       " 'Jill',\n",
       " '202-555-0142',\n",
       " '202-(555)-0173',\n",
       " 'Bryan',\n",
       " '+1-202-555-0116',\n",
       " '+1-202-555-0181',\n",
       " '+1-202-555-0142',\n",
       " 'Raj',\n",
       " '+1-202-555-0173',\n",
       " '+1-(202)-555-0137',\n",
       " 'Jonah',\n",
       " 'Lomu',\n",
       " 'Not',\n",
       " 'really',\n",
       " 'free',\n",
       " '800-555-1231x1234',\n",
       " '800-555-1212',\n",
       " 'ext.',\n",
       " '1234',\n",
       " 'work',\n",
       " '1-(800)',\n",
       " '555.1212',\n",
       " '#1234']"
      ]
     },
     "execution_count": 2,
     "metadata": {},
     "output_type": "execute_result"
    }
   ],
   "source": [
    "f = open(\"phonenumbers.txt\", \"r\")\n",
    "content = f.read()\n",
    "f.close()\n",
    "content\n",
    "# content = content.replace('\\n',\"','\")\n",
    "content = content.split()\n",
    "content"
   ]
  },
  {
   "cell_type": "code",
   "execution_count": 5,
   "metadata": {},
   "outputs": [
    {
     "name": "stdout",
     "output_type": "stream",
     "text": [
      "['2025550116', '2025550181', '2025550142', '2025550173', '2025550116', '2025550181', '2025550142', '2025550173', '2025550137', '8005551212']\n"
     ]
    }
   ],
   "source": [
    "nums = list('0123456789')\n",
    "new_content = []\n",
    "# print(nums)\n",
    "for i in range(len(content)):\n",
    "    orig_list = content[i]\n",
    "    # print('orig list item ',orig_list)\n",
    "    new_list = []\n",
    "    for x in orig_list:\n",
    "        if x in nums:\n",
    "            new_list.append(x)\n",
    "    if len(new_list) == 11 and new_list[0] == '1':\n",
    "        new_list.pop(0)\n",
    "    # print(new_list)\n",
    "    \n",
    "    if len(new_list) == 10:\n",
    "        x = ''.join(new_list)\n",
    "        new_content.append(x)\n",
    "# print()\n",
    "print(new_content)\n"
   ]
  },
  {
   "cell_type": "code",
   "execution_count": 31,
   "metadata": {},
   "outputs": [
    {
     "data": {
      "text/plain": [
       "25"
      ]
     },
     "execution_count": 31,
     "metadata": {},
     "output_type": "execute_result"
    }
   ],
   "source": [
    "x = len(content)\n",
    "x"
   ]
  },
  {
   "cell_type": "code",
   "execution_count": null,
   "metadata": {
    "collapsed": true
   },
   "outputs": [],
   "source": []
  },
  {
   "cell_type": "code",
   "execution_count": null,
   "metadata": {
    "collapsed": true
   },
   "outputs": [],
   "source": []
  },
  {
   "cell_type": "code",
   "execution_count": null,
   "metadata": {
    "collapsed": true
   },
   "outputs": [],
   "source": []
  },
  {
   "cell_type": "code",
   "execution_count": null,
   "metadata": {},
   "outputs": [],
   "source": [
    "ls"
   ]
  },
  {
   "cell_type": "code",
   "execution_count": null,
   "metadata": {
    "collapsed": true
   },
   "outputs": [],
   "source": [
    "def clean_up(phone_num):\n",
    "    number = \"\"\n",
    "    digits = {\"0\",\"1\",\"2\",\"3\",\"4\",\"5\",\"6\",\"7\",\"8\",\"9\"}\n",
    "    \n",
    "    for char in phone_num:\n",
    "        if char in digits:\n",
    "            number = result + c\n",
    "    return number "
   ]
  },
  {
   "cell_type": "code",
   "execution_count": null,
   "metadata": {
    "collapsed": true
   },
   "outputs": [],
   "source": [
    "f = open(\"Data/phonenumbers.txt\", \"r\")\n",
    "content = f.read()\n",
    "f.close()"
   ]
  },
  {
   "cell_type": "code",
   "execution_count": null,
   "metadata": {},
   "outputs": [],
   "source": [
    "# Let's have a peek at the file\n",
    "content"
   ]
  },
  {
   "cell_type": "code",
   "execution_count": null,
   "metadata": {
    "collapsed": true
   },
   "outputs": [],
   "source": [
    "# Time to split the lines\n",
    "lines = content.split(\"\\n\")"
   ]
  },
  {
   "cell_type": "code",
   "execution_count": null,
   "metadata": {},
   "outputs": [],
   "source": [
    "\"\"\"\n",
    "I am only doing this since we know there are a couple of lines\n",
    "Else, please don't print the whole file. There are other techniques\n",
    "to look at snippets of data from within a file, and we will go over\n",
    "them in later lessons.\n",
    "\"\"\"\n",
    "lines"
   ]
  },
  {
   "cell_type": "code",
   "execution_count": null,
   "metadata": {},
   "outputs": [],
   "source": [
    "for line in lines:\n",
    "    print(clean(line))"
   ]
  }
 ],
 "metadata": {
  "anaconda-cloud": {},
  "kernelspec": {
   "display_name": "Python 3",
   "language": "python",
   "name": "python3"
  },
  "language_info": {
   "codemirror_mode": {
    "name": "ipython",
    "version": 3
   },
   "file_extension": ".py",
   "mimetype": "text/x-python",
   "name": "python",
   "nbconvert_exporter": "python",
   "pygments_lexer": "ipython3",
   "version": "3.6.4"
  },
  "toc": {
   "colors": {
    "hover_highlight": "#DAA520",
    "running_highlight": "#FF0000",
    "selected_highlight": "#FFD700"
   },
   "moveMenuLeft": true,
   "nav_menu": {
    "height": "84px",
    "width": "252px"
   },
   "navigate_menu": true,
   "number_sections": true,
   "sideBar": true,
   "threshold": 4,
   "toc_cell": true,
   "toc_section_display": "block",
   "toc_window_display": true
  }
 },
 "nbformat": 4,
 "nbformat_minor": 2
}
